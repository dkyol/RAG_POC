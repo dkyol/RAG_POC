{
 "cells": [
  {
   "cell_type": "markdown",
   "id": "a1c98c44-0505-43b2-957c-86aa4d0e621e",
   "metadata": {
    "id": "a1c98c44-0505-43b2-957c-86aa4d0e621e"
   },
   "source": [
    "<center><a href=\"https://www.nvidia.com/en-us/training/\"><img src=\"https://dli-lms.s3.amazonaws.com/assets/general/DLI_Header_White.png\" width=\"400\" height=\"186\" /></a></center>"
   ]
  },
  {
   "cell_type": "markdown",
   "id": "Qk4Uw_iSr3Mc",
   "metadata": {
    "id": "Qk4Uw_iSr3Mc"
   },
   "source": [
    "\n",
    "\n",
    "### **Notebook Source:**\n",
    "\n",
    "- This notebook is part of a larger [**NVIDIA Deep Learning Institute**](https://www.nvidia.com/en-us/training/) course titled [**Building RAG Agents with LLMs**](https://www.nvidia.com/en-sg/training/instructor-led-workshops/building-rag-agents-with-llms/). If sharing this material, please give credit and link back to the original course.\n",
    "\n",
    "<br>\n",
    "\n",
    "\n",
    "### **Environment Setup:**"
   ]
  },
  {
   "cell_type": "code",
   "execution_count": 1,
   "id": "5XmeiiOWtuxC",
   "metadata": {
    "id": "5XmeiiOWtuxC"
   },
   "outputs": [],
   "source": [
    "# %%capture\n",
    "## ^^ Comment out if you want to see the pip install process\n",
    "\n",
    "## Necessary for Colab, not necessary for course environment\n",
    "# %pip install -q langchain langchain-nvidia-ai-endpoints gradio rich\n",
    "# %pip install -q arxiv pymupdf faiss-cpu\n",
    "\n",
    "## If you encounter a typing-extensions issue, restart your runtime and try again\n",
    "# from langchain_nvidia_ai_endpoints import ChatNVIDIA\n",
    "# ChatNVIDIA.get_available_models()\n",
    "\n",
    "from functools import partial\n",
    "from rich.console import Console\n",
    "from rich.style import Style\n",
    "from rich.theme import Theme\n",
    "\n",
    "console = Console()\n",
    "base_style = Style(color=\"#76B900\", bold=True)\n",
    "pprint = partial(console.print, style=base_style)"
   ]
  },
  {
   "cell_type": "code",
   "execution_count": 2,
   "id": "e37fe234-2bdb-4107-8483-efda9aa5e4ab",
   "metadata": {},
   "outputs": [],
   "source": [
    "from langchain_nvidia_ai_endpoints import ChatNVIDIA, NVIDIAEmbeddings\n",
    "\n",
    "# NVIDIAEmbeddings.get_available_models()\n",
    "embedder = NVIDIAEmbeddings(model=\"nvidia/embed-qa-4\", truncate=\"END\")\n",
    "\n",
    "# ChatNVIDIA.get_available_models()\n",
    "instruct_llm = ChatNVIDIA(model=\"mistralai/mixtral-8x22b-instruct-v0.1\")"
   ]
  },
  {
   "cell_type": "markdown",
   "id": "a3ced9b0-30ed-4ccc-936f-ca03d6e172bf",
   "metadata": {
    "id": "a3ced9b0-30ed-4ccc-936f-ca03d6e172bf"
   },
   "source": [
    "----\n",
    "\n",
    "<br>\n",
    "\n",
    "## Part 1: Summary of RAG Workflows\n",
    "\n",
    "This notebook will explore several paradigms and derive reference code to help you approach some of the most common retrieval-augmented workflows. Specifically, the following sections will be covered (with the differences highlighted):\n",
    "\n",
    "<br>\n",
    "\n",
    "> ***Vector Store Workflow for Conversational Exchanges:***\n",
    "- Generate semantic embedding for each new conversation.\n",
    "- Add the message body to a vector store for retrieval.\n",
    "- Query the vector store for relevant messages to fill in the LLM context.\n",
    "\n",
    "<br>\n",
    "\n",
    "> ***Modified Workflow for an Arbitrary Document:***\n",
    "- **Divide the document into chunks and process them into useful messages.**\n",
    "- Generate semantic embedding for each **new document chunk**.\n",
    "- Add the **chunk bodies** to a vector store for retrieval.\n",
    "- Query the vector store for relevant **chunks** to fill in the LLM context.\n",
    "    - ***Optional:* Modify/synthesize results for better LLM results.**\n",
    "\n",
    "<br>\n",
    "\n",
    "> **Extended Workflow for a Directory of Arbitrary Documents:**\n",
    "- Divide **each document** into chunks and process them into useful messages.\n",
    "- Generate semantic embedding for each new document chunk.\n",
    "- Add the chunk bodies to **a scalable vector database for fast retrieval**.\n",
    "    - ***Optional*: Exploit hierarchical or metadata structures for larger systems.**\n",
    "- Query the **vector database** for relevant chunks to fill in the LLM context.\n",
    "    - *Optional:* Modify/synthesize results for better LLM results.\n",
    "\n",
    "<br>\n",
    "\n",
    "Some of the most important terminology surrounding RAG is covered in detail on the [**LlamaIndex Concepts page**](https://docs.llamaindex.ai/en/stable/getting_started/concepts.html), which itself is a great starting point for progressing towards the LlamaIndex loading and retrieving strategy. We highly recommend using it as a reference as you continue with this notebook and advise you to try out LlamaIndex after the course to consider the pros and cons firsthand!\n"
   ]
  },
  {
   "cell_type": "markdown",
   "id": "baa1911b-a6a2-47c5-bc66-1b61e6516437",
   "metadata": {
    "id": "baa1911b-a6a2-47c5-bc66-1b61e6516437"
   },
   "source": [
    "<!-- > <img src=\"https://drive.google.com/uc?export=view&id=1cFbKbVvLLnFPs3yWCKIuzXkhBWh6nLQY\" width=1200px/> -->\n",
    "> <img src=\"https://dli-lms.s3.amazonaws.com/assets/s-fx-15-v1/imgs/data_connection_langchain.jpeg\" width=1200px/>\n",
    ">\n",
    "> From [**Retrieval | LangChain**🦜️🔗](https://python.langchain.com/docs/modules/data_connection/)"
   ]
  },
  {
   "cell_type": "markdown",
   "id": "XaZ20XoeSTD-",
   "metadata": {
    "id": "XaZ20XoeSTD-"
   },
   "source": [
    "----\n",
    "\n",
    "<br>\n",
    "\n",
    "## **Part 2:** RAG for Conversation History\n",
    "\n",
    "In our previous explorations, we delved into the capabilities of document embedding models and used them to embed, store, and compare semantic vector representations of text. Though we could motivate how to efficiently extend this into vector store land manually, the true beauty of working with a standard API is its strong incorporation with other frameworks that can already do the heavy lifting for us!\n",
    "\n",
    "<br>"
   ]
  },
  {
   "cell_type": "markdown",
   "id": "LRx0XUf_Sdxw",
   "metadata": {
    "id": "LRx0XUf_Sdxw"
   },
   "source": [
    "### **Step 1**: Getting A Conversation\n",
    "\n",
    "Consider a conversation crafted using Llama-13B between a chat agent and a blue bear named Beras. This dialogue, dense with details and potential diversions, provides a rich dataset for our study:\n"
   ]
  },
  {
   "cell_type": "code",
   "execution_count": 3,
   "id": "IUfCuMkoShWI",
   "metadata": {
    "id": "IUfCuMkoShWI"
   },
   "outputs": [],
   "source": [
    "conversation = [  ## This conversation was generated partially by an AI system, and modified to exhibit desirable properties\n",
    "    \"[User]  Hello! My name is Beras, and I'm a big blue bear! Can you please tell me about the rocky mountains?\",\n",
    "    \"[Agent] The Rocky Mountains are a beautiful and majestic range of mountains that stretch across North America\",\n",
    "    \"[Beras] Wow, that sounds amazing! Ive never been to the Rocky Mountains before, but Ive heard many great things about them.\",\n",
    "    \"[Agent] I hope you get to visit them someday, Beras! It would be a great adventure for you!\"\n",
    "    \"[Beras] Thank you for the suggestion! Ill definitely keep it in mind for the future.\",\n",
    "    \"[Agent] In the meantime, you can learn more about the Rocky Mountains by doing some research online or watching documentaries about them.\"\n",
    "    \"[Beras] I live in the arctic, so I'm not used to the warm climate there. I was just curious, ya know!\",\n",
    "    \"[Agent] Absolutely! Lets continue the conversation and explore more about the Rocky Mountains and their significance!\"\n",
    "]"
   ]
  },
  {
   "cell_type": "markdown",
   "id": "tDL2tAo2Skh2",
   "metadata": {
    "id": "tDL2tAo2Skh2"
   },
   "source": [
    "Using the manual embedding strategy from the previous notebook is still very viable, but we can also rest easy and let a **vector store** do all that work for us!\n",
    "\n",
    "<br>"
   ]
  },
  {
   "cell_type": "markdown",
   "id": "5hIp943mSqGZ",
   "metadata": {
    "id": "5hIp943mSqGZ"
   },
   "source": [
    "### **Step 2:** Constructing Our Vector Store Retriever\n",
    "\n",
    "To streamline similarity queries on our conversation, we can employ a vector store to help keep track of passages for us! **Vector Stores**, or vector storage systems, abstract away most of the low-level details of the embedding/comparison strategies and provide a simple interface to load and compare vectors.\n"
   ]
  },
  {
   "cell_type": "markdown",
   "id": "pnaOBgexS-kp",
   "metadata": {
    "id": "pnaOBgexS-kp"
   },
   "source": [
    "<!-- > <img src=\"https://drive.google.com/uc?export=view&id=1ZjwYbSZzsXK6ZP8O1-cY3BeRffV4oqzb\" width=1000px/> -->\n",
    "> <img src=\"https://dli-lms.s3.amazonaws.com/assets/s-fx-15-v1/imgs/vector_stores.jpeg\" width=1200px/>\n",
    ">\n",
    "> From [**Vector Stores | LangChain**🦜️🔗](https://python.langchain.com/docs/modules/data_connection/vectorstores/)"
   ]
  },
  {
   "cell_type": "markdown",
   "id": "DwZUh6kgS5Ki",
   "metadata": {
    "id": "DwZUh6kgS5Ki"
   },
   "source": [
    "<br>\n",
    "\n",
    "In addition to simplifying the process from an API perspective, vector stores also implement connectors, integrations, and optimizations under the hood. In our case, we will start with the [**FAISS vector store**](https://python.langchain.com/docs/integrations/vectorstores/faiss), which integrates a LangChain-compatable Embedding model with the [**FAISS (Facebook AI Similarity Search)**](https://github.com/facebookresearch/faiss) library to make the process fast and scalable on our local machine!\n",
    "\n",
    "**Specifically:**\n",
    "\n",
    "1. We can feed our conversation into [**a FAISS vector store**](https://python.langchain.com/docs/integrations/vectorstores/faiss) via the `from_texts` constructor. This will take our conversational data and the embedding model to create a searchable index over our discussion.\n",
    "2. This vector store can then be \"interpreted\" as a retriever, supporting the LangChain runnable API and returning documents retrieved via an input query.\n",
    "\n",
    "The following shows how you can construct a FAISS vector store and reinterpret it as a retriever using the LangChain `vectorstore` API:"
   ]
  },
  {
   "cell_type": "code",
   "execution_count": 4,
   "id": "1kE2-ejoTKKU",
   "metadata": {
    "id": "1kE2-ejoTKKU"
   },
   "outputs": [
    {
     "name": "stdout",
     "output_type": "stream",
     "text": [
      "CPU times: user 170 ms, sys: 330 ms, total: 500 ms\n",
      "Wall time: 1.88 s\n"
     ]
    }
   ],
   "source": [
    "%%time\n",
    "## ^^ This cell will be timed to see how long the conversation embedding takes\n",
    "from langchain_nvidia_ai_endpoints import NVIDIAEmbeddings\n",
    "from langchain.vectorstores import FAISS\n",
    "\n",
    "## Streamlined from_texts FAISS vectorstore construction from text list\n",
    "convstore = FAISS.from_texts(conversation, embedding=embedder)\n",
    "retriever = convstore.as_retriever()"
   ]
  },
  {
   "cell_type": "markdown",
   "id": "muN66v5PW5dW",
   "metadata": {
    "id": "muN66v5PW5dW"
   },
   "source": [
    "The retriever can now be used like any other LangChain runnable to query the vector store for some relevant documents:"
   ]
  },
  {
   "cell_type": "code",
   "execution_count": 5,
   "id": "kNZJTnlEWVYh",
   "metadata": {
    "id": "kNZJTnlEWVYh"
   },
   "outputs": [
    {
     "data": {
      "text/html": [
       "<pre style=\"white-space:pre;overflow-x:auto;line-height:normal;font-family:Menlo,'DejaVu Sans Mono',consolas,'Courier New',monospace\"><span style=\"color: #76b900; text-decoration-color: #76b900; font-weight: bold\">[</span>\n",
       "<span style=\"color: #76b900; text-decoration-color: #76b900; font-weight: bold\">    </span><span style=\"color: #800080; text-decoration-color: #800080; font-weight: bold\">Document</span><span style=\"color: #76b900; text-decoration-color: #76b900; font-weight: bold\">(</span>\n",
       "<span style=\"color: #76b900; text-decoration-color: #76b900; font-weight: bold\">        </span><span style=\"color: #808000; text-decoration-color: #808000; font-weight: bold\">page_content</span><span style=\"color: #76b900; text-decoration-color: #76b900; font-weight: bold\">=</span><span style=\"color: #008000; text-decoration-color: #008000\">\"[User]  Hello! My name is Beras, and I'm a big blue bear! Can you please tell me about the </span>\n",
       "<span style=\"color: #008000; text-decoration-color: #008000\">rocky mountains?\"</span>\n",
       "<span style=\"color: #76b900; text-decoration-color: #76b900; font-weight: bold\">    ),</span>\n",
       "<span style=\"color: #76b900; text-decoration-color: #76b900; font-weight: bold\">    </span><span style=\"color: #800080; text-decoration-color: #800080; font-weight: bold\">Document</span><span style=\"color: #76b900; text-decoration-color: #76b900; font-weight: bold\">(</span>\n",
       "<span style=\"color: #76b900; text-decoration-color: #76b900; font-weight: bold\">        </span><span style=\"color: #808000; text-decoration-color: #808000; font-weight: bold\">page_content</span><span style=\"color: #76b900; text-decoration-color: #76b900; font-weight: bold\">=</span><span style=\"color: #008000; text-decoration-color: #008000\">'[Agent] Absolutely! Lets continue the conversation and explore more about the Rocky Mountains</span>\n",
       "<span style=\"color: #008000; text-decoration-color: #008000\">and their significance!'</span>\n",
       "<span style=\"color: #76b900; text-decoration-color: #76b900; font-weight: bold\">    ),</span>\n",
       "<span style=\"color: #76b900; text-decoration-color: #76b900; font-weight: bold\">    </span><span style=\"color: #800080; text-decoration-color: #800080; font-weight: bold\">Document</span><span style=\"color: #76b900; text-decoration-color: #76b900; font-weight: bold\">(</span>\n",
       "<span style=\"color: #76b900; text-decoration-color: #76b900; font-weight: bold\">        </span><span style=\"color: #808000; text-decoration-color: #808000; font-weight: bold\">page_content</span><span style=\"color: #76b900; text-decoration-color: #76b900; font-weight: bold\">=</span><span style=\"color: #008000; text-decoration-color: #008000\">'[Agent] The Rocky Mountains are a beautiful and majestic range of mountains that stretch </span>\n",
       "<span style=\"color: #008000; text-decoration-color: #008000\">across North America'</span>\n",
       "<span style=\"color: #76b900; text-decoration-color: #76b900; font-weight: bold\">    ),</span>\n",
       "<span style=\"color: #76b900; text-decoration-color: #76b900; font-weight: bold\">    </span><span style=\"color: #800080; text-decoration-color: #800080; font-weight: bold\">Document</span><span style=\"color: #76b900; text-decoration-color: #76b900; font-weight: bold\">(</span>\n",
       "<span style=\"color: #76b900; text-decoration-color: #76b900; font-weight: bold\">        </span><span style=\"color: #808000; text-decoration-color: #808000; font-weight: bold\">page_content</span><span style=\"color: #76b900; text-decoration-color: #76b900; font-weight: bold\">=</span><span style=\"color: #008000; text-decoration-color: #008000\">\"[Agent] In the meantime, you can learn more about the Rocky Mountains by doing some research </span>\n",
       "<span style=\"color: #008000; text-decoration-color: #008000\">online or watching documentaries about them.[Beras] I live in the arctic, so I'm not used to the warm climate </span>\n",
       "<span style=\"color: #008000; text-decoration-color: #008000\">there. I was just curious, ya know!\"</span>\n",
       "<span style=\"color: #76b900; text-decoration-color: #76b900; font-weight: bold\">    )</span>\n",
       "<span style=\"color: #76b900; text-decoration-color: #76b900; font-weight: bold\">]</span>\n",
       "</pre>\n"
      ],
      "text/plain": [
       "\u001b[1;38;2;118;185;0m[\u001b[0m\n",
       "\u001b[1;38;2;118;185;0m    \u001b[0m\u001b[1;35mDocument\u001b[0m\u001b[1;38;2;118;185;0m(\u001b[0m\n",
       "\u001b[1;38;2;118;185;0m        \u001b[0m\u001b[1;33mpage_content\u001b[0m\u001b[1;38;2;118;185;0m=\u001b[0m\u001b[32m\"\u001b[0m\u001b[32m[\u001b[0m\u001b[32mUser\u001b[0m\u001b[32m]\u001b[0m\u001b[32m  Hello! My name is Beras, and I'm a big blue bear! Can you please tell me about the \u001b[0m\n",
       "\u001b[32mrocky mountains?\"\u001b[0m\n",
       "\u001b[1;38;2;118;185;0m    \u001b[0m\u001b[1;38;2;118;185;0m)\u001b[0m\u001b[1;38;2;118;185;0m,\u001b[0m\n",
       "\u001b[1;38;2;118;185;0m    \u001b[0m\u001b[1;35mDocument\u001b[0m\u001b[1;38;2;118;185;0m(\u001b[0m\n",
       "\u001b[1;38;2;118;185;0m        \u001b[0m\u001b[1;33mpage_content\u001b[0m\u001b[1;38;2;118;185;0m=\u001b[0m\u001b[32m'\u001b[0m\u001b[32m[\u001b[0m\u001b[32mAgent\u001b[0m\u001b[32m]\u001b[0m\u001b[32m Absolutely! Lets continue the conversation and explore more about the Rocky Mountains\u001b[0m\n",
       "\u001b[32mand their significance!'\u001b[0m\n",
       "\u001b[1;38;2;118;185;0m    \u001b[0m\u001b[1;38;2;118;185;0m)\u001b[0m\u001b[1;38;2;118;185;0m,\u001b[0m\n",
       "\u001b[1;38;2;118;185;0m    \u001b[0m\u001b[1;35mDocument\u001b[0m\u001b[1;38;2;118;185;0m(\u001b[0m\n",
       "\u001b[1;38;2;118;185;0m        \u001b[0m\u001b[1;33mpage_content\u001b[0m\u001b[1;38;2;118;185;0m=\u001b[0m\u001b[32m'\u001b[0m\u001b[32m[\u001b[0m\u001b[32mAgent\u001b[0m\u001b[32m]\u001b[0m\u001b[32m The Rocky Mountains are a beautiful and majestic range of mountains that stretch \u001b[0m\n",
       "\u001b[32macross North America'\u001b[0m\n",
       "\u001b[1;38;2;118;185;0m    \u001b[0m\u001b[1;38;2;118;185;0m)\u001b[0m\u001b[1;38;2;118;185;0m,\u001b[0m\n",
       "\u001b[1;38;2;118;185;0m    \u001b[0m\u001b[1;35mDocument\u001b[0m\u001b[1;38;2;118;185;0m(\u001b[0m\n",
       "\u001b[1;38;2;118;185;0m        \u001b[0m\u001b[1;33mpage_content\u001b[0m\u001b[1;38;2;118;185;0m=\u001b[0m\u001b[32m\"\u001b[0m\u001b[32m[\u001b[0m\u001b[32mAgent\u001b[0m\u001b[32m]\u001b[0m\u001b[32m In the meantime, you can learn more about the Rocky Mountains by doing some research \u001b[0m\n",
       "\u001b[32monline or watching documentaries about them.\u001b[0m\u001b[32m[\u001b[0m\u001b[32mBeras\u001b[0m\u001b[32m]\u001b[0m\u001b[32m I live in the arctic, so I'm not used to the warm climate \u001b[0m\n",
       "\u001b[32mthere. I was just curious, ya know!\"\u001b[0m\n",
       "\u001b[1;38;2;118;185;0m    \u001b[0m\u001b[1;38;2;118;185;0m)\u001b[0m\n",
       "\u001b[1;38;2;118;185;0m]\u001b[0m\n"
      ]
     },
     "metadata": {},
     "output_type": "display_data"
    }
   ],
   "source": [
    "pprint(retriever.invoke(\"What is your name?\"))"
   ]
  },
  {
   "cell_type": "code",
   "execution_count": 6,
   "id": "SE1eDZTEWScC",
   "metadata": {
    "id": "SE1eDZTEWScC"
   },
   "outputs": [
    {
     "data": {
      "text/html": [
       "<pre style=\"white-space:pre;overflow-x:auto;line-height:normal;font-family:Menlo,'DejaVu Sans Mono',consolas,'Courier New',monospace\"><span style=\"color: #76b900; text-decoration-color: #76b900; font-weight: bold\">[</span>\n",
       "<span style=\"color: #76b900; text-decoration-color: #76b900; font-weight: bold\">    </span><span style=\"color: #800080; text-decoration-color: #800080; font-weight: bold\">Document</span><span style=\"color: #76b900; text-decoration-color: #76b900; font-weight: bold\">(</span>\n",
       "<span style=\"color: #76b900; text-decoration-color: #76b900; font-weight: bold\">        </span><span style=\"color: #808000; text-decoration-color: #808000; font-weight: bold\">page_content</span><span style=\"color: #76b900; text-decoration-color: #76b900; font-weight: bold\">=</span><span style=\"color: #008000; text-decoration-color: #008000\">'[Agent] The Rocky Mountains are a beautiful and majestic range of mountains that stretch </span>\n",
       "<span style=\"color: #008000; text-decoration-color: #008000\">across North America'</span>\n",
       "<span style=\"color: #76b900; text-decoration-color: #76b900; font-weight: bold\">    ),</span>\n",
       "<span style=\"color: #76b900; text-decoration-color: #76b900; font-weight: bold\">    </span><span style=\"color: #800080; text-decoration-color: #800080; font-weight: bold\">Document</span><span style=\"color: #76b900; text-decoration-color: #76b900; font-weight: bold\">(</span>\n",
       "<span style=\"color: #76b900; text-decoration-color: #76b900; font-weight: bold\">        </span><span style=\"color: #808000; text-decoration-color: #808000; font-weight: bold\">page_content</span><span style=\"color: #76b900; text-decoration-color: #76b900; font-weight: bold\">=</span><span style=\"color: #008000; text-decoration-color: #008000\">'[Beras] Wow, that sounds amazing! Ive never been to the Rocky Mountains before, but Ive heard</span>\n",
       "<span style=\"color: #008000; text-decoration-color: #008000\">many great things about them.'</span>\n",
       "<span style=\"color: #76b900; text-decoration-color: #76b900; font-weight: bold\">    ),</span>\n",
       "<span style=\"color: #76b900; text-decoration-color: #76b900; font-weight: bold\">    </span><span style=\"color: #800080; text-decoration-color: #800080; font-weight: bold\">Document</span><span style=\"color: #76b900; text-decoration-color: #76b900; font-weight: bold\">(</span>\n",
       "<span style=\"color: #76b900; text-decoration-color: #76b900; font-weight: bold\">        </span><span style=\"color: #808000; text-decoration-color: #808000; font-weight: bold\">page_content</span><span style=\"color: #76b900; text-decoration-color: #76b900; font-weight: bold\">=</span><span style=\"color: #008000; text-decoration-color: #008000\">\"[Agent] In the meantime, you can learn more about the Rocky Mountains by doing some research </span>\n",
       "<span style=\"color: #008000; text-decoration-color: #008000\">online or watching documentaries about them.[Beras] I live in the arctic, so I'm not used to the warm climate </span>\n",
       "<span style=\"color: #008000; text-decoration-color: #008000\">there. I was just curious, ya know!\"</span>\n",
       "<span style=\"color: #76b900; text-decoration-color: #76b900; font-weight: bold\">    ),</span>\n",
       "<span style=\"color: #76b900; text-decoration-color: #76b900; font-weight: bold\">    </span><span style=\"color: #800080; text-decoration-color: #800080; font-weight: bold\">Document</span><span style=\"color: #76b900; text-decoration-color: #76b900; font-weight: bold\">(</span>\n",
       "<span style=\"color: #76b900; text-decoration-color: #76b900; font-weight: bold\">        </span><span style=\"color: #808000; text-decoration-color: #808000; font-weight: bold\">page_content</span><span style=\"color: #76b900; text-decoration-color: #76b900; font-weight: bold\">=</span><span style=\"color: #008000; text-decoration-color: #008000\">'[Agent] Absolutely! Lets continue the conversation and explore more about the Rocky Mountains</span>\n",
       "<span style=\"color: #008000; text-decoration-color: #008000\">and their significance!'</span>\n",
       "<span style=\"color: #76b900; text-decoration-color: #76b900; font-weight: bold\">    )</span>\n",
       "<span style=\"color: #76b900; text-decoration-color: #76b900; font-weight: bold\">]</span>\n",
       "</pre>\n"
      ],
      "text/plain": [
       "\u001b[1;38;2;118;185;0m[\u001b[0m\n",
       "\u001b[1;38;2;118;185;0m    \u001b[0m\u001b[1;35mDocument\u001b[0m\u001b[1;38;2;118;185;0m(\u001b[0m\n",
       "\u001b[1;38;2;118;185;0m        \u001b[0m\u001b[1;33mpage_content\u001b[0m\u001b[1;38;2;118;185;0m=\u001b[0m\u001b[32m'\u001b[0m\u001b[32m[\u001b[0m\u001b[32mAgent\u001b[0m\u001b[32m]\u001b[0m\u001b[32m The Rocky Mountains are a beautiful and majestic range of mountains that stretch \u001b[0m\n",
       "\u001b[32macross North America'\u001b[0m\n",
       "\u001b[1;38;2;118;185;0m    \u001b[0m\u001b[1;38;2;118;185;0m)\u001b[0m\u001b[1;38;2;118;185;0m,\u001b[0m\n",
       "\u001b[1;38;2;118;185;0m    \u001b[0m\u001b[1;35mDocument\u001b[0m\u001b[1;38;2;118;185;0m(\u001b[0m\n",
       "\u001b[1;38;2;118;185;0m        \u001b[0m\u001b[1;33mpage_content\u001b[0m\u001b[1;38;2;118;185;0m=\u001b[0m\u001b[32m'\u001b[0m\u001b[32m[\u001b[0m\u001b[32mBeras\u001b[0m\u001b[32m]\u001b[0m\u001b[32m Wow, that sounds amazing! Ive never been to the Rocky Mountains before, but Ive heard\u001b[0m\n",
       "\u001b[32mmany great things about them.'\u001b[0m\n",
       "\u001b[1;38;2;118;185;0m    \u001b[0m\u001b[1;38;2;118;185;0m)\u001b[0m\u001b[1;38;2;118;185;0m,\u001b[0m\n",
       "\u001b[1;38;2;118;185;0m    \u001b[0m\u001b[1;35mDocument\u001b[0m\u001b[1;38;2;118;185;0m(\u001b[0m\n",
       "\u001b[1;38;2;118;185;0m        \u001b[0m\u001b[1;33mpage_content\u001b[0m\u001b[1;38;2;118;185;0m=\u001b[0m\u001b[32m\"\u001b[0m\u001b[32m[\u001b[0m\u001b[32mAgent\u001b[0m\u001b[32m]\u001b[0m\u001b[32m In the meantime, you can learn more about the Rocky Mountains by doing some research \u001b[0m\n",
       "\u001b[32monline or watching documentaries about them.\u001b[0m\u001b[32m[\u001b[0m\u001b[32mBeras\u001b[0m\u001b[32m]\u001b[0m\u001b[32m I live in the arctic, so I'm not used to the warm climate \u001b[0m\n",
       "\u001b[32mthere. I was just curious, ya know!\"\u001b[0m\n",
       "\u001b[1;38;2;118;185;0m    \u001b[0m\u001b[1;38;2;118;185;0m)\u001b[0m\u001b[1;38;2;118;185;0m,\u001b[0m\n",
       "\u001b[1;38;2;118;185;0m    \u001b[0m\u001b[1;35mDocument\u001b[0m\u001b[1;38;2;118;185;0m(\u001b[0m\n",
       "\u001b[1;38;2;118;185;0m        \u001b[0m\u001b[1;33mpage_content\u001b[0m\u001b[1;38;2;118;185;0m=\u001b[0m\u001b[32m'\u001b[0m\u001b[32m[\u001b[0m\u001b[32mAgent\u001b[0m\u001b[32m]\u001b[0m\u001b[32m Absolutely! Lets continue the conversation and explore more about the Rocky Mountains\u001b[0m\n",
       "\u001b[32mand their significance!'\u001b[0m\n",
       "\u001b[1;38;2;118;185;0m    \u001b[0m\u001b[1;38;2;118;185;0m)\u001b[0m\n",
       "\u001b[1;38;2;118;185;0m]\u001b[0m\n"
      ]
     },
     "metadata": {},
     "output_type": "display_data"
    }
   ],
   "source": [
    "pprint(retriever.invoke(\"Where are the Rocky Mountains?\"))"
   ]
  },
  {
   "cell_type": "markdown",
   "id": "mtNCEXLYTVf4",
   "metadata": {
    "id": "mtNCEXLYTVf4"
   },
   "source": [
    "As we can see, our retriever found a handful of semantically relevant documents from our query. You may notice that not all of the documents are useful or clear on their own. For example, a retrieval of *\"Beras\"* for *\"your name\"* may be problematic for the chatbot if provided out of context. Anticipating the potential problems and creating synergies between your LLM components can increase the likelihood of good RAG behavior, so keep an eye out for such pitfalls and opportunities.\n",
    "\n",
    "<br>"
   ]
  },
  {
   "cell_type": "markdown",
   "id": "ZEDEzpqmTYMv",
   "metadata": {
    "id": "ZEDEzpqmTYMv"
   },
   "source": [
    "### **Step 3:** Incorporating Conversation Retrieval Into Our Chain\n",
    "\n",
    "Now that we have our loaded retriever component as a chain, we can incorporate it into our existing chat system as before. Specifically, we can start with an ***always-on RAG formulation*** where:\n",
    "- **A retriever is always retrieving context by default**.\n",
    "- **A generator is acting on the retrieved context**."
   ]
  },
  {
   "cell_type": "code",
   "execution_count": 7,
   "id": "64abe478-9bcb-4802-a26e-dc5a1756e313",
   "metadata": {},
   "outputs": [],
   "source": [
    "from langchain.document_transformers import LongContextReorder\n",
    "from langchain.prompts import ChatPromptTemplate\n",
    "from langchain.schema.output_parser import StrOutputParser\n",
    "from langchain.schema.runnable import RunnableLambda\n",
    "from langchain.schema.runnable.passthrough import RunnableAssign\n",
    "from langchain_nvidia_ai_endpoints import ChatNVIDIA, NVIDIAEmbeddings\n",
    "\n",
    "from functools import partial\n",
    "from operator import itemgetter\n",
    "\n",
    "########################################################################\n",
    "## Utility Runnables/Methods\n",
    "def RPrint(preface=\"\"):\n",
    "    \"\"\"Simple passthrough \"prints, then returns\" chain\"\"\"\n",
    "    def print_and_return(x, preface):\n",
    "        if preface: print(preface, end=\"\")\n",
    "        pprint(x)\n",
    "        return x\n",
    "    return RunnableLambda(partial(print_and_return, preface=preface))\n",
    "\n",
    "def docs2str(docs, title=\"Document\"):\n",
    "    \"\"\"Useful utility for making chunks into context string. Optional, but useful\"\"\"\n",
    "    out_str = \"\"\n",
    "    for doc in docs:\n",
    "        doc_name = getattr(doc, 'metadata', {}).get('Title', title)\n",
    "        if doc_name:\n",
    "            out_str += f\"[Quote from {doc_name}] \"\n",
    "        out_str += getattr(doc, 'page_content', str(doc)) + \"\\n\"\n",
    "    return out_str\n",
    "\n",
    "## Optional; Reorders longer documents to center of output text\n",
    "long_reorder = RunnableLambda(LongContextReorder().transform_documents)"
   ]
  },
  {
   "cell_type": "code",
   "execution_count": 8,
   "id": "uue5UY3_TcvF",
   "metadata": {
    "id": "uue5UY3_TcvF"
   },
   "outputs": [
    {
     "data": {
      "text/html": [
       "<pre style=\"white-space:pre;overflow-x:auto;line-height:normal;font-family:Menlo,'DejaVu Sans Mono',consolas,'Courier New',monospace\"><span style=\"color: #76b900; text-decoration-color: #76b900; font-weight: bold\">Based on the context provided, Beras lives in the Arctic. It's quite different from the warm climate of the Rocky </span>\n",
       "<span style=\"color: #76b900; text-decoration-color: #76b900; font-weight: bold\">Mountains!</span>\n",
       "</pre>\n"
      ],
      "text/plain": [
       "\u001b[1;38;2;118;185;0mBased on the context provided, Beras lives in the Arctic. It's quite different from the warm climate of the Rocky \u001b[0m\n",
       "\u001b[1;38;2;118;185;0mMountains!\u001b[0m\n"
      ]
     },
     "metadata": {},
     "output_type": "display_data"
    }
   ],
   "source": [
    "context_prompt = ChatPromptTemplate.from_template(\n",
    "    \"Answer the question using only the context\"\n",
    "    \"\\n\\nRetrieved Context: {context}\"\n",
    "    \"\\n\\nUser Question: {question}\"\n",
    "    \"\\nAnswer the user conversationally. User is not aware of context.\"\n",
    ")\n",
    "\n",
    "chain = (\n",
    "    {\n",
    "        'context': convstore.as_retriever() | long_reorder | docs2str,\n",
    "        'question': (lambda x:x)\n",
    "    }\n",
    "    | context_prompt\n",
    "    # | RPrint()\n",
    "    | instruct_llm\n",
    "    | StrOutputParser()\n",
    ")\n",
    "\n",
    "pprint(chain.invoke(\"Where does Beras live?\"))"
   ]
  },
  {
   "cell_type": "markdown",
   "id": "FSIqTMuuTjIh",
   "metadata": {
    "id": "FSIqTMuuTjIh"
   },
   "source": [
    "Take a second to try out some more invocations and see how the new setup performs. Regardless of your model choice, the following questions should serve as interesting starting points."
   ]
  },
  {
   "cell_type": "code",
   "execution_count": 10,
   "id": "4jDJwrYpTmpd",
   "metadata": {
    "id": "4jDJwrYpTmpd"
   },
   "outputs": [
    {
     "data": {
      "text/html": [
       "<pre style=\"white-space:pre;overflow-x:auto;line-height:normal;font-family:Menlo,'DejaVu Sans Mono',consolas,'Courier New',monospace\"><span style=\"color: #76b900; text-decoration-color: #76b900; font-weight: bold\">The Rocky Mountains are a stunning mountain range that spans across North America. They are quite extensive and </span>\n",
       "<span style=\"color: #76b900; text-decoration-color: #76b900; font-weight: bold\">definitely worth looking into if you're curious! You can find plenty of information online or even in documentaries</span>\n",
       "<span style=\"color: #76b900; text-decoration-color: #76b900; font-weight: bold\">to explore more about them.</span>\n",
       "</pre>\n"
      ],
      "text/plain": [
       "\u001b[1;38;2;118;185;0mThe Rocky Mountains are a stunning mountain range that spans across North America. They are quite extensive and \u001b[0m\n",
       "\u001b[1;38;2;118;185;0mdefinitely worth looking into if you're curious! You can find plenty of information online or even in documentaries\u001b[0m\n",
       "\u001b[1;38;2;118;185;0mto explore more about them.\u001b[0m\n"
      ]
     },
     "metadata": {},
     "output_type": "display_data"
    }
   ],
   "source": [
    "pprint(chain.invoke(\"Where are the Rocky Mountains?\"))"
   ]
  },
  {
   "cell_type": "code",
   "execution_count": 11,
   "id": "-artagLfTpBy",
   "metadata": {
    "id": "-artagLfTpBy"
   },
   "outputs": [
    {
     "data": {
      "text/html": [
       "<pre style=\"white-space:pre;overflow-x:auto;line-height:normal;font-family:Menlo,'DejaVu Sans Mono',consolas,'Courier New',monospace\"><span style=\"color: #76b900; text-decoration-color: #76b900; font-weight: bold\">The Rocky Mountains are a stunning mountain range that extends across North America. While they don't directly </span>\n",
       "<span style=\"color: #76b900; text-decoration-color: #76b900; font-weight: bold\">border California, they do run through parts of the western United States. If you're ever interested in visiting, </span>\n",
       "<span style=\"color: #76b900; text-decoration-color: #76b900; font-weight: bold\">California is a great starting point for a road trip up north!</span>\n",
       "</pre>\n"
      ],
      "text/plain": [
       "\u001b[1;38;2;118;185;0mThe Rocky Mountains are a stunning mountain range that extends across North America. While they don't directly \u001b[0m\n",
       "\u001b[1;38;2;118;185;0mborder California, they do run through parts of the western United States. If you're ever interested in visiting, \u001b[0m\n",
       "\u001b[1;38;2;118;185;0mCalifornia is a great starting point for a road trip up north!\u001b[0m\n"
      ]
     },
     "metadata": {},
     "output_type": "display_data"
    }
   ],
   "source": [
    "pprint(chain.invoke(\"Where are the Rocky Mountains? Are they close to California?\"))"
   ]
  },
  {
   "cell_type": "code",
   "execution_count": 12,
   "id": "GDgjdfdpTrV5",
   "metadata": {
    "id": "GDgjdfdpTrV5"
   },
   "outputs": [
    {
     "data": {
      "text/html": [
       "<pre style=\"white-space:pre;overflow-x:auto;line-height:normal;font-family:Menlo,'DejaVu Sans Mono',consolas,'Courier New',monospace\"><span style=\"color: #76b900; text-decoration-color: #76b900; font-weight: bold\">Based on the information provided, it's not specified how far Beras is from the Rocky Mountains. However, we do </span>\n",
       "<span style=\"color: #76b900; text-decoration-color: #76b900; font-weight: bold\">know that Beras lives in the Arctic and is not used to the warm climate of the Rocky Mountains, which suggests a </span>\n",
       "<span style=\"color: #76b900; text-decoration-color: #76b900; font-weight: bold\">significant distance.</span>\n",
       "</pre>\n"
      ],
      "text/plain": [
       "\u001b[1;38;2;118;185;0mBased on the information provided, it's not specified how far Beras is from the Rocky Mountains. However, we do \u001b[0m\n",
       "\u001b[1;38;2;118;185;0mknow that Beras lives in the Arctic and is not used to the warm climate of the Rocky Mountains, which suggests a \u001b[0m\n",
       "\u001b[1;38;2;118;185;0msignificant distance.\u001b[0m\n"
      ]
     },
     "metadata": {},
     "output_type": "display_data"
    }
   ],
   "source": [
    "pprint(chain.invoke(\"How far away is Beras from the Rocky Mountains?\"))"
   ]
  },
  {
   "cell_type": "markdown",
   "id": "8wp9-8CbT0L9",
   "metadata": {
    "id": "8wp9-8CbT0L9"
   },
   "source": [
    "<br>\n",
    "\n",
    "You might notice some decent performance with this always-on retrieval node in the loop since the actual context being fed into the LLM remains relatively small. It's important to experiment with factors like embedding sizes, context limits, and model options to see what kinds of behavior you can expect and which efforts are worth taking to improve performance.\n",
    "\n",
    "<br>"
   ]
  },
  {
   "cell_type": "markdown",
   "id": "OnpOybOhUCTf",
   "metadata": {
    "id": "OnpOybOhUCTf"
   },
   "source": [
    "### **Step 4:** Automatic Conversation Storage\n",
    "\n",
    "Now that we see how our vector store memory unit should function, we can perform one last integration to allow our conversation to add new entries to our conversation: a runnable that calls the `add_texts` method for us to update the store state.\n"
   ]
  },
  {
   "cell_type": "code",
   "execution_count": 13,
   "id": "FsK6-AtRVdcZ",
   "metadata": {
    "id": "FsK6-AtRVdcZ"
   },
   "outputs": [
    {
     "data": {
      "text/html": [
       "<pre style=\"white-space:pre;overflow-x:auto;line-height:normal;font-family:Menlo,'DejaVu Sans Mono',consolas,'Courier New',monospace\"><span style=\"color: #76b900; text-decoration-color: #76b900; font-weight: bold\">Oh, I'm sorry for the confusion, but the Rocky Mountains aren't particularly known for ice cream, they're actually </span>\n",
       "<span style=\"color: #76b900; text-decoration-color: #76b900; font-weight: bold\">famous for their breathtaking scenery and diverse wildlife. However, I'm sure you can find some delicious ice cream</span>\n",
       "<span style=\"color: #76b900; text-decoration-color: #76b900; font-weight: bold\">nearby! It's always a good treat, especially after a long day of exploring the mountains.</span>\n",
       "</pre>\n"
      ],
      "text/plain": [
       "\u001b[1;38;2;118;185;0mOh, I'm sorry for the confusion, but the Rocky Mountains aren't particularly known for ice cream, they're actually \u001b[0m\n",
       "\u001b[1;38;2;118;185;0mfamous for their breathtaking scenery and diverse wildlife. However, I'm sure you can find some delicious ice cream\u001b[0m\n",
       "\u001b[1;38;2;118;185;0mnearby! It's always a good treat, especially after a long day of exploring the mountains.\u001b[0m\n"
      ]
     },
     "metadata": {},
     "output_type": "display_data"
    },
    {
     "name": "stdout",
     "output_type": "stream",
     "text": [
      "\n"
     ]
    },
    {
     "data": {
      "text/html": [
       "<pre style=\"white-space:pre;overflow-x:auto;line-height:normal;font-family:Menlo,'DejaVu Sans Mono',consolas,'Courier New',monospace\"><span style=\"color: #76b900; text-decoration-color: #76b900; font-weight: bold\">Given our conversation, I'd guess that you're a big fan of ice cream! You seem to be particularly excited about </span>\n",
       "<span style=\"color: #76b900; text-decoration-color: #76b900; font-weight: bold\">enjoying it after exploring the Rocky Mountains. Would you like to learn more about the mountains, or perhaps </span>\n",
       "<span style=\"color: #76b900; text-decoration-color: #76b900; font-weight: bold\">discuss different ice cream flavors?</span>\n",
       "</pre>\n"
      ],
      "text/plain": [
       "\u001b[1;38;2;118;185;0mGiven our conversation, I'd guess that you're a big fan of ice cream! You seem to be particularly excited about \u001b[0m\n",
       "\u001b[1;38;2;118;185;0menjoying it after exploring the Rocky Mountains. Would you like to learn more about the mountains, or perhaps \u001b[0m\n",
       "\u001b[1;38;2;118;185;0mdiscuss different ice cream flavors?\u001b[0m\n"
      ]
     },
     "metadata": {},
     "output_type": "display_data"
    },
    {
     "name": "stdout",
     "output_type": "stream",
     "text": [
      "\n"
     ]
    },
    {
     "data": {
      "text/html": [
       "<pre style=\"white-space:pre;overflow-x:auto;line-height:normal;font-family:Menlo,'DejaVu Sans Mono',consolas,'Courier New',monospace\"><span style=\"color: #76b900; text-decoration-color: #76b900; font-weight: bold\">I see! I apologize for the misunderstanding earlier. My guess was based on your enthusiasm for ice cream in your </span>\n",
       "<span style=\"color: #76b900; text-decoration-color: #76b900; font-weight: bold\">previous messages. However, honey is a wonderful choice as well! It's such a versatile sweetener and has some </span>\n",
       "<span style=\"color: #76b900; text-decoration-color: #76b900; font-weight: bold\">amazing health benefits too. Is there anything specific about honey that you love?</span>\n",
       "</pre>\n"
      ],
      "text/plain": [
       "\u001b[1;38;2;118;185;0mI see! I apologize for the misunderstanding earlier. My guess was based on your enthusiasm for ice cream in your \u001b[0m\n",
       "\u001b[1;38;2;118;185;0mprevious messages. However, honey is a wonderful choice as well! It's such a versatile sweetener and has some \u001b[0m\n",
       "\u001b[1;38;2;118;185;0mamazing health benefits too. Is there anything specific about honey that you love?\u001b[0m\n"
      ]
     },
     "metadata": {},
     "output_type": "display_data"
    },
    {
     "name": "stdout",
     "output_type": "stream",
     "text": [
      "\n"
     ]
    },
    {
     "data": {
      "text/html": [
       "<pre style=\"white-space:pre;overflow-x:auto;line-height:normal;font-family:Menlo,'DejaVu Sans Mono',consolas,'Courier New',monospace\"><span style=\"color: #76b900; text-decoration-color: #76b900; font-weight: bold\">I sure do! Despite the initial confusion, I can confidently say that your favorite food is indeed ice cream! Though</span>\n",
       "<span style=\"color: #76b900; text-decoration-color: #76b900; font-weight: bold\">you have a love for honey as well, your excitement about ice cream was clear from your previous messages! It's </span>\n",
       "<span style=\"color: #76b900; text-decoration-color: #76b900; font-weight: bold\">always a delight to chat about delicious food, isn't it?</span>\n",
       "</pre>\n"
      ],
      "text/plain": [
       "\u001b[1;38;2;118;185;0mI sure do! Despite the initial confusion, I can confidently say that your favorite food is indeed ice cream! Though\u001b[0m\n",
       "\u001b[1;38;2;118;185;0myou have a love for honey as well, your excitement about ice cream was clear from your previous messages! It's \u001b[0m\n",
       "\u001b[1;38;2;118;185;0malways a delight to chat about delicious food, isn't it?\u001b[0m\n"
      ]
     },
     "metadata": {},
     "output_type": "display_data"
    }
   ],
   "source": [
    "from langchain_core.prompts import ChatPromptTemplate\n",
    "from langchain_core.output_parsers import StrOutputParser\n",
    "from operator import itemgetter\n",
    "\n",
    "########################################################################\n",
    "## Reset knowledge base and define what it means to add more messages.\n",
    "convstore = FAISS.from_texts(conversation, embedding=embedder)\n",
    "\n",
    "def save_memory_and_get_output(d, vstore):\n",
    "    \"\"\"Accepts 'input'/'output' dictionary and saves to convstore\"\"\"\n",
    "    vstore.add_texts([f\"User said {d.get('input')}\", f\"Agent said {d.get('output')}\"])\n",
    "    return d.get('output')\n",
    "\n",
    "########################################################################\n",
    "\n",
    "# instruct_llm = ChatNVIDIA(model=\"mistralai/mixtral-8x22b-instruct-v0.1\")\n",
    "\n",
    "chat_prompt = ChatPromptTemplate.from_template(\n",
    "    \"Answer the question using only the context\"\n",
    "    \"\\n\\nRetrieved Context: {context}\"\n",
    "    \"\\n\\nUser Question: {input}\"\n",
    "    \"\\nAnswer the user conversationally. Make sure the conversation flows naturally.\\n\"\n",
    "    \"[Agent]\"\n",
    ")\n",
    "\n",
    "\n",
    "conv_chain = (\n",
    "    {\n",
    "        'context': convstore.as_retriever() | long_reorder | docs2str,\n",
    "        'input': (lambda x:x)\n",
    "    }\n",
    "    | RunnableAssign({'output' : chat_prompt | instruct_llm | StrOutputParser()})\n",
    "    | partial(save_memory_and_get_output, vstore=convstore)\n",
    ")\n",
    "\n",
    "pprint(conv_chain.invoke(\"I'm glad you agree! I can't wait to get some ice cream there! It's such a good food!\"))\n",
    "print()\n",
    "pprint(conv_chain.invoke(\"Can you guess what my favorite food is?\"))\n",
    "print()\n",
    "pprint(conv_chain.invoke(\"Actually, my favorite is honey! Not sure where you got that idea?\"))\n",
    "print()\n",
    "pprint(conv_chain.invoke(\"I see! Fair enough! Do you know my favorite food now?\"))"
   ]
  },
  {
   "cell_type": "markdown",
   "id": "KRMW6G7NVSWF",
   "metadata": {
    "id": "KRMW6G7NVSWF"
   },
   "source": [
    "Unlike the more automatic full-text or rule-based approaches to injecting context into the LLM, this approach ensures some amount of consolidation which can keep the context length from getting out of hand. It's still not a full-proof strategy on its own, but it's a stark improvement for unstructured conversations (and doesn't even require a strong instruction-tuned model to perform slot-filling)."
   ]
  },
  {
   "cell_type": "markdown",
   "id": "9TPkh3SaLbqh",
   "metadata": {
    "id": "9TPkh3SaLbqh"
   },
   "source": [
    "----\n",
    "\n",
    "<br>\n",
    "\n",
    "## **Part 3 [Exercise]:** RAG For Document Chunk Retrieval\n",
    "\n",
    "Given our prior exploration of document loading, the idea that data chunks can be embedded and searched through probably isn't surprising. With that said, it is definitely worth going over since applying RAG with documents is a double-edged sword; it may **seem** to work well out of the box but requires some extra care when optimizing it for truly reliable performance. It also provides an excellent opportunity to review some fundamental LCEL skills, so let's see what we can do!\n",
    "\n",
    "<br>\n",
    "\n",
    "### **Exercise:**\n",
    "\n",
    "In the previous example, you may recall that we pulled in some relatively small papers with the help of [`ArxivLoader`](https://python.langchain.com/docs/integrations/document_loaders/arxiv) using the following syntax:\n",
    "\n",
    "```python\n",
    "from langchain.document_loaders import ArxivLoader\n",
    "\n",
    "docs = [\n",
    "    ArxivLoader(query=\"2205.00445\").load(),  ## MRKL\n",
    "    ArxivLoader(query=\"2210.03629\").load(),  ## ReAct\n",
    "]\n",
    "```\n",
    "\n",
    "Given all that you've learned so far, choose a selection of papers that you would like to use and develop a chatbot that can talk about them!\n",
    "\n",
    "<br>\n",
    "\n",
    "Though this is a pretty big task, a walkthrough of ***most*** of the process will be provided below. By the end of the walkthrough, many of the necessary puzzle pieces will be provided, and your real task will be to integrate them together for the final `retrieval_chain`. When you're done, get ready to re-integrate the chain (or a flavor of your choice) in the last notebook as part of the evaluation exercise!\n"
   ]
  },
  {
   "cell_type": "markdown",
   "id": "jSjfCtiQnj9e",
   "metadata": {
    "id": "jSjfCtiQnj9e"
   },
   "source": [
    "<br>\n",
    "\n",
    "### **Task 1**: Loading And Chunking Your Documents\n",
    "\n",
    "The following code block gives you some default papers to load in for your RAG chain. Feel free to select more papers as desired, but note that longer documents will take longer to process. A few simplifying assumptions and additional processing steps are included to help you improve your naive RAG performance:\n",
    "\n",
    "- Documents are cut off prior to the \"References\" section if one exists. This will keep our system from considering the citations and appendix sections, which tend to be long and distracting.\n",
    "\n",
    "- A chunk that lists the available documents is inserted to provide a high-level view of all available documents in a single chunk. If your pipeline does not provide metadata on each retrieval, this is a useful component and can even be listed among a list of higher-priority pieces if appropriate.\n",
    "\n",
    "- Additionally, the metadata entries are also inserted to provide general information. Ideally, there would also be some synthetic chunks that merge the metadata into interesting cross-document chunks.\n",
    "\n",
    "**NOTE:** ***For the sake of the assessment, please include at least one paper that is less than one month old!***\n"
   ]
  },
  {
   "cell_type": "code",
   "execution_count": 14,
   "id": "S-3FBdT_lhVT",
   "metadata": {
    "id": "S-3FBdT_lhVT"
   },
   "outputs": [
    {
     "name": "stdout",
     "output_type": "stream",
     "text": [
      "Loading Documents\n",
      "Chunking Documents\n"
     ]
    },
    {
     "data": {
      "text/html": [
       "<pre style=\"white-space:pre;overflow-x:auto;line-height:normal;font-family:Menlo,'DejaVu Sans Mono',consolas,'Courier New',monospace\"><span style=\"color: #76b900; text-decoration-color: #76b900; font-weight: bold\">Available Documents:</span>\n",
       "<span style=\"color: #76b900; text-decoration-color: #76b900; font-weight: bold\"> - Modeling the impact of Climate transition on real estate prices </span>\n",
       "\n",
       "</pre>\n"
      ],
      "text/plain": [
       "\u001b[1;38;2;118;185;0mAvailable Documents:\u001b[0m\n",
       "\u001b[1;38;2;118;185;0m - Modeling the impact of Climate transition on real estate prices \u001b[0m\n",
       "\n"
      ]
     },
     "metadata": {},
     "output_type": "display_data"
    },
    {
     "name": "stdout",
     "output_type": "stream",
     "text": [
      "Document 0\n",
      " - # Chunks: 62\n",
      " - Metadata: \n"
     ]
    },
    {
     "data": {
      "text/html": [
       "<pre style=\"white-space:pre;overflow-x:auto;line-height:normal;font-family:Menlo,'DejaVu Sans Mono',consolas,'Courier New',monospace\"><span style=\"color: #76b900; text-decoration-color: #76b900; font-weight: bold\">{</span>\n",
       "<span style=\"color: #76b900; text-decoration-color: #76b900; font-weight: bold\">    </span><span style=\"color: #008000; text-decoration-color: #008000\">'Published'</span><span style=\"color: #76b900; text-decoration-color: #76b900; font-weight: bold\">: </span><span style=\"color: #008000; text-decoration-color: #008000\">'2024-08-05'</span><span style=\"color: #76b900; text-decoration-color: #76b900; font-weight: bold\">,</span>\n",
       "<span style=\"color: #76b900; text-decoration-color: #76b900; font-weight: bold\">    </span><span style=\"color: #008000; text-decoration-color: #008000\">'Title'</span><span style=\"color: #76b900; text-decoration-color: #76b900; font-weight: bold\">: </span><span style=\"color: #008000; text-decoration-color: #008000\">'Modeling the impact of Climate transition on real estate prices'</span><span style=\"color: #76b900; text-decoration-color: #76b900; font-weight: bold\">,</span>\n",
       "<span style=\"color: #76b900; text-decoration-color: #76b900; font-weight: bold\">    </span><span style=\"color: #008000; text-decoration-color: #008000\">'Authors'</span><span style=\"color: #76b900; text-decoration-color: #76b900; font-weight: bold\">: </span><span style=\"color: #008000; text-decoration-color: #008000\">'Lionel Sopgoui'</span><span style=\"color: #76b900; text-decoration-color: #76b900; font-weight: bold\">,</span>\n",
       "<span style=\"color: #76b900; text-decoration-color: #76b900; font-weight: bold\">    </span><span style=\"color: #008000; text-decoration-color: #008000\">'Summary'</span><span style=\"color: #76b900; text-decoration-color: #76b900; font-weight: bold\">: </span><span style=\"color: #008000; text-decoration-color: #008000\">'In this work, we propose a model to quantify the impact of the climate\\ntransition on a property in</span>\n",
       "<span style=\"color: #008000; text-decoration-color: #008000\">housing market. We begin by noting that property is\\nan asset in an economy. That economy is organized in sectors, </span>\n",
       "<span style=\"color: #008000; text-decoration-color: #008000\">driven by its\\nproductivity which is a multidimensional Ornstein-Uhlenbeck process, while the\\nclimate transition </span>\n",
       "<span style=\"color: #008000; text-decoration-color: #008000\">is declined thanks to the carbon price, a continuous\\ndeterministic process. We then extend the sales comparison </span>\n",
       "<span style=\"color: #008000; text-decoration-color: #008000\">approach and the\\nincome approach to valuate an energy inefficient real estate asset. We obtain\\nits value as the </span>\n",
       "<span style=\"color: #008000; text-decoration-color: #008000\">difference between the price of an equivalent efficient\\nbuilding following an exponential Ornstein-Uhlenbeck as </span>\n",
       "<span style=\"color: #008000; text-decoration-color: #008000\">well as the actualized\\nrenovation costs and the actualized sum of the future additional energy costs.\\nThese costs</span>\n",
       "<span style=\"color: #008000; text-decoration-color: #008000\">are due to the inefficiency of the building, before an optimal\\nrenovation date which depends on the carbon price </span>\n",
       "<span style=\"color: #008000; text-decoration-color: #008000\">process. Finally, we carry\\nout simulations based on the French economy and the house price index of\\nFrance. Our </span>\n",
       "<span style=\"color: #008000; text-decoration-color: #008000\">results allow to conclude that the order of magnitude of the\\ndepreciation obtained by our model is the same as the</span>\n",
       "<span style=\"color: #008000; text-decoration-color: #008000\">empirical observations.'</span>\n",
       "<span style=\"color: #76b900; text-decoration-color: #76b900; font-weight: bold\">}</span>\n",
       "</pre>\n"
      ],
      "text/plain": [
       "\u001b[1;38;2;118;185;0m{\u001b[0m\n",
       "\u001b[1;38;2;118;185;0m    \u001b[0m\u001b[32m'Published'\u001b[0m\u001b[1;38;2;118;185;0m: \u001b[0m\u001b[32m'2024-08-05'\u001b[0m\u001b[1;38;2;118;185;0m,\u001b[0m\n",
       "\u001b[1;38;2;118;185;0m    \u001b[0m\u001b[32m'Title'\u001b[0m\u001b[1;38;2;118;185;0m: \u001b[0m\u001b[32m'Modeling the impact of Climate transition on real estate prices'\u001b[0m\u001b[1;38;2;118;185;0m,\u001b[0m\n",
       "\u001b[1;38;2;118;185;0m    \u001b[0m\u001b[32m'Authors'\u001b[0m\u001b[1;38;2;118;185;0m: \u001b[0m\u001b[32m'Lionel Sopgoui'\u001b[0m\u001b[1;38;2;118;185;0m,\u001b[0m\n",
       "\u001b[1;38;2;118;185;0m    \u001b[0m\u001b[32m'Summary'\u001b[0m\u001b[1;38;2;118;185;0m: \u001b[0m\u001b[32m'In this work, we propose a model to quantify the impact of the climate\\ntransition on a property in\u001b[0m\n",
       "\u001b[32mhousing market. We begin by noting that property is\\nan asset in an economy. That economy is organized in sectors, \u001b[0m\n",
       "\u001b[32mdriven by its\\nproductivity which is a multidimensional Ornstein-Uhlenbeck process, while the\\nclimate transition \u001b[0m\n",
       "\u001b[32mis declined thanks to the carbon price, a continuous\\ndeterministic process. We then extend the sales comparison \u001b[0m\n",
       "\u001b[32mapproach and the\\nincome approach to valuate an energy inefficient real estate asset. We obtain\\nits value as the \u001b[0m\n",
       "\u001b[32mdifference between the price of an equivalent efficient\\nbuilding following an exponential Ornstein-Uhlenbeck as \u001b[0m\n",
       "\u001b[32mwell as the actualized\\nrenovation costs and the actualized sum of the future additional energy costs.\\nThese costs\u001b[0m\n",
       "\u001b[32mare due to the inefficiency of the building, before an optimal\\nrenovation date which depends on the carbon price \u001b[0m\n",
       "\u001b[32mprocess. Finally, we carry\\nout simulations based on the French economy and the house price index of\\nFrance. Our \u001b[0m\n",
       "\u001b[32mresults allow to conclude that the order of magnitude of the\\ndepreciation obtained by our model is the same as the\u001b[0m\n",
       "\u001b[32mempirical observations.'\u001b[0m\n",
       "\u001b[1;38;2;118;185;0m}\u001b[0m\n"
      ]
     },
     "metadata": {},
     "output_type": "display_data"
    },
    {
     "name": "stdout",
     "output_type": "stream",
     "text": [
      "\n"
     ]
    }
   ],
   "source": [
    "import json\n",
    "from langchain_nvidia_ai_endpoints import ChatNVIDIA, NVIDIAEmbeddings\n",
    "\n",
    "from langchain_community.vectorstores import FAISS\n",
    "from langchain.text_splitter import RecursiveCharacterTextSplitter\n",
    "from langchain.document_loaders import ArxivLoader\n",
    "\n",
    "text_splitter = RecursiveCharacterTextSplitter(\n",
    "    chunk_size=1000, chunk_overlap=100,\n",
    "    separators=[\"\\n\\n\", \"\\n\", \".\", \";\", \",\", \" \"],\n",
    ")\n",
    "\n",
    "## TODO: Please pick some papers and add them to the list as you'd like\n",
    "## NOTE: To re-use for the final assessment, make sure at least one paper is < 1 month old\n",
    "print(\"Loading Documents\")\n",
    "docs = [\n",
    "    #ArxivLoader(query=\"1706.03762\").load(),  ## Attention Is All You Need Paper\n",
    "    #ArxivLoader(query=\"1810.04805\").load(),  ## BERT Paper\n",
    "    #ArxivLoader(query=\"2005.11401\").load(),  ## RAG Paper\n",
    "    #ArxivLoader(query=\"2205.00445\").load(),  ## MRKL Paper\n",
    "    #ArxivLoader(query=\"2310.06825\").load(),  ## Mistral Paper\n",
    "    #ArxivLoader(query=\"2306.05685\").load(),  ## LLM-as-a-Judge\n",
    "    ## Some longer papers\n",
    "    # ArxivLoader(query=\"2210.03629\").load(),  ## ReAct Paper\n",
    "    # ArxivLoader(query=\"2112.10752\").load(),  ## Latent Stable Diffusion Paper\n",
    "    # ArxivLoader(query=\"2103.00020\").load(),  ## CLIP Paper\n",
    "    ## TODO: Feel free to add more\n",
    "\n",
    "    ArxivLoader(query=\"2408.02339\").load(),  ## Modeling the impact of Climate transition on real estate prices\n",
    "]\n",
    "\n",
    "## Cut the paper short if references is included.\n",
    "## This is a standard string in papers.\n",
    "for doc in docs:\n",
    "    content = json.dumps(doc[0].page_content)\n",
    "    if \"References\" in content:\n",
    "        doc[0].page_content = content[:content.index(\"References\")]\n",
    "\n",
    "## Split the documents and also filter out stubs (overly short chunks)\n",
    "print(\"Chunking Documents\")\n",
    "docs_chunks = [text_splitter.split_documents(doc) for doc in docs]\n",
    "docs_chunks = [[c for c in dchunks if len(c.page_content) > 200] for dchunks in docs_chunks]\n",
    "\n",
    "## Make some custom Chunks to give big-picture details\n",
    "doc_string = \"Available Documents:\"\n",
    "doc_metadata = []\n",
    "for chunks in docs_chunks:\n",
    "    metadata = getattr(chunks[0], 'metadata', {})\n",
    "    doc_string += \"\\n - \" + metadata.get('Title')\n",
    "    doc_metadata += [str(metadata)]\n",
    "\n",
    "extra_chunks = [doc_string] + doc_metadata\n",
    "\n",
    "## Printing out some summary information for reference\n",
    "pprint(doc_string, '\\n')\n",
    "for i, chunks in enumerate(docs_chunks):\n",
    "    print(f\"Document {i}\")\n",
    "    print(f\" - # Chunks: {len(chunks)}\")\n",
    "    print(f\" - Metadata: \")\n",
    "    pprint(chunks[0].metadata)\n",
    "    print()"
   ]
  },
  {
   "cell_type": "markdown",
   "id": "4pWU_OOnnrsT",
   "metadata": {
    "id": "4pWU_OOnnrsT"
   },
   "source": [
    "<br>\n",
    "\n",
    "### **Task 2**: Construct Your Document Vector Stores\n",
    "\n",
    "Now that we have all of the components, we can go ahead and create indices surrounding them:"
   ]
  },
  {
   "cell_type": "code",
   "execution_count": 15,
   "id": "lwwmr3aptwCg",
   "metadata": {
    "id": "lwwmr3aptwCg"
   },
   "outputs": [
    {
     "name": "stdout",
     "output_type": "stream",
     "text": [
      "Constructing Vector Stores\n",
      "CPU times: user 65 ms, sys: 17.1 ms, total: 82.1 ms\n",
      "Wall time: 6.36 s\n"
     ]
    }
   ],
   "source": [
    "%%time\n",
    "print(\"Constructing Vector Stores\")\n",
    "vecstores = [FAISS.from_texts(extra_chunks, embedder)]\n",
    "vecstores += [FAISS.from_documents(doc_chunks, embedder) for doc_chunks in docs_chunks]"
   ]
  },
  {
   "cell_type": "markdown",
   "id": "j39JwCKubto0",
   "metadata": {
    "id": "j39JwCKubto0"
   },
   "source": [
    "<br>\n",
    "\n",
    "From there, we can combine our indices into a single one using the following utility:"
   ]
  },
  {
   "cell_type": "code",
   "execution_count": 16,
   "id": "Q7us66iPVc70",
   "metadata": {
    "id": "Q7us66iPVc70"
   },
   "outputs": [
    {
     "name": "stdout",
     "output_type": "stream",
     "text": [
      "Constructed aggregate docstore with 64 chunks\n"
     ]
    }
   ],
   "source": [
    "from faiss import IndexFlatL2\n",
    "from langchain_community.docstore.in_memory import InMemoryDocstore\n",
    "\n",
    "embed_dims = len(embedder.embed_query(\"test\"))\n",
    "def default_FAISS():\n",
    "    '''Useful utility for making an empty FAISS vectorstore'''\n",
    "    return FAISS(\n",
    "        embedding_function=embedder,\n",
    "        index=IndexFlatL2(embed_dims),\n",
    "        docstore=InMemoryDocstore(),\n",
    "        index_to_docstore_id={},\n",
    "        normalize_L2=False\n",
    "    )\n",
    "\n",
    "def aggregate_vstores(vectorstores):\n",
    "    ## Initialize an empty FAISS Index and merge others into it\n",
    "    ## We'll use default_faiss for simplicity, though it's tied to your embedder by reference\n",
    "    agg_vstore = default_FAISS()\n",
    "    for vstore in vectorstores:\n",
    "        agg_vstore.merge_from(vstore)\n",
    "    return agg_vstore\n",
    "\n",
    "## Unintuitive optimization; merge_from seems to optimize constituent vector stores away\n",
    "docstore = aggregate_vstores(vecstores)\n",
    "\n",
    "print(f\"Constructed aggregate docstore with {len(docstore.docstore._dict)} chunks\")"
   ]
  },
  {
   "cell_type": "markdown",
   "id": "VU_VEx2mqJUK",
   "metadata": {
    "id": "VU_VEx2mqJUK"
   },
   "source": [
    "<br>\n",
    "\n",
    "### **Task 3: [Exercise]** Implement Your RAG Chain\n",
    "\n",
    "Finally, all the puzzle pieces are in place to implement the RAG pipeline! As a review, we now have:\n",
    "\n",
    "- A way to construct a from-scratch vector store for conversational memory (and a way to initialize an empty one with `default_FAISS()`)\n",
    "\n",
    "- A vector store pre-loaded with useful document information from our `ArxivLoader` utility (stored in `docstore`).\n",
    "\n",
    "With the help of a couple more utilities, you're finally ready to integrate your chain! A few additional convenience utilities are provided (`doc2str` and the now-common `RPrint`) but are optional to use. Additionally, some starter prompts and structures are also defined.\n",
    "\n",
    "> **Given all of this:** Please implement the `retrieval_chain`."
   ]
  },
  {
   "cell_type": "code",
   "execution_count": 19,
   "id": "-RXSrb1GcNff",
   "metadata": {
    "id": "-RXSrb1GcNff"
   },
   "outputs": [
    {
     "data": {
      "text/html": [
       "<pre style=\"white-space:pre;overflow-x:auto;line-height:normal;font-family:Menlo,'DejaVu Sans Mono',consolas,'Courier New',monospace\"><span style=\"color: #800080; text-decoration-color: #800080; font-weight: bold\">ChatPromptValue</span><span style=\"color: #76b900; text-decoration-color: #76b900; font-weight: bold\">(</span>\n",
       "<span style=\"color: #76b900; text-decoration-color: #76b900; font-weight: bold\">    </span><span style=\"color: #808000; text-decoration-color: #808000; font-weight: bold\">messages</span><span style=\"color: #76b900; text-decoration-color: #76b900; font-weight: bold\">=[</span>\n",
       "<span style=\"color: #76b900; text-decoration-color: #76b900; font-weight: bold\">        </span><span style=\"color: #800080; text-decoration-color: #800080; font-weight: bold\">SystemMessage</span><span style=\"color: #76b900; text-decoration-color: #76b900; font-weight: bold\">(</span>\n",
       "<span style=\"color: #76b900; text-decoration-color: #76b900; font-weight: bold\">            </span><span style=\"color: #808000; text-decoration-color: #808000; font-weight: bold\">content</span><span style=\"color: #76b900; text-decoration-color: #76b900; font-weight: bold\">=</span><span style=\"color: #008000; text-decoration-color: #008000\">'You are a document chatbot. Help the user as they ask questions about documents. User messaged</span>\n",
       "<span style=\"color: #008000; text-decoration-color: #008000\">just asked: Is the climate affecting real estate prices!\\n\\n From this, we have retrieved the following </span>\n",
       "<span style=\"color: #008000; text-decoration-color: #008000\">potentially-useful info:  Conversation History Retrieval:\\n\\n\\n Document Retrieval:\\n[Quote from Document] </span>\n",
       "<span style=\"color: #008000; text-decoration-color: #008000\">Available Documents:\\n - Modeling the impact of Climate transition on real estate prices\\n[Quote from Modeling the </span>\n",
       "<span style=\"color: #008000; text-decoration-color: #008000\">impact of Climate transition on real estate prices] . Aydin et al. (2020) found that EE is capitalized quite </span>\n",
       "<span style=\"color: #008000; text-decoration-color: #008000\">precisely\\\\ninto home prices in the Dutch housing market. de Ayala et al. (2016) found in a study on 1507\\\\nhomes </span>\n",
       "<span style=\"color: #008000; text-decoration-color: #008000\">in Spain that dweelings labelled A, B or C are valued at between 5.4% and 9.8% higher price\\\\ncompared to D, E, F </span>\n",
       "<span style=\"color: #008000; text-decoration-color: #008000\">or G rated home. Franke and Nadler (2019) also highlight that, in the rental\\\\ndecision-making, EE achieves a high </span>\n",
       "<span style=\"color: #008000; text-decoration-color: #008000\">importance score similar to that of rent, price and location\\\\nrespectively.\\\\nThere is a great deal of statistical</span>\n",
       "<span style=\"color: #008000; text-decoration-color: #008000\">work on the effect of climate change on real estate, but very\\\\n1in ton of CO2 emissions per square meter per year </span>\n",
       "<span style=\"color: #008000; text-decoration-color: #008000\">or kilowatt hour per square meter per year\\\\nPage 3\\\\nModeling the impact of Climate transition on real estate </span>\n",
       "<span style=\"color: #008000; text-decoration-color: #008000\">prices\\\\nlittle modelling. It is this last point that interests us here\\n[Quote from Modeling the impact of Climate</span>\n",
       "<span style=\"color: #008000; text-decoration-color: #008000\">transition on real estate prices] . If we look at Figure 4, we remark that when the valuation date is later </span>\n",
       "<span style=\"color: #008000; text-decoration-color: #008000\">than\\\\nthe optimal renovation date, the best thing to do is to renovate directly. This stabilizes or </span>\n",
       "<span style=\"color: #008000; text-decoration-color: #008000\">even\\\\nreverses the price decline. Moreover, by adding the energy costs before renovations, we could reach\\\\n20 to </span>\n",
       "<span style=\"color: #008000; text-decoration-color: #008000\">30% of depreciation when the carbon price (so the energy price) is pretty high. This seems\\\\nPage 20\\\\nModeling the</span>\n",
       "<span style=\"color: #008000; text-decoration-color: #008000\">impact of Climate transition on real estate prices\\\\nconsistent with the idea that a thermal sieve loses all its </span>\n",
       "<span style=\"color: #008000; text-decoration-color: #008000\">value and could become impossible to sell,\\\\nbecause of the enormous costs involved in owning it.\\\\nFigure 4: </span>\n",
       "<span style=\"color: #008000; text-decoration-color: #008000\">Apartment value slowdown per scenario and per year\\\\nFinally, it should be noted that the property value discounts </span>\n",
       "<span style=\"color: #008000; text-decoration-color: #008000\">obtained in this work correspond\\\\nto statistical observations, for example by de Ayala et al. </span>\n",
       "<span style=\"color: #008000; text-decoration-color: #008000\">(2016).\\\\nConclusion\\\\nThe aim of this work was to propose a model to assess and quantify the impact of the </span>\n",
       "<span style=\"color: #008000; text-decoration-color: #008000\">climate\\\\ntransition on real estate prices\\n[Quote from Modeling the impact of Climate transition on real estate </span>\n",
       "<span style=\"color: #008000; text-decoration-color: #008000\">prices] \"Modeling the impact of Climate transition on real estate prices\\\\nLionel Sopgouia,b,c\\\\na Laboratoire de </span>\n",
       "<span style=\"color: #008000; text-decoration-color: #008000\">Probabilit\\\\u00b4\\\\nes, Statistique et Mod\\\\u00b4\\\\nelisation (LPSM), Universit\\\\u00b4\\\\ne Paris </span>\n",
       "<span style=\"color: #008000; text-decoration-color: #008000\">Cit\\\\u00b4\\\\ne\\\\nbDepartment of Mathematics, Imperial College London\\\\ncValidation des mod`\\\\neles, Direction des </span>\n",
       "<span style=\"color: #008000; text-decoration-color: #008000\">risques, Groupe BPCE\\\\nAbstract\\\\nIn this work, we propose a model to quantify the impact of the climate transition</span>\n",
       "<span style=\"color: #008000; text-decoration-color: #008000\">on a property\\\\nin housing market. We begin by noting that property is an asset in an economy. That economy\\\\nis </span>\n",
       "<span style=\"color: #008000; text-decoration-color: #008000\">organized in sectors, driven by its productivity which is a multidimensional Ornstein-Uhlenbeck\\\\nprocess, while </span>\n",
       "<span style=\"color: #008000; text-decoration-color: #008000\">the climate transition is declined thanks to the carbon price, a continuous deterministic\\\\nprocess. We then extend</span>\n",
       "<span style=\"color: #008000; text-decoration-color: #008000\">the sales comparison approach and the income approach to valuate an\\\\nenergy inefficient real estate asset\\n\\n\\n </span>\n",
       "<span style=\"color: #008000; text-decoration-color: #008000\">(Answer only from retrieval. Only cite sources that are used. Make your response conversational.)'</span>\n",
       "<span style=\"color: #76b900; text-decoration-color: #76b900; font-weight: bold\">        ),</span>\n",
       "<span style=\"color: #76b900; text-decoration-color: #76b900; font-weight: bold\">        </span><span style=\"color: #800080; text-decoration-color: #800080; font-weight: bold\">HumanMessage</span><span style=\"color: #76b900; text-decoration-color: #76b900; font-weight: bold\">(</span><span style=\"color: #808000; text-decoration-color: #808000; font-weight: bold\">content</span><span style=\"color: #76b900; text-decoration-color: #76b900; font-weight: bold\">=</span><span style=\"color: #008000; text-decoration-color: #008000\">'Is the climate affecting real estate prices!'</span><span style=\"color: #76b900; text-decoration-color: #76b900; font-weight: bold\">)</span>\n",
       "<span style=\"color: #76b900; text-decoration-color: #76b900; font-weight: bold\">    ]</span>\n",
       "<span style=\"color: #76b900; text-decoration-color: #76b900; font-weight: bold\">)</span>\n",
       "</pre>\n"
      ],
      "text/plain": [
       "\u001b[1;35mChatPromptValue\u001b[0m\u001b[1;38;2;118;185;0m(\u001b[0m\n",
       "\u001b[1;38;2;118;185;0m    \u001b[0m\u001b[1;33mmessages\u001b[0m\u001b[1;38;2;118;185;0m=\u001b[0m\u001b[1;38;2;118;185;0m[\u001b[0m\n",
       "\u001b[1;38;2;118;185;0m        \u001b[0m\u001b[1;35mSystemMessage\u001b[0m\u001b[1;38;2;118;185;0m(\u001b[0m\n",
       "\u001b[1;38;2;118;185;0m            \u001b[0m\u001b[1;33mcontent\u001b[0m\u001b[1;38;2;118;185;0m=\u001b[0m\u001b[32m'You are a document chatbot. Help the user as they ask questions about documents. User messaged\u001b[0m\n",
       "\u001b[32mjust asked: Is the climate affecting real estate prices!\\n\\n From this, we have retrieved the following \u001b[0m\n",
       "\u001b[32mpotentially-useful info:  Conversation History Retrieval:\\n\\n\\n Document Retrieval:\\n\u001b[0m\u001b[32m[\u001b[0m\u001b[32mQuote from Document\u001b[0m\u001b[32m]\u001b[0m\u001b[32m \u001b[0m\n",
       "\u001b[32mAvailable Documents:\\n - Modeling the impact of Climate transition on real estate prices\\n\u001b[0m\u001b[32m[\u001b[0m\u001b[32mQuote from Modeling the \u001b[0m\n",
       "\u001b[32mimpact of Climate transition on real estate prices\u001b[0m\u001b[32m]\u001b[0m\u001b[32m . Aydin et al. \u001b[0m\u001b[32m(\u001b[0m\u001b[32m2020\u001b[0m\u001b[32m)\u001b[0m\u001b[32m found that EE is capitalized quite \u001b[0m\n",
       "\u001b[32mprecisely\\\\ninto home prices in the Dutch housing market. de Ayala et al. \u001b[0m\u001b[32m(\u001b[0m\u001b[32m2016\u001b[0m\u001b[32m)\u001b[0m\u001b[32m found in a study on 1507\\\\nhomes \u001b[0m\n",
       "\u001b[32min Spain that dweelings labelled A, B or C are valued at between 5.4% and 9.8% higher price\\\\ncompared to D, E, F \u001b[0m\n",
       "\u001b[32mor G rated home. Franke and Nadler \u001b[0m\u001b[32m(\u001b[0m\u001b[32m2019\u001b[0m\u001b[32m)\u001b[0m\u001b[32m also highlight that, in the rental\\\\ndecision-making, EE achieves a high \u001b[0m\n",
       "\u001b[32mimportance score similar to that of rent, price and location\\\\nrespectively.\\\\nThere is a great deal of statistical\u001b[0m\n",
       "\u001b[32mwork on the effect of climate change on real estate, but very\\\\n1in ton of CO2 emissions per square meter per year \u001b[0m\n",
       "\u001b[32mor kilowatt hour per square meter per year\\\\nPage 3\\\\nModeling the impact of Climate transition on real estate \u001b[0m\n",
       "\u001b[32mprices\\\\nlittle modelling. It is this last point that interests us here\\n\u001b[0m\u001b[32m[\u001b[0m\u001b[32mQuote from Modeling the impact of Climate\u001b[0m\n",
       "\u001b[32mtransition on real estate prices\u001b[0m\u001b[32m]\u001b[0m\u001b[32m . If we look at Figure 4, we remark that when the valuation date is later \u001b[0m\n",
       "\u001b[32mthan\\\\nthe optimal renovation date, the best thing to do is to renovate directly. This stabilizes or \u001b[0m\n",
       "\u001b[32meven\\\\nreverses the price decline. Moreover, by adding the energy costs before renovations, we could reach\\\\n20 to \u001b[0m\n",
       "\u001b[32m30% of depreciation when the carbon price \u001b[0m\u001b[32m(\u001b[0m\u001b[32mso the energy price\u001b[0m\u001b[32m)\u001b[0m\u001b[32m is pretty high. This seems\\\\nPage 20\\\\nModeling the\u001b[0m\n",
       "\u001b[32mimpact of Climate transition on real estate prices\\\\nconsistent with the idea that a thermal sieve loses all its \u001b[0m\n",
       "\u001b[32mvalue and could become impossible to sell,\\\\nbecause of the enormous costs involved in owning it.\\\\nFigure 4: \u001b[0m\n",
       "\u001b[32mApartment value slowdown per scenario and per year\\\\nFinally, it should be noted that the property value discounts \u001b[0m\n",
       "\u001b[32mobtained in this work correspond\\\\nto statistical observations, for example by de Ayala et al. \u001b[0m\n",
       "\u001b[32m(\u001b[0m\u001b[32m2016\u001b[0m\u001b[32m)\u001b[0m\u001b[32m.\\\\nConclusion\\\\nThe aim of this work was to propose a model to assess and quantify the impact of the \u001b[0m\n",
       "\u001b[32mclimate\\\\ntransition on real estate prices\\n\u001b[0m\u001b[32m[\u001b[0m\u001b[32mQuote from Modeling the impact of Climate transition on real estate \u001b[0m\n",
       "\u001b[32mprices\u001b[0m\u001b[32m]\u001b[0m\u001b[32m \"Modeling the impact of Climate transition on real estate prices\\\\nLionel Sopgouia,b,c\\\\na Laboratoire de \u001b[0m\n",
       "\u001b[32mProbabilit\\\\u00b4\\\\nes, Statistique et Mod\\\\u00b4\\\\nelisation \u001b[0m\u001b[32m(\u001b[0m\u001b[32mLPSM\u001b[0m\u001b[32m)\u001b[0m\u001b[32m, Universit\\\\u00b4\\\\ne Paris \u001b[0m\n",
       "\u001b[32mCit\\\\u00b4\\\\ne\\\\nbDepartment of Mathematics, Imperial College London\\\\ncValidation des mod`\\\\neles, Direction des \u001b[0m\n",
       "\u001b[32mrisques, Groupe BPCE\\\\nAbstract\\\\nIn this work, we propose a model to quantify the impact of the climate transition\u001b[0m\n",
       "\u001b[32mon a property\\\\nin housing market. We begin by noting that property is an asset in an economy. That economy\\\\nis \u001b[0m\n",
       "\u001b[32morganized in sectors, driven by its productivity which is a multidimensional Ornstein-Uhlenbeck\\\\nprocess, while \u001b[0m\n",
       "\u001b[32mthe climate transition is declined thanks to the carbon price, a continuous deterministic\\\\nprocess. We then extend\u001b[0m\n",
       "\u001b[32mthe sales comparison approach and the income approach to valuate an\\\\nenergy inefficient real estate asset\\n\\n\\n \u001b[0m\n",
       "\u001b[32m(\u001b[0m\u001b[32mAnswer only from retrieval. Only cite sources that are used. Make your response conversational.\u001b[0m\u001b[32m)\u001b[0m\u001b[32m'\u001b[0m\n",
       "\u001b[1;38;2;118;185;0m        \u001b[0m\u001b[1;38;2;118;185;0m)\u001b[0m\u001b[1;38;2;118;185;0m,\u001b[0m\n",
       "\u001b[1;38;2;118;185;0m        \u001b[0m\u001b[1;35mHumanMessage\u001b[0m\u001b[1;38;2;118;185;0m(\u001b[0m\u001b[1;33mcontent\u001b[0m\u001b[1;38;2;118;185;0m=\u001b[0m\u001b[32m'Is the climate affecting real estate prices!'\u001b[0m\u001b[1;38;2;118;185;0m)\u001b[0m\n",
       "\u001b[1;38;2;118;185;0m    \u001b[0m\u001b[1;38;2;118;185;0m]\u001b[0m\n",
       "\u001b[1;38;2;118;185;0m)\u001b[0m\n"
      ]
     },
     "metadata": {},
     "output_type": "display_data"
    },
    {
     "name": "stdout",
     "output_type": "stream",
     "text": [
      "Yes, the climate is affecting real estate prices. According to a document titled \"Modeling the impact of Climate transition on real estate prices,\" studies have shown that energy efficiency (EE) is capitalized into home prices. For example, in the Dutch housing market, homes labeled A, B, or C are valued at between 5.4% and 9.8% higher prices compared to D, E, F, or G rated homes. Similarly, in Spain, homes with better energy efficiency ratings are valued higher.\n",
      "\n",
      "Furthermore, the study suggests that as the carbon price (energy price) increases, the depreciation of properties with high energy costs also increases. This is consistent with the idea that a thermal sieve (a property with poor energy efficiency) may lose all its value and become impossible to sell due to the enormous costs involved in owning it.\n",
      "\n",
      "The aim of the study was to propose a model to assess and quantify the impact of the climate transition on real estate prices. Therefore, it can be inferred that the climate transition has an impact on real estate prices.\n",
      "\n",
      "Source: Modeling the impact of Climate transition on real estate prices. Available at: [Quote from Modeling the impact of Climate transition on real estate prices]."
     ]
    }
   ],
   "source": [
    "from langchain.document_transformers import LongContextReorder\n",
    "from langchain_core.runnables import RunnableLambda\n",
    "from langchain_core.runnables.passthrough import RunnableAssign\n",
    "from langchain_nvidia_ai_endpoints import ChatNVIDIA, NVIDIAEmbeddings\n",
    "\n",
    "from langchain_core.prompts import ChatPromptTemplate\n",
    "from langchain_core.output_parsers import StrOutputParser\n",
    "\n",
    "import gradio as gr\n",
    "from functools import partial\n",
    "from operator import itemgetter\n",
    "\n",
    "# NVIDIAEmbeddings.get_available_models()\n",
    "embedder = NVIDIAEmbeddings(model=\"nvidia/embed-qa-4\", truncate=\"END\")\n",
    "# ChatNVIDIA.get_available_models()\n",
    "instruct_llm = ChatNVIDIA(model=\"mistralai/mixtral-8x7b-instruct-v0.1\")\n",
    "\n",
    "convstore = default_FAISS()\n",
    "\n",
    "def save_memory_and_get_output(d, vstore):\n",
    "    \"\"\"Accepts 'input'/'output' dictionary and saves to convstore\"\"\"\n",
    "    vstore.add_texts([\n",
    "        f\"User previously responded with {d.get('input')}\",\n",
    "        f\"Agent previously responded with {d.get('output')}\"\n",
    "    ])\n",
    "    return d.get('output')\n",
    "\n",
    "initial_msg = (\n",
    "    \"Hello! I am a document chat agent here to help the user!\"\n",
    "    f\" I have access to the following documents: {doc_string}\\n\\nHow can I help you?\"\n",
    ")\n",
    "\n",
    "chat_prompt = ChatPromptTemplate.from_messages([(\"system\",\n",
    "    \"You are a document chatbot. Help the user as they ask questions about documents.\"\n",
    "    \" User messaged just asked: {input}\\n\\n\"\n",
    "    \" From this, we have retrieved the following potentially-useful info: \"\n",
    "    \" Conversation History Retrieval:\\n{history}\\n\\n\"\n",
    "    \" Document Retrieval:\\n{context}\\n\\n\"\n",
    "    \" (Answer only from retrieval. Only cite sources that are used. Make your response conversational.)\"\n",
    "), ('user', '{input}')])\n",
    "\n",
    "stream_chain = chat_prompt| RPrint() | instruct_llm | StrOutputParser()\n",
    "\n",
    "################################################################################################\n",
    "\n",
    "retrieval_chain = (\n",
    "    {'input' : (lambda x: x)}\n",
    "    ##  Make sure to retrieve history & context from convstore & docstore, respectively.\n",
    "   \n",
    "    | RunnableAssign({'history' : itemgetter('input') | convstore.as_retriever() | long_reorder | docs2str}) \n",
    "    | RunnableAssign({'context' : itemgetter('input') | docstore.as_retriever() | long_reorder | docs2str})\n",
    ")\n",
    "\n",
    "\n",
    "################################################################################################\n",
    "\n",
    "def chat_gen(message, history=[], return_buffer=True):\n",
    "    buffer = \"\"\n",
    "    ## First perform the retrieval based on the input message\n",
    "    retrieval = retrieval_chain.invoke(message)\n",
    "    line_buffer = \"\"\n",
    "\n",
    "    ## Then, stream the results of the stream_chain\n",
    "    for token in stream_chain.stream(retrieval):\n",
    "        buffer += token\n",
    "        ## If you're using standard print, keep line from getting too long\n",
    "        yield buffer if return_buffer else token\n",
    "\n",
    "    ## Lastly, save the chat exchange to the conversation memory buffer\n",
    "    save_memory_and_get_output({'input':  message, 'output': buffer}, convstore)\n",
    "\n",
    "\n",
    "## Start of Agent Event Loop\n",
    "test_question = \"Is the climate affecting real estate prices!\"  ## <- modify as desired\n",
    "\n",
    "## Before you launch your gradio interface, make sure your thing works\n",
    "for response in chat_gen(test_question, return_buffer=False):\n",
    "    print(response, end='')"
   ]
  },
  {
   "cell_type": "markdown",
   "id": "9W7sC5Z6BfqM",
   "metadata": {
    "id": "9W7sC5Z6BfqM"
   },
   "source": [
    "### **Task 4:** Interact With Your Gradio Chatbot"
   ]
  },
  {
   "cell_type": "code",
   "execution_count": 20,
   "id": "fMP3l7QL2JWT",
   "metadata": {
    "id": "fMP3l7QL2JWT"
   },
   "outputs": [
    {
     "name": "stdout",
     "output_type": "stream",
     "text": [
      "Running on local URL:  http://127.0.0.1:7860\n",
      "Running on public URL: https://6f2fd2437608ad5bc9.gradio.live\n",
      "\n",
      "This share link expires in 72 hours. For free permanent hosting and GPU upgrades, run `gradio deploy` from Terminal to deploy to Spaces (https://huggingface.co/spaces)\n"
     ]
    },
    {
     "data": {
      "text/html": [
       "<div><iframe src=\"https://6f2fd2437608ad5bc9.gradio.live\" width=\"100%\" height=\"500\" allow=\"autoplay; camera; microphone; clipboard-read; clipboard-write;\" frameborder=\"0\" allowfullscreen></iframe></div>"
      ],
      "text/plain": [
       "<IPython.core.display.HTML object>"
      ]
     },
     "metadata": {},
     "output_type": "display_data"
    },
    {
     "data": {
      "text/html": [
       "<pre style=\"white-space:pre;overflow-x:auto;line-height:normal;font-family:Menlo,'DejaVu Sans Mono',consolas,'Courier New',monospace\"><span style=\"color: #800080; text-decoration-color: #800080; font-weight: bold\">ChatPromptValue</span><span style=\"color: #76b900; text-decoration-color: #76b900; font-weight: bold\">(</span>\n",
       "<span style=\"color: #76b900; text-decoration-color: #76b900; font-weight: bold\">    </span><span style=\"color: #808000; text-decoration-color: #808000; font-weight: bold\">messages</span><span style=\"color: #76b900; text-decoration-color: #76b900; font-weight: bold\">=[</span>\n",
       "<span style=\"color: #76b900; text-decoration-color: #76b900; font-weight: bold\">        </span><span style=\"color: #800080; text-decoration-color: #800080; font-weight: bold\">SystemMessage</span><span style=\"color: #76b900; text-decoration-color: #76b900; font-weight: bold\">(</span>\n",
       "<span style=\"color: #76b900; text-decoration-color: #76b900; font-weight: bold\">            </span><span style=\"color: #808000; text-decoration-color: #808000; font-weight: bold\">content</span><span style=\"color: #76b900; text-decoration-color: #76b900; font-weight: bold\">=</span><span style=\"color: #008000; text-decoration-color: #008000\">'You are a document chatbot. Help the user as they ask questions about documents. User messaged</span>\n",
       "<span style=\"color: #008000; text-decoration-color: #008000\">just asked: To what extent will climate change affect depreciation?\\n\\n From this, we have retrieved the following </span>\n",
       "<span style=\"color: #008000; text-decoration-color: #008000\">potentially-useful info:  Conversation History Retrieval:\\n[Quote from Document] User previously responded with Is </span>\n",
       "<span style=\"color: #008000; text-decoration-color: #008000\">the climate affecting real estate prices!\\n[Quote from Document] Agent previously responded with Yes, the climate </span>\n",
       "<span style=\"color: #008000; text-decoration-color: #008000\">is affecting real estate prices. According to a document titled \"Modeling the impact of Climate transition on real </span>\n",
       "<span style=\"color: #008000; text-decoration-color: #008000\">estate prices,\" studies have shown that energy efficiency (EE) is capitalized into home prices. For example, in the</span>\n",
       "<span style=\"color: #008000; text-decoration-color: #008000\">Dutch housing market, homes labeled A, B, or C are valued at between 5.4% and 9.8% higher prices compared to D, E, </span>\n",
       "<span style=\"color: #008000; text-decoration-color: #008000\">F, or G rated homes. Similarly, in Spain, homes with better energy efficiency ratings are valued </span>\n",
       "<span style=\"color: #008000; text-decoration-color: #008000\">higher.\\n\\nFurthermore, the study suggests that as the carbon price (energy price) increases, the depreciation of </span>\n",
       "<span style=\"color: #008000; text-decoration-color: #008000\">properties with high energy costs also increases. This is consistent with the idea that a thermal sieve (a property</span>\n",
       "<span style=\"color: #008000; text-decoration-color: #008000\">with poor energy efficiency) may lose all its value and become impossible to sell due to the enormous costs </span>\n",
       "<span style=\"color: #008000; text-decoration-color: #008000\">involved in owning it.\\n\\nThe aim of the study was to propose a model to assess and quantify the impact of the </span>\n",
       "<span style=\"color: #008000; text-decoration-color: #008000\">climate transition on real estate prices. Therefore, it can be inferred that the climate transition has an impact </span>\n",
       "<span style=\"color: #008000; text-decoration-color: #008000\">on real estate prices.\\n\\nSource: Modeling the impact of Climate transition on real estate prices. Available at: </span>\n",
       "<span style=\"color: #008000; text-decoration-color: #008000\">[Quote from Modeling the impact of Climate transition on real estate prices].\\n\\n\\n Document Retrieval:\\n[Quote </span>\n",
       "<span style=\"color: #008000; text-decoration-color: #008000\">from Document] {\\'Published\\': \\'2024-08-05\\', \\'Title\\': \\'Modeling the impact of Climate transition on real </span>\n",
       "<span style=\"color: #008000; text-decoration-color: #008000\">estate prices\\', \\'Authors\\': \\'Lionel Sopgoui\\', \\'Summary\\': \\'In this work, we propose a model to quantify the </span>\n",
       "<span style=\"color: #008000; text-decoration-color: #008000\">impact of the climate\\\\ntransition on a property in housing market. We begin by noting that property is\\\\nan asset </span>\n",
       "<span style=\"color: #008000; text-decoration-color: #008000\">in an economy. That economy is organized in sectors, driven by its\\\\nproductivity which is a multidimensional </span>\n",
       "<span style=\"color: #008000; text-decoration-color: #008000\">Ornstein-Uhlenbeck process, while the\\\\nclimate transition is declined thanks to the carbon price, a </span>\n",
       "<span style=\"color: #008000; text-decoration-color: #008000\">continuous\\\\ndeterministic process. We then extend the sales comparison approach and the\\\\nincome approach to </span>\n",
       "<span style=\"color: #008000; text-decoration-color: #008000\">valuate an energy inefficient real estate asset. We obtain\\\\nits value as the difference between the price of an </span>\n",
       "<span style=\"color: #008000; text-decoration-color: #008000\">equivalent efficient\\\\nbuilding following an exponential Ornstein-Uhlenbeck as well as the actualized\\\\nrenovation </span>\n",
       "<span style=\"color: #008000; text-decoration-color: #008000\">costs and the actualized sum of the future additional energy costs.\\\\nThese costs are due to the inefficiency of </span>\n",
       "<span style=\"color: #008000; text-decoration-color: #008000\">the building, before an optimal\\\\nrenovation date which depends on the carbon price process. Finally, we </span>\n",
       "<span style=\"color: #008000; text-decoration-color: #008000\">carry\\\\nout simulations based on the French economy and the house price index of\\\\nFrance. Our results allow to </span>\n",
       "<span style=\"color: #008000; text-decoration-color: #008000\">conclude that the order of magnitude of the\\\\ndepreciation obtained by our model is the same as the empirical </span>\n",
       "<span style=\"color: #008000; text-decoration-color: #008000\">observations.\\'}\\n[Quote from Modeling the impact of Climate transition on real estate prices] . For the income </span>\n",
       "<span style=\"color: #008000; text-decoration-color: #008000\">approach, the expected net (imputed)\\\\nincome is the tricky quantity to determine. Schulz (2003) takes into account</span>\n",
       "<span style=\"color: #008000; text-decoration-color: #008000\">the relative maintenance\\\\nand repair expenditures, the depreciating rate, the real estate tax rate, the real </span>\n",
       "<span style=\"color: #008000; text-decoration-color: #008000\">interest rate, the\\\\ninflation of the rent (or imputed rent \\\\u2013 the rental price an individual would pay for an</span>\n",
       "<span style=\"color: #008000; text-decoration-color: #008000\">asset they\\\\nown \\\\u2013), etc. We will use these two approaches in this work.\\\\nClimate change has a deep impact </span>\n",
       "<span style=\"color: #008000; text-decoration-color: #008000\">on human societies and their environments.\\\\nOne of the\\\\ncomponents of the climate risk is transition risk which </span>\n",
       "<span style=\"color: #008000; text-decoration-color: #008000\">relates to the potential economic and financial\\\\nlosses associated with the process of adjusting towards a </span>\n",
       "<span style=\"color: #008000; text-decoration-color: #008000\">low-carbon economy.\\\\nTransition risk\\\\nis becoming increasingly important in all parts of the economy and in </span>\n",
       "<span style=\"color: #008000; text-decoration-color: #008000\">particular in real estate.\\\\nResidential or commercial buildings are one of the biggest greenhouse gases (GHG) </span>\n",
       "<span style=\"color: #008000; text-decoration-color: #008000\">emitters. Using\\\\nEurostat GHG emissions data (see Eurostat (2022)), we find in Figure B\\n[Quote from Modeling the </span>\n",
       "<span style=\"color: #008000; text-decoration-color: #008000\">impact of Climate transition on real estate prices] . Aydin et al. (2020) found that EE is capitalized quite </span>\n",
       "<span style=\"color: #008000; text-decoration-color: #008000\">precisely\\\\ninto home prices in the Dutch housing market. de Ayala et al. (2016) found in a study on 1507\\\\nhomes </span>\n",
       "<span style=\"color: #008000; text-decoration-color: #008000\">in Spain that dweelings labelled A, B or C are valued at between 5.4% and 9.8% higher price\\\\ncompared to D, E, F </span>\n",
       "<span style=\"color: #008000; text-decoration-color: #008000\">or G rated home. Franke and Nadler (2019) also highlight that, in the rental\\\\ndecision-making, EE achieves a high </span>\n",
       "<span style=\"color: #008000; text-decoration-color: #008000\">importance score similar to that of rent, price and location\\\\nrespectively.\\\\nThere is a great deal of statistical</span>\n",
       "<span style=\"color: #008000; text-decoration-color: #008000\">work on the effect of climate change on real estate, but very\\\\n1in ton of CO2 emissions per square meter per year </span>\n",
       "<span style=\"color: #008000; text-decoration-color: #008000\">or kilowatt hour per square meter per year\\\\nPage 3\\\\nModeling the impact of Climate transition on real estate </span>\n",
       "<span style=\"color: #008000; text-decoration-color: #008000\">prices\\\\nlittle modelling. It is this last point that interests us here\\n[Quote from Modeling the impact of Climate</span>\n",
       "<span style=\"color: #008000; text-decoration-color: #008000\">transition on real estate prices] . If we look at Figure 4, we remark that when the valuation date is later </span>\n",
       "<span style=\"color: #008000; text-decoration-color: #008000\">than\\\\nthe optimal renovation date, the best thing to do is to renovate directly. This stabilizes or </span>\n",
       "<span style=\"color: #008000; text-decoration-color: #008000\">even\\\\nreverses the price decline. Moreover, by adding the energy costs before renovations, we could reach\\\\n20 to </span>\n",
       "<span style=\"color: #008000; text-decoration-color: #008000\">30% of depreciation when the carbon price (so the energy price) is pretty high. This seems\\\\nPage 20\\\\nModeling the</span>\n",
       "<span style=\"color: #008000; text-decoration-color: #008000\">impact of Climate transition on real estate prices\\\\nconsistent with the idea that a thermal sieve loses all its </span>\n",
       "<span style=\"color: #008000; text-decoration-color: #008000\">value and could become impossible to sell,\\\\nbecause of the enormous costs involved in owning it.\\\\nFigure 4: </span>\n",
       "<span style=\"color: #008000; text-decoration-color: #008000\">Apartment value slowdown per scenario and per year\\\\nFinally, it should be noted that the property value discounts </span>\n",
       "<span style=\"color: #008000; text-decoration-color: #008000\">obtained in this work correspond\\\\nto statistical observations, for example by de Ayala et al. </span>\n",
       "<span style=\"color: #008000; text-decoration-color: #008000\">(2016).\\\\nConclusion\\\\nThe aim of this work was to propose a model to assess and quantify the impact of the </span>\n",
       "<span style=\"color: #008000; text-decoration-color: #008000\">climate\\\\ntransition on real estate prices\\n\\n\\n (Answer only from retrieval. Only cite sources that are used. Make</span>\n",
       "<span style=\"color: #008000; text-decoration-color: #008000\">your response conversational.)'</span>\n",
       "<span style=\"color: #76b900; text-decoration-color: #76b900; font-weight: bold\">        ),</span>\n",
       "<span style=\"color: #76b900; text-decoration-color: #76b900; font-weight: bold\">        </span><span style=\"color: #800080; text-decoration-color: #800080; font-weight: bold\">HumanMessage</span><span style=\"color: #76b900; text-decoration-color: #76b900; font-weight: bold\">(</span><span style=\"color: #808000; text-decoration-color: #808000; font-weight: bold\">content</span><span style=\"color: #76b900; text-decoration-color: #76b900; font-weight: bold\">=</span><span style=\"color: #008000; text-decoration-color: #008000\">'To what extent will climate change affect depreciation?'</span><span style=\"color: #76b900; text-decoration-color: #76b900; font-weight: bold\">)</span>\n",
       "<span style=\"color: #76b900; text-decoration-color: #76b900; font-weight: bold\">    ]</span>\n",
       "<span style=\"color: #76b900; text-decoration-color: #76b900; font-weight: bold\">)</span>\n",
       "</pre>\n"
      ],
      "text/plain": [
       "\u001b[1;35mChatPromptValue\u001b[0m\u001b[1;38;2;118;185;0m(\u001b[0m\n",
       "\u001b[1;38;2;118;185;0m    \u001b[0m\u001b[1;33mmessages\u001b[0m\u001b[1;38;2;118;185;0m=\u001b[0m\u001b[1;38;2;118;185;0m[\u001b[0m\n",
       "\u001b[1;38;2;118;185;0m        \u001b[0m\u001b[1;35mSystemMessage\u001b[0m\u001b[1;38;2;118;185;0m(\u001b[0m\n",
       "\u001b[1;38;2;118;185;0m            \u001b[0m\u001b[1;33mcontent\u001b[0m\u001b[1;38;2;118;185;0m=\u001b[0m\u001b[32m'You are a document chatbot. Help the user as they ask questions about documents. User messaged\u001b[0m\n",
       "\u001b[32mjust asked: To what extent will climate change affect depreciation?\\n\\n From this, we have retrieved the following \u001b[0m\n",
       "\u001b[32mpotentially-useful info:  Conversation History Retrieval:\\n\u001b[0m\u001b[32m[\u001b[0m\u001b[32mQuote from Document\u001b[0m\u001b[32m]\u001b[0m\u001b[32m User previously responded with Is \u001b[0m\n",
       "\u001b[32mthe climate affecting real estate prices!\\n\u001b[0m\u001b[32m[\u001b[0m\u001b[32mQuote from Document\u001b[0m\u001b[32m]\u001b[0m\u001b[32m Agent previously responded with Yes, the climate \u001b[0m\n",
       "\u001b[32mis affecting real estate prices. According to a document titled \"Modeling the impact of Climate transition on real \u001b[0m\n",
       "\u001b[32mestate prices,\" studies have shown that energy efficiency \u001b[0m\u001b[32m(\u001b[0m\u001b[32mEE\u001b[0m\u001b[32m)\u001b[0m\u001b[32m is capitalized into home prices. For example, in the\u001b[0m\n",
       "\u001b[32mDutch housing market, homes labeled A, B, or C are valued at between 5.4% and 9.8% higher prices compared to D, E, \u001b[0m\n",
       "\u001b[32mF, or G rated homes. Similarly, in Spain, homes with better energy efficiency ratings are valued \u001b[0m\n",
       "\u001b[32mhigher.\\n\\nFurthermore, the study suggests that as the carbon price \u001b[0m\u001b[32m(\u001b[0m\u001b[32menergy price\u001b[0m\u001b[32m)\u001b[0m\u001b[32m increases, the depreciation of \u001b[0m\n",
       "\u001b[32mproperties with high energy costs also increases. This is consistent with the idea that a thermal sieve \u001b[0m\u001b[32m(\u001b[0m\u001b[32ma property\u001b[0m\n",
       "\u001b[32mwith poor energy efficiency\u001b[0m\u001b[32m)\u001b[0m\u001b[32m may lose all its value and become impossible to sell due to the enormous costs \u001b[0m\n",
       "\u001b[32minvolved in owning it.\\n\\nThe aim of the study was to propose a model to assess and quantify the impact of the \u001b[0m\n",
       "\u001b[32mclimate transition on real estate prices. Therefore, it can be inferred that the climate transition has an impact \u001b[0m\n",
       "\u001b[32mon real estate prices.\\n\\nSource: Modeling the impact of Climate transition on real estate prices. Available at: \u001b[0m\n",
       "\u001b[32m[\u001b[0m\u001b[32mQuote from Modeling the impact of Climate transition on real estate prices\u001b[0m\u001b[32m]\u001b[0m\u001b[32m.\\n\\n\\n Document Retrieval:\\n\u001b[0m\u001b[32m[\u001b[0m\u001b[32mQuote \u001b[0m\n",
       "\u001b[32mfrom Document\u001b[0m\u001b[32m]\u001b[0m\u001b[32m \u001b[0m\u001b[32m{\u001b[0m\u001b[32m\\'Published\\': \\'2024-08-05\\', \\'Title\\': \\'Modeling the impact of Climate transition on real \u001b[0m\n",
       "\u001b[32mestate prices\\', \\'Authors\\': \\'Lionel Sopgoui\\', \\'Summary\\': \\'In this work, we propose a model to quantify the \u001b[0m\n",
       "\u001b[32mimpact of the climate\\\\ntransition on a property in housing market. We begin by noting that property is\\\\nan asset \u001b[0m\n",
       "\u001b[32min an economy. That economy is organized in sectors, driven by its\\\\nproductivity which is a multidimensional \u001b[0m\n",
       "\u001b[32mOrnstein-Uhlenbeck process, while the\\\\nclimate transition is declined thanks to the carbon price, a \u001b[0m\n",
       "\u001b[32mcontinuous\\\\ndeterministic process. We then extend the sales comparison approach and the\\\\nincome approach to \u001b[0m\n",
       "\u001b[32mvaluate an energy inefficient real estate asset. We obtain\\\\nits value as the difference between the price of an \u001b[0m\n",
       "\u001b[32mequivalent efficient\\\\nbuilding following an exponential Ornstein-Uhlenbeck as well as the actualized\\\\nrenovation \u001b[0m\n",
       "\u001b[32mcosts and the actualized sum of the future additional energy costs.\\\\nThese costs are due to the inefficiency of \u001b[0m\n",
       "\u001b[32mthe building, before an optimal\\\\nrenovation date which depends on the carbon price process. Finally, we \u001b[0m\n",
       "\u001b[32mcarry\\\\nout simulations based on the French economy and the house price index of\\\\nFrance. Our results allow to \u001b[0m\n",
       "\u001b[32mconclude that the order of magnitude of the\\\\ndepreciation obtained by our model is the same as the empirical \u001b[0m\n",
       "\u001b[32mobservations.\\'\u001b[0m\u001b[32m}\u001b[0m\u001b[32m\\n\u001b[0m\u001b[32m[\u001b[0m\u001b[32mQuote from Modeling the impact of Climate transition on real estate prices\u001b[0m\u001b[32m]\u001b[0m\u001b[32m . For the income \u001b[0m\n",
       "\u001b[32mapproach, the expected net \u001b[0m\u001b[32m(\u001b[0m\u001b[32mimputed\u001b[0m\u001b[32m)\u001b[0m\u001b[32m\\\\nincome is the tricky quantity to determine. Schulz \u001b[0m\u001b[32m(\u001b[0m\u001b[32m2003\u001b[0m\u001b[32m)\u001b[0m\u001b[32m takes into account\u001b[0m\n",
       "\u001b[32mthe relative maintenance\\\\nand repair expenditures, the depreciating rate, the real estate tax rate, the real \u001b[0m\n",
       "\u001b[32minterest rate, the\\\\ninflation of the rent \u001b[0m\u001b[32m(\u001b[0m\u001b[32mor imputed rent \\\\u2013 the rental price an individual would pay for an\u001b[0m\n",
       "\u001b[32masset they\\\\nown \\\\u2013\u001b[0m\u001b[32m)\u001b[0m\u001b[32m, etc. We will use these two approaches in this work.\\\\nClimate change has a deep impact \u001b[0m\n",
       "\u001b[32mon human societies and their environments.\\\\nOne of the\\\\ncomponents of the climate risk is transition risk which \u001b[0m\n",
       "\u001b[32mrelates to the potential economic and financial\\\\nlosses associated with the process of adjusting towards a \u001b[0m\n",
       "\u001b[32mlow-carbon economy.\\\\nTransition risk\\\\nis becoming increasingly important in all parts of the economy and in \u001b[0m\n",
       "\u001b[32mparticular in real estate.\\\\nResidential or commercial buildings are one of the biggest greenhouse gases \u001b[0m\u001b[32m(\u001b[0m\u001b[32mGHG\u001b[0m\u001b[32m)\u001b[0m\u001b[32m \u001b[0m\n",
       "\u001b[32memitters. Using\\\\nEurostat GHG emissions data \u001b[0m\u001b[32m(\u001b[0m\u001b[32msee Eurostat \u001b[0m\u001b[32m(\u001b[0m\u001b[32m2022\u001b[0m\u001b[32m)\u001b[0m\u001b[32m)\u001b[0m\u001b[32m, we find in Figure B\\n\u001b[0m\u001b[32m[\u001b[0m\u001b[32mQuote from Modeling the \u001b[0m\n",
       "\u001b[32mimpact of Climate transition on real estate prices\u001b[0m\u001b[32m]\u001b[0m\u001b[32m . Aydin et al. \u001b[0m\u001b[32m(\u001b[0m\u001b[32m2020\u001b[0m\u001b[32m)\u001b[0m\u001b[32m found that EE is capitalized quite \u001b[0m\n",
       "\u001b[32mprecisely\\\\ninto home prices in the Dutch housing market. de Ayala et al. \u001b[0m\u001b[32m(\u001b[0m\u001b[32m2016\u001b[0m\u001b[32m)\u001b[0m\u001b[32m found in a study on 1507\\\\nhomes \u001b[0m\n",
       "\u001b[32min Spain that dweelings labelled A, B or C are valued at between 5.4% and 9.8% higher price\\\\ncompared to D, E, F \u001b[0m\n",
       "\u001b[32mor G rated home. Franke and Nadler \u001b[0m\u001b[32m(\u001b[0m\u001b[32m2019\u001b[0m\u001b[32m)\u001b[0m\u001b[32m also highlight that, in the rental\\\\ndecision-making, EE achieves a high \u001b[0m\n",
       "\u001b[32mimportance score similar to that of rent, price and location\\\\nrespectively.\\\\nThere is a great deal of statistical\u001b[0m\n",
       "\u001b[32mwork on the effect of climate change on real estate, but very\\\\n1in ton of CO2 emissions per square meter per year \u001b[0m\n",
       "\u001b[32mor kilowatt hour per square meter per year\\\\nPage 3\\\\nModeling the impact of Climate transition on real estate \u001b[0m\n",
       "\u001b[32mprices\\\\nlittle modelling. It is this last point that interests us here\\n\u001b[0m\u001b[32m[\u001b[0m\u001b[32mQuote from Modeling the impact of Climate\u001b[0m\n",
       "\u001b[32mtransition on real estate prices\u001b[0m\u001b[32m]\u001b[0m\u001b[32m . If we look at Figure 4, we remark that when the valuation date is later \u001b[0m\n",
       "\u001b[32mthan\\\\nthe optimal renovation date, the best thing to do is to renovate directly. This stabilizes or \u001b[0m\n",
       "\u001b[32meven\\\\nreverses the price decline. Moreover, by adding the energy costs before renovations, we could reach\\\\n20 to \u001b[0m\n",
       "\u001b[32m30% of depreciation when the carbon price \u001b[0m\u001b[32m(\u001b[0m\u001b[32mso the energy price\u001b[0m\u001b[32m)\u001b[0m\u001b[32m is pretty high. This seems\\\\nPage 20\\\\nModeling the\u001b[0m\n",
       "\u001b[32mimpact of Climate transition on real estate prices\\\\nconsistent with the idea that a thermal sieve loses all its \u001b[0m\n",
       "\u001b[32mvalue and could become impossible to sell,\\\\nbecause of the enormous costs involved in owning it.\\\\nFigure 4: \u001b[0m\n",
       "\u001b[32mApartment value slowdown per scenario and per year\\\\nFinally, it should be noted that the property value discounts \u001b[0m\n",
       "\u001b[32mobtained in this work correspond\\\\nto statistical observations, for example by de Ayala et al. \u001b[0m\n",
       "\u001b[32m(\u001b[0m\u001b[32m2016\u001b[0m\u001b[32m)\u001b[0m\u001b[32m.\\\\nConclusion\\\\nThe aim of this work was to propose a model to assess and quantify the impact of the \u001b[0m\n",
       "\u001b[32mclimate\\\\ntransition on real estate prices\\n\\n\\n \u001b[0m\u001b[32m(\u001b[0m\u001b[32mAnswer only from retrieval. Only cite sources that are used. Make\u001b[0m\n",
       "\u001b[32myour response conversational.\u001b[0m\u001b[32m)\u001b[0m\u001b[32m'\u001b[0m\n",
       "\u001b[1;38;2;118;185;0m        \u001b[0m\u001b[1;38;2;118;185;0m)\u001b[0m\u001b[1;38;2;118;185;0m,\u001b[0m\n",
       "\u001b[1;38;2;118;185;0m        \u001b[0m\u001b[1;35mHumanMessage\u001b[0m\u001b[1;38;2;118;185;0m(\u001b[0m\u001b[1;33mcontent\u001b[0m\u001b[1;38;2;118;185;0m=\u001b[0m\u001b[32m'To what extent will climate change affect depreciation?'\u001b[0m\u001b[1;38;2;118;185;0m)\u001b[0m\n",
       "\u001b[1;38;2;118;185;0m    \u001b[0m\u001b[1;38;2;118;185;0m]\u001b[0m\n",
       "\u001b[1;38;2;118;185;0m)\u001b[0m\n"
      ]
     },
     "metadata": {},
     "output_type": "display_data"
    },
    {
     "data": {
      "text/html": [
       "<pre style=\"white-space:pre;overflow-x:auto;line-height:normal;font-family:Menlo,'DejaVu Sans Mono',consolas,'Courier New',monospace\"><span style=\"color: #800080; text-decoration-color: #800080; font-weight: bold\">ChatPromptValue</span><span style=\"color: #76b900; text-decoration-color: #76b900; font-weight: bold\">(</span>\n",
       "<span style=\"color: #76b900; text-decoration-color: #76b900; font-weight: bold\">    </span><span style=\"color: #808000; text-decoration-color: #808000; font-weight: bold\">messages</span><span style=\"color: #76b900; text-decoration-color: #76b900; font-weight: bold\">=[</span>\n",
       "<span style=\"color: #76b900; text-decoration-color: #76b900; font-weight: bold\">        </span><span style=\"color: #800080; text-decoration-color: #800080; font-weight: bold\">SystemMessage</span><span style=\"color: #76b900; text-decoration-color: #76b900; font-weight: bold\">(</span>\n",
       "<span style=\"color: #76b900; text-decoration-color: #76b900; font-weight: bold\">            </span><span style=\"color: #808000; text-decoration-color: #808000; font-weight: bold\">content</span><span style=\"color: #76b900; text-decoration-color: #76b900; font-weight: bold\">=</span><span style=\"color: #008000; text-decoration-color: #008000\">'You are a document chatbot. Help the user as they ask questions about documents. User messaged</span>\n",
       "<span style=\"color: #008000; text-decoration-color: #008000\">just asked: Can anything be done to stop the deprecation of real estate due to climate change \\n\\n From this, we </span>\n",
       "<span style=\"color: #008000; text-decoration-color: #008000\">have retrieved the following potentially-useful info:  Conversation History Retrieval:\\n[Quote from Document] Agent</span>\n",
       "<span style=\"color: #008000; text-decoration-color: #008000\">previously responded with Yes, the climate is affecting real estate prices. According to a document titled </span>\n",
       "<span style=\"color: #008000; text-decoration-color: #008000\">\"Modeling the impact of Climate transition on real estate prices,\" studies have shown that energy efficiency (EE) </span>\n",
       "<span style=\"color: #008000; text-decoration-color: #008000\">is capitalized into home prices. For example, in the Dutch housing market, homes labeled A, B, or C are valued at </span>\n",
       "<span style=\"color: #008000; text-decoration-color: #008000\">between 5.4% and 9.8% higher prices compared to D, E, F, or G rated homes. Similarly, in Spain, homes with better </span>\n",
       "<span style=\"color: #008000; text-decoration-color: #008000\">energy efficiency ratings are valued higher.\\n\\nFurthermore, the study suggests that as the carbon price (energy </span>\n",
       "<span style=\"color: #008000; text-decoration-color: #008000\">price) increases, the depreciation of properties with high energy costs also increases. This is consistent with the</span>\n",
       "<span style=\"color: #008000; text-decoration-color: #008000\">idea that a thermal sieve (a property with poor energy efficiency) may lose all its value and become impossible to </span>\n",
       "<span style=\"color: #008000; text-decoration-color: #008000\">sell due to the enormous costs involved in owning it.\\n\\nThe aim of the study was to propose a model to assess and </span>\n",
       "<span style=\"color: #008000; text-decoration-color: #008000\">quantify the impact of the climate transition on real estate prices. Therefore, it can be inferred that the climate</span>\n",
       "<span style=\"color: #008000; text-decoration-color: #008000\">transition has an impact on real estate prices.\\n\\nSource: Modeling the impact of Climate transition on real estate</span>\n",
       "<span style=\"color: #008000; text-decoration-color: #008000\">prices. Available at: [Quote from Modeling the impact of Climate transition on real estate prices].\\n[Quote from </span>\n",
       "<span style=\"color: #008000; text-decoration-color: #008000\">Document] User previously responded with Is the climate affecting real estate prices!\\n[Quote from Document] User </span>\n",
       "<span style=\"color: #008000; text-decoration-color: #008000\">previously responded with To what extent will climate change affect depreciation?\\n[Quote from Document] Agent </span>\n",
       "<span style=\"color: #008000; text-decoration-color: #008000\">previously responded with Climate change and the transition to a low-carbon economy can have an impact on the </span>\n",
       "<span style=\"color: #008000; text-decoration-color: #008000\">depreciation of real estate, particularly properties with high energy costs. According to a document titled </span>\n",
       "<span style=\"color: #008000; text-decoration-color: #008000\">\"Modeling the impact of Climate transition on real estate prices,\" as the carbon price (which is a measure of the </span>\n",
       "<span style=\"color: #008000; text-decoration-color: #008000\">energy price) increases, the depreciation of these properties also increases. This is consistent with the idea that</span>\n",
       "<span style=\"color: #008000; text-decoration-color: #008000\">a property with poor energy efficiency, also known as a \"thermal sieve,\" may lose all its value and become </span>\n",
       "<span style=\"color: #008000; text-decoration-color: #008000\">impossible to sell due to the high costs involved in owning it. The study also suggests that renovating a property </span>\n",
       "<span style=\"color: #008000; text-decoration-color: #008000\">before its optimal renovation date can stabilize or even reverse the price decline. These findings are based on </span>\n",
       "<span style=\"color: #008000; text-decoration-color: #008000\">simulations using the French economy and house price index as examples.\\n\\nSource: Modeling the impact of Climate </span>\n",
       "<span style=\"color: #008000; text-decoration-color: #008000\">transition on real estate prices. Available at: [Quote from Modeling the impact of Climate transition on real </span>\n",
       "<span style=\"color: #008000; text-decoration-color: #008000\">estate prices].\\n\\n\\n Document Retrieval:\\n[Quote from Modeling the impact of Climate transition on real estate </span>\n",
       "<span style=\"color: #008000; text-decoration-color: #008000\">prices] \"Modeling the impact of Climate transition on real estate prices\\\\nLionel Sopgouia,b,c\\\\na Laboratoire de </span>\n",
       "<span style=\"color: #008000; text-decoration-color: #008000\">Probabilit\\\\u00b4\\\\nes, Statistique et Mod\\\\u00b4\\\\nelisation (LPSM), Universit\\\\u00b4\\\\ne Paris </span>\n",
       "<span style=\"color: #008000; text-decoration-color: #008000\">Cit\\\\u00b4\\\\ne\\\\nbDepartment of Mathematics, Imperial College London\\\\ncValidation des mod`\\\\neles, Direction des </span>\n",
       "<span style=\"color: #008000; text-decoration-color: #008000\">risques, Groupe BPCE\\\\nAbstract\\\\nIn this work, we propose a model to quantify the impact of the climate transition</span>\n",
       "<span style=\"color: #008000; text-decoration-color: #008000\">on a property\\\\nin housing market. We begin by noting that property is an asset in an economy. That economy\\\\nis </span>\n",
       "<span style=\"color: #008000; text-decoration-color: #008000\">organized in sectors, driven by its productivity which is a multidimensional Ornstein-Uhlenbeck\\\\nprocess, while </span>\n",
       "<span style=\"color: #008000; text-decoration-color: #008000\">the climate transition is declined thanks to the carbon price, a continuous deterministic\\\\nprocess. We then extend</span>\n",
       "<span style=\"color: #008000; text-decoration-color: #008000\">the sales comparison approach and the income approach to valuate an\\\\nenergy inefficient real estate asset\\n[Quote </span>\n",
       "<span style=\"color: #008000; text-decoration-color: #008000\">from Modeling the impact of Climate transition on real estate prices] . The framework can be adapted to various </span>\n",
       "<span style=\"color: #008000; text-decoration-color: #008000\">sectors as well as\\\\nscenarios.\\\\n2. Valuation of a propertie under climate transition\\\\nThe problem here is then </span>\n",
       "<span style=\"color: #008000; text-decoration-color: #008000\">to model the real estate market in the presence of the climate transition\\\\nrisk. Let us look at two of the three </span>\n",
       "<span style=\"color: #008000; text-decoration-color: #008000\">approaches mentioned in the introduction: the sales comparison\\\\napproach and the income approach. For the </span>\n",
       "<span style=\"color: #008000; text-decoration-color: #008000\">efficient buildings, we use the first approach. Precisely,\\\\nwe will write the price of a property as the product </span>\n",
       "<span style=\"color: #008000; text-decoration-color: #008000\">of its surface area, its initial price, and the\\\\nhouse price index (the latter described by an exponential </span>\n",
       "<span style=\"color: #008000; text-decoration-color: #008000\">Ornstein\\\\u2013Uhlenbeck dynamics). For the\\\\ninefficient ones, we adopt the second approach. Explicitly, in </span>\n",
       "<span style=\"color: #008000; text-decoration-color: #008000\">addition to all the costs involved in\\\\nowning the property, we will consider the energy costs due to energy </span>\n",
       "<span style=\"color: #008000; text-decoration-color: #008000\">inefficiency and the potential\\\\nrenovation costs\\n[Quote from Modeling the impact of Climate transition on real </span>\n",
       "<span style=\"color: #008000; text-decoration-color: #008000\">estate prices] . We also have the following remarks.\\\\nRemark 2.5. In our model, the usual price of housing is </span>\n",
       "<span style=\"color: #008000; text-decoration-color: #008000\">(partly) offset by the costs Xn\\\\n\\\\u00b7,\\\\u03b4 associated\\\\nwith the climate transition. The dwelling price </span>\n",
       "<span style=\"color: #008000; text-decoration-color: #008000\">could also be negative. However, we can imagine\\\\nmany others ways to decline the effects of transition on real </span>\n",
       "<span style=\"color: #008000; text-decoration-color: #008000\">estate, for example,\\\\n(\\\\nCt = RC0 exp Kt\\\\nKt = ( \\\\u02d9\\\\n\\\\u03c7t + \\\\u03bd(\\\\u03c7t \\\\u2212Kt)) dt + </span>\n",
       "<span style=\"color: #008000; text-decoration-color: #008000\">\\\\u03c3dBt \\\\u2212dXt,\\\\u03b4,\\\\nwhere X is a jump diffusion process.\\\\nPage 12\\\\nModeling the impact of Climate </span>\n",
       "<span style=\"color: #008000; text-decoration-color: #008000\">transition on real estate prices\\\\n1. We could for example assume that X follows a homogenous Markov process: each </span>\n",
       "<span style=\"color: #008000; text-decoration-color: #008000\">year t, the\\\\nenergy efficiency jumps from state st\\\\u22121 to state st, where st\\\\u22121, st \\\\u2208{A, B, C, D, </span>\n",
       "<span style=\"color: #008000; text-decoration-color: #008000\">E, F}, so that\\\\nthe price increases or decreases. A heat sieve that is renovated, for example, would </span>\n",
       "<span style=\"color: #008000; text-decoration-color: #008000\">therefore\\\\nsee its rating improved and then, its price jump. We would calibrate \\\\u201deasily\\\\u201d the </span>\n",
       "<span style=\"color: #008000; text-decoration-color: #008000\">transition\\\\nfrom historical data.\\\\n2\\n[Quote from Modeling the impact of Climate transition on real estate </span>\n",
       "<span style=\"color: #008000; text-decoration-color: #008000\">prices] . If we look at Figure 4, we remark that when the valuation date is later than\\\\nthe optimal renovation </span>\n",
       "<span style=\"color: #008000; text-decoration-color: #008000\">date, the best thing to do is to renovate directly. This stabilizes or even\\\\nreverses the price decline. Moreover,</span>\n",
       "<span style=\"color: #008000; text-decoration-color: #008000\">by adding the energy costs before renovations, we could reach\\\\n20 to 30% of depreciation when the carbon price (so</span>\n",
       "<span style=\"color: #008000; text-decoration-color: #008000\">the energy price) is pretty high. This seems\\\\nPage 20\\\\nModeling the impact of Climate transition on real estate </span>\n",
       "<span style=\"color: #008000; text-decoration-color: #008000\">prices\\\\nconsistent with the idea that a thermal sieve loses all its value and could become impossible to </span>\n",
       "<span style=\"color: #008000; text-decoration-color: #008000\">sell,\\\\nbecause of the enormous costs involved in owning it.\\\\nFigure 4: Apartment value slowdown per scenario and </span>\n",
       "<span style=\"color: #008000; text-decoration-color: #008000\">per year\\\\nFinally, it should be noted that the property value discounts obtained in this work correspond\\\\nto </span>\n",
       "<span style=\"color: #008000; text-decoration-color: #008000\">statistical observations, for example by de Ayala et al. (2016).\\\\nConclusion\\\\nThe aim of this work was to propose</span>\n",
       "<span style=\"color: #008000; text-decoration-color: #008000\">a model to assess and quantify the impact of the climate\\\\ntransition on real estate prices\\n\\n\\n (Answer only from</span>\n",
       "<span style=\"color: #008000; text-decoration-color: #008000\">retrieval. Only cite sources that are used. Make your response conversational.)'</span>\n",
       "<span style=\"color: #76b900; text-decoration-color: #76b900; font-weight: bold\">        ),</span>\n",
       "<span style=\"color: #76b900; text-decoration-color: #76b900; font-weight: bold\">        </span><span style=\"color: #800080; text-decoration-color: #800080; font-weight: bold\">HumanMessage</span><span style=\"color: #76b900; text-decoration-color: #76b900; font-weight: bold\">(</span>\n",
       "<span style=\"color: #76b900; text-decoration-color: #76b900; font-weight: bold\">            </span><span style=\"color: #808000; text-decoration-color: #808000; font-weight: bold\">content</span><span style=\"color: #76b900; text-decoration-color: #76b900; font-weight: bold\">=</span><span style=\"color: #008000; text-decoration-color: #008000\">'Can anything be done to stop the deprecation of real estate due to climate change '</span>\n",
       "<span style=\"color: #76b900; text-decoration-color: #76b900; font-weight: bold\">        )</span>\n",
       "<span style=\"color: #76b900; text-decoration-color: #76b900; font-weight: bold\">    ]</span>\n",
       "<span style=\"color: #76b900; text-decoration-color: #76b900; font-weight: bold\">)</span>\n",
       "</pre>\n"
      ],
      "text/plain": [
       "\u001b[1;35mChatPromptValue\u001b[0m\u001b[1;38;2;118;185;0m(\u001b[0m\n",
       "\u001b[1;38;2;118;185;0m    \u001b[0m\u001b[1;33mmessages\u001b[0m\u001b[1;38;2;118;185;0m=\u001b[0m\u001b[1;38;2;118;185;0m[\u001b[0m\n",
       "\u001b[1;38;2;118;185;0m        \u001b[0m\u001b[1;35mSystemMessage\u001b[0m\u001b[1;38;2;118;185;0m(\u001b[0m\n",
       "\u001b[1;38;2;118;185;0m            \u001b[0m\u001b[1;33mcontent\u001b[0m\u001b[1;38;2;118;185;0m=\u001b[0m\u001b[32m'You are a document chatbot. Help the user as they ask questions about documents. User messaged\u001b[0m\n",
       "\u001b[32mjust asked: Can anything be done to stop the deprecation of real estate due to climate change \\n\\n From this, we \u001b[0m\n",
       "\u001b[32mhave retrieved the following potentially-useful info:  Conversation History Retrieval:\\n\u001b[0m\u001b[32m[\u001b[0m\u001b[32mQuote from Document\u001b[0m\u001b[32m]\u001b[0m\u001b[32m Agent\u001b[0m\n",
       "\u001b[32mpreviously responded with Yes, the climate is affecting real estate prices. According to a document titled \u001b[0m\n",
       "\u001b[32m\"Modeling the impact of Climate transition on real estate prices,\" studies have shown that energy efficiency \u001b[0m\u001b[32m(\u001b[0m\u001b[32mEE\u001b[0m\u001b[32m)\u001b[0m\u001b[32m \u001b[0m\n",
       "\u001b[32mis capitalized into home prices. For example, in the Dutch housing market, homes labeled A, B, or C are valued at \u001b[0m\n",
       "\u001b[32mbetween 5.4% and 9.8% higher prices compared to D, E, F, or G rated homes. Similarly, in Spain, homes with better \u001b[0m\n",
       "\u001b[32menergy efficiency ratings are valued higher.\\n\\nFurthermore, the study suggests that as the carbon price \u001b[0m\u001b[32m(\u001b[0m\u001b[32menergy \u001b[0m\n",
       "\u001b[32mprice\u001b[0m\u001b[32m)\u001b[0m\u001b[32m increases, the depreciation of properties with high energy costs also increases. This is consistent with the\u001b[0m\n",
       "\u001b[32midea that a thermal sieve \u001b[0m\u001b[32m(\u001b[0m\u001b[32ma property with poor energy efficiency\u001b[0m\u001b[32m)\u001b[0m\u001b[32m may lose all its value and become impossible to \u001b[0m\n",
       "\u001b[32msell due to the enormous costs involved in owning it.\\n\\nThe aim of the study was to propose a model to assess and \u001b[0m\n",
       "\u001b[32mquantify the impact of the climate transition on real estate prices. Therefore, it can be inferred that the climate\u001b[0m\n",
       "\u001b[32mtransition has an impact on real estate prices.\\n\\nSource: Modeling the impact of Climate transition on real estate\u001b[0m\n",
       "\u001b[32mprices. Available at: \u001b[0m\u001b[32m[\u001b[0m\u001b[32mQuote from Modeling the impact of Climate transition on real estate prices\u001b[0m\u001b[32m]\u001b[0m\u001b[32m.\\n\u001b[0m\u001b[32m[\u001b[0m\u001b[32mQuote from \u001b[0m\n",
       "\u001b[32mDocument\u001b[0m\u001b[32m]\u001b[0m\u001b[32m User previously responded with Is the climate affecting real estate prices!\\n\u001b[0m\u001b[32m[\u001b[0m\u001b[32mQuote from Document\u001b[0m\u001b[32m]\u001b[0m\u001b[32m User \u001b[0m\n",
       "\u001b[32mpreviously responded with To what extent will climate change affect depreciation?\\n\u001b[0m\u001b[32m[\u001b[0m\u001b[32mQuote from Document\u001b[0m\u001b[32m]\u001b[0m\u001b[32m Agent \u001b[0m\n",
       "\u001b[32mpreviously responded with Climate change and the transition to a low-carbon economy can have an impact on the \u001b[0m\n",
       "\u001b[32mdepreciation of real estate, particularly properties with high energy costs. According to a document titled \u001b[0m\n",
       "\u001b[32m\"Modeling the impact of Climate transition on real estate prices,\" as the carbon price \u001b[0m\u001b[32m(\u001b[0m\u001b[32mwhich is a measure of the \u001b[0m\n",
       "\u001b[32menergy price\u001b[0m\u001b[32m)\u001b[0m\u001b[32m increases, the depreciation of these properties also increases. This is consistent with the idea that\u001b[0m\n",
       "\u001b[32ma property with poor energy efficiency, also known as a \"thermal sieve,\" may lose all its value and become \u001b[0m\n",
       "\u001b[32mimpossible to sell due to the high costs involved in owning it. The study also suggests that renovating a property \u001b[0m\n",
       "\u001b[32mbefore its optimal renovation date can stabilize or even reverse the price decline. These findings are based on \u001b[0m\n",
       "\u001b[32msimulations using the French economy and house price index as examples.\\n\\nSource: Modeling the impact of Climate \u001b[0m\n",
       "\u001b[32mtransition on real estate prices. Available at: \u001b[0m\u001b[32m[\u001b[0m\u001b[32mQuote from Modeling the impact of Climate transition on real \u001b[0m\n",
       "\u001b[32mestate prices\u001b[0m\u001b[32m]\u001b[0m\u001b[32m.\\n\\n\\n Document Retrieval:\\n\u001b[0m\u001b[32m[\u001b[0m\u001b[32mQuote from Modeling the impact of Climate transition on real estate \u001b[0m\n",
       "\u001b[32mprices\u001b[0m\u001b[32m]\u001b[0m\u001b[32m \"Modeling the impact of Climate transition on real estate prices\\\\nLionel Sopgouia,b,c\\\\na Laboratoire de \u001b[0m\n",
       "\u001b[32mProbabilit\\\\u00b4\\\\nes, Statistique et Mod\\\\u00b4\\\\nelisation \u001b[0m\u001b[32m(\u001b[0m\u001b[32mLPSM\u001b[0m\u001b[32m)\u001b[0m\u001b[32m, Universit\\\\u00b4\\\\ne Paris \u001b[0m\n",
       "\u001b[32mCit\\\\u00b4\\\\ne\\\\nbDepartment of Mathematics, Imperial College London\\\\ncValidation des mod`\\\\neles, Direction des \u001b[0m\n",
       "\u001b[32mrisques, Groupe BPCE\\\\nAbstract\\\\nIn this work, we propose a model to quantify the impact of the climate transition\u001b[0m\n",
       "\u001b[32mon a property\\\\nin housing market. We begin by noting that property is an asset in an economy. That economy\\\\nis \u001b[0m\n",
       "\u001b[32morganized in sectors, driven by its productivity which is a multidimensional Ornstein-Uhlenbeck\\\\nprocess, while \u001b[0m\n",
       "\u001b[32mthe climate transition is declined thanks to the carbon price, a continuous deterministic\\\\nprocess. We then extend\u001b[0m\n",
       "\u001b[32mthe sales comparison approach and the income approach to valuate an\\\\nenergy inefficient real estate asset\\n\u001b[0m\u001b[32m[\u001b[0m\u001b[32mQuote \u001b[0m\n",
       "\u001b[32mfrom Modeling the impact of Climate transition on real estate prices\u001b[0m\u001b[32m]\u001b[0m\u001b[32m . The framework can be adapted to various \u001b[0m\n",
       "\u001b[32msectors as well as\\\\nscenarios.\\\\n2. Valuation of a propertie under climate transition\\\\nThe problem here is then \u001b[0m\n",
       "\u001b[32mto model the real estate market in the presence of the climate transition\\\\nrisk. Let us look at two of the three \u001b[0m\n",
       "\u001b[32mapproaches mentioned in the introduction: the sales comparison\\\\napproach and the income approach. For the \u001b[0m\n",
       "\u001b[32mefficient buildings, we use the first approach. Precisely,\\\\nwe will write the price of a property as the product \u001b[0m\n",
       "\u001b[32mof its surface area, its initial price, and the\\\\nhouse price index \u001b[0m\u001b[32m(\u001b[0m\u001b[32mthe latter described by an exponential \u001b[0m\n",
       "\u001b[32mOrnstein\\\\u2013Uhlenbeck dynamics\u001b[0m\u001b[32m)\u001b[0m\u001b[32m. For the\\\\ninefficient ones, we adopt the second approach. Explicitly, in \u001b[0m\n",
       "\u001b[32maddition to all the costs involved in\\\\nowning the property, we will consider the energy costs due to energy \u001b[0m\n",
       "\u001b[32minefficiency and the potential\\\\nrenovation costs\\n\u001b[0m\u001b[32m[\u001b[0m\u001b[32mQuote from Modeling the impact of Climate transition on real \u001b[0m\n",
       "\u001b[32mestate prices\u001b[0m\u001b[32m]\u001b[0m\u001b[32m . We also have the following remarks.\\\\nRemark 2.5. In our model, the usual price of housing is \u001b[0m\n",
       "\u001b[32m(\u001b[0m\u001b[32mpartly\u001b[0m\u001b[32m)\u001b[0m\u001b[32m offset by the costs Xn\\\\n\\\\u00b7,\\\\u03b4 associated\\\\nwith the climate transition. The dwelling price \u001b[0m\n",
       "\u001b[32mcould also be negative. However, we can imagine\\\\nmany others ways to decline the effects of transition on real \u001b[0m\n",
       "\u001b[32mestate, for example,\\\\n\u001b[0m\u001b[32m(\u001b[0m\u001b[32m\\\\nCt = RC0 exp Kt\\\\nKt = \u001b[0m\u001b[32m(\u001b[0m\u001b[32m \\\\u02d9\\\\n\\\\u03c7t + \\\\u03bd\u001b[0m\u001b[32m(\u001b[0m\u001b[32m\\\\u03c7t \\\\u2212Kt\u001b[0m\u001b[32m)\u001b[0m\u001b[32m)\u001b[0m\u001b[32m dt + \u001b[0m\n",
       "\u001b[32m\\\\u03c3dBt \\\\u2212dXt,\\\\u03b4,\\\\nwhere X is a jump diffusion process.\\\\nPage 12\\\\nModeling the impact of Climate \u001b[0m\n",
       "\u001b[32mtransition on real estate prices\\\\n1. We could for example assume that X follows a homogenous Markov process: each \u001b[0m\n",
       "\u001b[32myear t, the\\\\nenergy efficiency jumps from state st\\\\u22121 to state st, where st\\\\u22121, st \\\\u2208\u001b[0m\u001b[32m{\u001b[0m\u001b[32mA, B, C, D, \u001b[0m\n",
       "\u001b[32mE, F\u001b[0m\u001b[32m}\u001b[0m\u001b[32m, so that\\\\nthe price increases or decreases. A heat sieve that is renovated, for example, would \u001b[0m\n",
       "\u001b[32mtherefore\\\\nsee its rating improved and then, its price jump. We would calibrate \\\\u201deasily\\\\u201d the \u001b[0m\n",
       "\u001b[32mtransition\\\\nfrom historical data.\\\\n2\\n\u001b[0m\u001b[32m[\u001b[0m\u001b[32mQuote from Modeling the impact of Climate transition on real estate \u001b[0m\n",
       "\u001b[32mprices\u001b[0m\u001b[32m]\u001b[0m\u001b[32m . If we look at Figure 4, we remark that when the valuation date is later than\\\\nthe optimal renovation \u001b[0m\n",
       "\u001b[32mdate, the best thing to do is to renovate directly. This stabilizes or even\\\\nreverses the price decline. Moreover,\u001b[0m\n",
       "\u001b[32mby adding the energy costs before renovations, we could reach\\\\n20 to 30% of depreciation when the carbon price \u001b[0m\u001b[32m(\u001b[0m\u001b[32mso\u001b[0m\n",
       "\u001b[32mthe energy price\u001b[0m\u001b[32m)\u001b[0m\u001b[32m is pretty high. This seems\\\\nPage 20\\\\nModeling the impact of Climate transition on real estate \u001b[0m\n",
       "\u001b[32mprices\\\\nconsistent with the idea that a thermal sieve loses all its value and could become impossible to \u001b[0m\n",
       "\u001b[32msell,\\\\nbecause of the enormous costs involved in owning it.\\\\nFigure 4: Apartment value slowdown per scenario and \u001b[0m\n",
       "\u001b[32mper year\\\\nFinally, it should be noted that the property value discounts obtained in this work correspond\\\\nto \u001b[0m\n",
       "\u001b[32mstatistical observations, for example by de Ayala et al. \u001b[0m\u001b[32m(\u001b[0m\u001b[32m2016\u001b[0m\u001b[32m)\u001b[0m\u001b[32m.\\\\nConclusion\\\\nThe aim of this work was to propose\u001b[0m\n",
       "\u001b[32ma model to assess and quantify the impact of the climate\\\\ntransition on real estate prices\\n\\n\\n \u001b[0m\u001b[32m(\u001b[0m\u001b[32mAnswer only from\u001b[0m\n",
       "\u001b[32mretrieval. Only cite sources that are used. Make your response conversational.\u001b[0m\u001b[32m)\u001b[0m\u001b[32m'\u001b[0m\n",
       "\u001b[1;38;2;118;185;0m        \u001b[0m\u001b[1;38;2;118;185;0m)\u001b[0m\u001b[1;38;2;118;185;0m,\u001b[0m\n",
       "\u001b[1;38;2;118;185;0m        \u001b[0m\u001b[1;35mHumanMessage\u001b[0m\u001b[1;38;2;118;185;0m(\u001b[0m\n",
       "\u001b[1;38;2;118;185;0m            \u001b[0m\u001b[1;33mcontent\u001b[0m\u001b[1;38;2;118;185;0m=\u001b[0m\u001b[32m'Can anything be done to stop the deprecation of real estate due to climate change '\u001b[0m\n",
       "\u001b[1;38;2;118;185;0m        \u001b[0m\u001b[1;38;2;118;185;0m)\u001b[0m\n",
       "\u001b[1;38;2;118;185;0m    \u001b[0m\u001b[1;38;2;118;185;0m]\u001b[0m\n",
       "\u001b[1;38;2;118;185;0m)\u001b[0m\n"
      ]
     },
     "metadata": {},
     "output_type": "display_data"
    },
    {
     "name": "stdout",
     "output_type": "stream",
     "text": [
      "Keyboard interruption in main thread... closing server.\n",
      "Killing tunnel 127.0.0.1:7860 <> https://6f2fd2437608ad5bc9.gradio.live\n",
      "Closing server running on port: 7860\n"
     ]
    }
   ],
   "source": [
    " chatbot = gr.Chatbot(value = [[None, initial_msg]])\n",
    " demo = gr.ChatInterface(chat_gen, chatbot=chatbot).queue()\n",
    "\n",
    " try:\n",
    "     demo.launch(debug=True, share=True, show_api=False)\n",
    "     demo.close()\n",
    " except Exception as e:\n",
    "     demo.close()\n",
    "     print(e)\n",
    "     raise e"
   ]
  },
  {
   "cell_type": "markdown",
   "id": "yCb3RVVfbmQ0",
   "metadata": {
    "id": "yCb3RVVfbmQ0"
   },
   "source": [
    "<br>\n",
    "\n",
    "----\n",
    "\n",
    "<br>\n",
    "\n",
    "## **Part 4:** Saving Your Index For Evaluation\n",
    "\n",
    "After you've implemented your RAG chain, please save your accumulated vector store as shown [in the official documentation](https://python.langchain.com/docs/integrations/vectorstores/faiss#saving-and-loading). You'll have a chance to use it again for your final assessment!"
   ]
  },
  {
   "cell_type": "code",
   "execution_count": 21,
   "id": "Y4se5wQ4Afda",
   "metadata": {
    "id": "Y4se5wQ4Afda"
   },
   "outputs": [
    {
     "name": "stdout",
     "output_type": "stream",
     "text": [
      "docstore_index/\n",
      "docstore_index/index.pkl\n",
      "docstore_index/index.faiss\n"
     ]
    }
   ],
   "source": [
    "## Save and compress your index\n",
    "docstore.save_local(\"docstore_index\")\n",
    "!tar czvf docstore_index.tgz docstore_index\n",
    "\n",
    "!rm -rf docstore_index"
   ]
  },
  {
   "cell_type": "markdown",
   "id": "LsI7NivbIgFw",
   "metadata": {
    "id": "LsI7NivbIgFw"
   },
   "source": [
    "If everything was properly saved, the following line can be invoked to pull the index from the compressed `tgz` file (assuming the pip requirements are installed). After you have confirmed that the cell can pull in your index, download `docstore_index.tgz` for use in the last notebook!"
   ]
  },
  {
   "cell_type": "code",
   "execution_count": 22,
   "id": "Qs8820ucIu1t",
   "metadata": {
    "id": "Qs8820ucIu1t"
   },
   "outputs": [
    {
     "name": "stdout",
     "output_type": "stream",
     "text": [
      "docstore_index/\n",
      "docstore_index/index.pkl\n",
      "docstore_index/index.faiss\n",
      ".013\\n0.208\\n0.039\\n0.037\\nLow\\n0.072\\n0.039\\n0.059\\n0.020\\nVery Low\\n0.092\\n0.037\\n0.020\\n0.068\\nTable 4: Parameter \\u03a3 of the productivity\\nPage 18\\nModeling the impact of Climate transition on real estate prices\\n4.3.2. The housing pricing index (HPI)\\nWe write the housing price index K in Base 2021 and we apply the logarithm function. This\\nmeans that Kt0 = 0 as shown in Figure 2. We can therefore calibrate \\u03f1, \\u03d1, \\u03bd, \\u03c3, and \\u03c1. The values\\nare presented in Table 5 below.\\nParameter\\nValue\\n\\u03f1\\n0.024\\n\\u03d1\\n-0.884\\n\\u03bd\\n0.026\\n\\u03c3\\n0.050\\n\\u03c1\\n[-0.019, -0.042, -0.017, 0.015]\\nTable 5: Housing price index parameters\\n4.4\n"
     ]
    }
   ],
   "source": [
    "from langchain_nvidia_ai_endpoints import NVIDIAEmbeddings\n",
    "from langchain_community.vectorstores import FAISS\n",
    "\n",
    "# embedder = NVIDIAEmbeddings(model=\"nvidia/embed-qa-4\", truncate=\"END\")\n",
    "!tar xzvf docstore_index.tgz\n",
    "new_db = FAISS.load_local(\"docstore_index\", embedder, allow_dangerous_deserialization=True)\n",
    "docs = new_db.similarity_search(\"Testing the index\")\n",
    "print(docs[0].page_content[:1000])"
   ]
  },
  {
   "cell_type": "markdown",
   "id": "as_3vWJGKB2F",
   "metadata": {
    "id": "as_3vWJGKB2F"
   },
   "source": [
    "-----\n",
    "\n",
    "<br>\n",
    "\n",
    "## **Part 5:** Wrap-Up\n",
    "\n",
    "Congratulations! Assuming your RAG chain is all good, you're now ready to move on to the **RAG Evaluation [Assessment]** section!\n"
   ]
  },
  {
   "cell_type": "markdown",
   "id": "8098de2f-32b3-428e-8f3b-f54141ec40b4",
   "metadata": {
    "id": "8098de2f-32b3-428e-8f3b-f54141ec40b4"
   },
   "source": [
    "<center><a href=\"https://www.nvidia.com/en-us/training/\"><img src=\"https://dli-lms.s3.amazonaws.com/assets/general/DLI_Header_White.png\" width=\"400\" height=\"186\" /></a></center>"
   ]
  }
 ],
 "metadata": {
  "colab": {
   "provenance": []
  },
  "kernelspec": {
   "display_name": "Python 3 (ipykernel)",
   "language": "python",
   "name": "python3"
  },
  "language_info": {
   "codemirror_mode": {
    "name": "ipython",
    "version": 3
   },
   "file_extension": ".py",
   "mimetype": "text/x-python",
   "name": "python",
   "nbconvert_exporter": "python",
   "pygments_lexer": "ipython3",
   "version": "3.11.9"
  }
 },
 "nbformat": 4,
 "nbformat_minor": 5
}
