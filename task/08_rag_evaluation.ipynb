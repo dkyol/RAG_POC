{
 "cells": [
  {
   "cell_type": "markdown",
   "metadata": {
    "id": "b35536f6-166c-4b89-8136-96417db5be30"
   },
   "source": [
    "<center><a href=\"https://www.nvidia.com/en-us/training/\"><img src=\"https://dli-lms.s3.amazonaws.com/assets/general/DLI_Header_White.png\" width=\"400\" height=\"186\" /></a></center>"
   ]
  },
  {
   "cell_type": "markdown",
   "metadata": {
    "id": "77c8ac2e-eb68-4b84-85fe-3a6661eba976"
   },
   "source": [
    "\n",
    "\n",
    "### **Learning Objectives:**\n",
    "\n",
    "- Learn how to integrate the techniques from prior notebooks to numerically approximate the goodness of your RAG pipeline.\n",
    "\n",
    "- **Final Exercice**: ***By working through this notebook in the Course Environment,* you will be able to submit the coding component of the course!**\n",
    "\n",
    "<br>\n",
    "\n",
    "\n",
    "### **Notebook Source:**\n",
    "\n",
    "- This notebook is part of a larger [**NVIDIA Deep Learning Institute**](https://www.nvidia.com/en-us/training/) course titled [**Building RAG Agents with LLMs**](https://www.nvidia.com/en-sg/training/instructor-led-workshops/building-rag-agents-with-llms/). If sharing this material, please give credit and link back to the original course.\n",
    "\n",
    "<br>\n",
    "\n",
    "### **Environment Setup:**"
   ]
  },
  {
   "cell_type": "code",
   "execution_count": 1,
   "metadata": {
    "id": "w_A3rZOrIeQD"
   },
   "outputs": [],
   "source": [
    "# %pip install -q langchain langchain-nvidia-ai-endpoints gradio rich\n",
    "# %pip install -q arxiv pymupdf faiss-cpu ragas\n",
    "\n",
    "## If you encounter a typing-extensions issue, restart your runtime and try again\n",
    "# from langchain_nvidia_ai_endpoints import ChatNVIDIA\n",
    "# ChatNVIDIA.get_available_models()\n",
    "\n",
    "from functools import partial\n",
    "from rich.console import Console\n",
    "from rich.style import Style\n",
    "from rich.theme import Theme\n",
    "\n",
    "console = Console()\n",
    "base_style = Style(color=\"#76B900\", bold=True)\n",
    "norm_style = Style(bold=True)\n",
    "pprint = partial(console.print, style=base_style)\n",
    "pprint2 = partial(console.print, style=norm_style)\n",
    "\n",
    "from langchain_nvidia_ai_endpoints import ChatNVIDIA, NVIDIAEmbeddings\n",
    "\n",
    "NVIDIAEmbeddings.get_available_models(base_url=\"http://llm_client:9000/v1\")\n",
    "embedder = NVIDIAEmbeddings(\n",
    "    model=\"nvidia/embed-qa-4\", truncate=\"END\",\n",
    "    base_url=\"http://llm_client:9000/v1\"\n",
    ")\n",
    "\n",
    "# ChatNVIDIA.get_available_models(base_url=\"http://llm_client:9000/v1\")\n",
    "instruct_llm = ChatNVIDIA(\n",
    "    model=\"mistralai/mixtral-8x22b-instruct-v0.1\",\n",
    "    base_url=\"http://llm_client:9000/v1\"\n",
    ")"
   ]
  },
  {
   "cell_type": "markdown",
   "metadata": {
    "id": "zEgV11oZmJGg"
   },
   "source": [
    "----\n",
    "\n",
    "<br>\n",
    "\n",
    "## **Part 1:** Pre-Release Evaluation\n",
    "\n",
    "In our previous notebook, we successfully combined several concepts to create a document chatbot with the aim of responsive and informative interactions. However, the diversity of user interactions necessitates comprehensive testing to truly understand the chatbot's performance. Thorough testing in varied scenarios is crucial to ensure that the system is not only robust and versatile but also aligns with user and provider expectations.\n",
    "\n",
    "After defining your chatbot's roles and implementing the necessary features, evaluating it becomes a multi-stage process:\n",
    "\n",
    "- **Typical Use Inspection:** Start by testing scenarios most relevant to your use case. See if your chatbot can reliably navigate discussions with limited human intervention.\n",
    "\n",
    "    - Additionally, identify limitations or compartments that should be redirected to a human for inspection/supervision (i.e., human swap-in to confirm transactions or perform sensitive navigation) and implement those options.\n",
    "\n",
    "- **Edge Case Inspection:** Explore the boundaries of typical use, identifying how the chatbot handles less common but plausible scenarios.\n",
    "\n",
    "    - Before any public release, assess critical boundary conditions that could pose liability risks, such as the potential generation of inappropriate content.\n",
    "\n",
    "    - Implement well-tested guardrails on all outputs (and possibly inputs) to limit undesired interactions and redirect users into predictable conversation flows.\n",
    "\n",
    "- **Progressive Rollout:** Rolling out your model to a limited audience (first internal, then [A/B](https://en.wikipedia.org/wiki/A/B_testing)) and implement analytics features like usage analytics dashboards and feedback avenues (flag/like/dislike/etc).\n",
    "\n",
    "Of these three steps, the first two can be done by a small team or an individual and should be iterated on as part of the development process. Unfortunately, this needs to be done frequently and can be prone to human error. **Luckily for us, LLMs can be used to help out with LLM-as-a-Judge formulations!**\n",
    "\n",
    "*(Yeah, this probably isn't surprising by now. LLMs being strong is why this course is here...).*\n",
    "\n",
    "----\n",
    "\n",
    "<br>\n",
    "\n",
    "## **Part 2:** LLM-as-a-Judge Formulation\n",
    "\n",
    "In the realm of conversational AI, using LLMs as evaluators or 'judges' has emerged as a useful approach for configurable automatic testing of natural language task performance:\n",
    "\n",
    "- An LLM can simulate a range of interaction scenarios and generate synthetic data, allowing an evaluation developer to generate targeted inputs to eliciting a range of behaviors from your chatbot.\n",
    "\n",
    "- The chatbot's correspondence/retrieval on the synthetic data can be evaluated or parsed by an LLM and a consistent output format such as \"Pass\"/\"Fail\", similarity, or extraction can be enforced.\n",
    "\n",
    "- Many such results can be aggregated and a metric can be derived which explains something like \"% of passing evaluations\", \"average number of relevant details from the sources\", \"average cosine similarity\", etc.\n",
    "\n",
    "This idea of using LLMs to test out and quantify chatbot quality, known as [**\"LLM-as-a-Judge,\"**](https://arxiv.org/abs/2306.05685) allows for easy test specifications that align closely with human judgment and can be fine-tuned and replicated at scale.\n",
    "\n",
    "**There are several popular frameworks for off-the-shelf judge formulations including:**\n",
    "- [**RAGAs (short for RAG Assessment)**](https://docs.ragas.io/en/stable/), which offers a suite of great starting points for your own evaluation efforts.\n",
    "- [**LangChain Evaluators**](https://python.langchain.com/docs/guides/evaluation/), which are similar first-party options with many implicitly-constructible agents.\n",
    "\n",
    "Instead of using the chains as-is, we will instead expand on the ideas and evaluate our system with a more custom solution."
   ]
  },
  {
   "cell_type": "markdown",
   "metadata": {
    "id": "fDDNaBA9N3XM"
   },
   "source": [
    "----\n",
    "\n",
    "<br>\n",
    "\n",
    "## **Part 3: [Assessment Prep]** Pairwise Evaluator\n",
    "\n",
    "The following exercise will flesh out a custom implementation of a simplified [LangChain Pairwise String Evaluator](https://python.langchain.com/docs/guides/evaluation/examples/comparisons). \n",
    "\n",
    "**To prepare for our RAG chain evaluation, we will need to:**\n",
    "\n",
    "- Pull in our document index (the one we saved in the previous notebook).\n",
    "- Recreate our RAG pipeline of choice.\n",
    "\n",
    "**We will specifically be implementing a judge formulation with the following steps:**\n",
    "\n",
    "- Sample the RAG agent document pool to find two document chunks.\n",
    "- Use those two document chunks to generate a synthetic \"baseline\" question-answer pair.\n",
    "- Use the RAG agent to generate its own answer.\n",
    "- Use a judge LLM to compare the two responses while grounding the synthetic generation as \"ground-truth correct.\"\n",
    "\n",
    "**The chain should be a simple but powerful process that tests for the following objective:**\n",
    "\n",
    "> ***Does my RAG chain outperform a narrow chatbot with limited document access.***\n",
    "\n",
    "\n",
    "\n",
    "\n",
    "\n",
    "**This will be the system used for the final evaluation!** To see how this system is integrated into the autograder, please check out the implementation in [`frontend/server_app.py`](frontend/server_app.py)."
   ]
  },
  {
   "cell_type": "markdown",
   "metadata": {
    "id": "1bh8jaOqak0f"
   },
   "source": [
    "<br>\n",
    "\n",
    "### **Task 1:** Pull In Your Document Retrieval Index\n",
    "\n",
    "For this exercise, you will pull in the `docstore_index` file you created as part of your earlier notebook. The following cell should be able to load in the store as-is."
   ]
  },
  {
   "cell_type": "code",
   "execution_count": 2,
   "metadata": {
    "id": "tlE7a2lseLOy"
   },
   "outputs": [
    {
     "name": "stdout",
     "output_type": "stream",
     "text": [
      "docstore_index/\n",
      "docstore_index/index.pkl\n",
      "docstore_index/index.faiss\n"
     ]
    },
    {
     "data": {
      "text/html": [
       "<pre style=\"white-space:pre;overflow-x:auto;line-height:normal;font-family:Menlo,'DejaVu Sans Mono',consolas,'Courier New',monospace\"><span style=\"color: #76b900; text-decoration-color: #76b900; font-weight: bold\">Constructed aggregate docstore with </span><span style=\"color: #008080; text-decoration-color: #008080; font-weight: bold\">64</span><span style=\"color: #76b900; text-decoration-color: #76b900; font-weight: bold\"> chunks</span>\n",
       "</pre>\n"
      ],
      "text/plain": [
       "\u001b[1;38;2;118;185;0mConstructed aggregate docstore with \u001b[0m\u001b[1;36m64\u001b[0m\u001b[1;38;2;118;185;0m chunks\u001b[0m\n"
      ]
     },
     "metadata": {},
     "output_type": "display_data"
    },
    {
     "data": {
      "text/html": [
       "<pre style=\"white-space:pre;overflow-x:auto;line-height:normal;font-family:Menlo,'DejaVu Sans Mono',consolas,'Courier New',monospace\"><span style=\"color: #76b900; text-decoration-color: #76b900; font-weight: bold\">Sample Chunk:</span>\n",
       "</pre>\n"
      ],
      "text/plain": [
       "\u001b[1;38;2;118;185;0mSample Chunk:\u001b[0m\n"
      ]
     },
     "metadata": {},
     "output_type": "display_data"
    },
    {
     "name": "stdout",
     "output_type": "stream",
     "text": [
      "Paper: Modeling the impact of Climate transition on real estate prices\n",
      "\n",
      "Summary: In this work, we propose a model to quantify the impact of the climate\n",
      "transition on a property in housing market. We begin by noting that property is\n",
      "an asset in an economy. That economy is organized in sectors, driven by its\n",
      "productivity which is a multidimensional Ornstein-Uhlenbeck process, while the\n",
      "climate transition is declined thanks to the carbon price, a continuous\n",
      "deterministic process. We then extend the sales comparison approach and the\n",
      "income approach to valuate an energy inefficient real estate asset. We obtain\n",
      "its value as the difference between the price of an equivalent efficient\n",
      "building following an exponential Ornstein-Uhlenbeck as well as the actualized\n",
      "renovation costs and the actualized sum of the future additional energy costs.\n",
      "These costs are due to the inefficiency of the building, before an optimal\n",
      "renovation date which depends on the carbon price process. Finally, we carry\n",
      "out simulations based on the French economy and the house price index of\n",
      "France. Our results allow to conclude that the order of magnitude of the\n",
      "depreciation obtained by our model is the same as the empirical observations.\n",
      "\n",
      "Page Body: .3 or an example\\ngiven in (1.8).\\nAn example of the renovation costs function. We can consider that the costs of renovation of a\\ndwelling c, to move its energy efficiency from x to y, is\\nc : (x, y) 7\\u2192c0|x \\u2212y|1+c1,\\n(2.13)\\nwith c0 > 0 and c1 \\u2265\\u22121. This choice of c allows us to model that when a building has a bad energy\\nefficiency, its renovation is costly.\\nThe expression (2.11) can be simplified in the following proposition.\\nTheorem 2.4. Assume that the following conditions are satisfied:\\n1. the carbon price function \\u03b4 : t 7\\u2192\\u03b4t is non decreasing on R+ and deterministic;\\n2. the energy price f(\\u00b7, p) is non decreasing on R+ for all p.\\nThen, the market value of the building serving as the collateral to firm n at t \\u22650, given the carbon\\nprice sequence \\u03b4, is given by\\nCt,\\u03b4 = Ct \\u2212RXt,\\u03b4,\\n(2\n"
     ]
    }
   ],
   "source": [
    "## Make sure you have docstore_index.tgz in your working directory\n",
    "from langchain_nvidia_ai_endpoints import NVIDIAEmbeddings\n",
    "from langchain_community.vectorstores import FAISS\n",
    "\n",
    "# embedder = NVIDIAEmbeddings(model=\"nvidia/embed-qa-4\", truncate=\"END\")\n",
    "\n",
    "!tar xzvf docstore_index.tgz\n",
    "docstore = FAISS.load_local(\"docstore_index\", embedder, allow_dangerous_deserialization=True)\n",
    "docs = list(docstore.docstore._dict.values())\n",
    "\n",
    "def format_chunk(doc):\n",
    "    return (\n",
    "        f\"Paper: {doc.metadata.get('Title', 'unknown')}\"\n",
    "        f\"\\n\\nSummary: {doc.metadata.get('Summary', 'unknown')}\"\n",
    "        f\"\\n\\nPage Body: {doc.page_content}\"\n",
    "    )\n",
    "\n",
    "## This printout just confirms that your store has been retrieved\n",
    "pprint(f\"Constructed aggregate docstore with {len(docstore.docstore._dict)} chunks\")\n",
    "pprint(f\"Sample Chunk:\")\n",
    "print(format_chunk(docs[len(docs)//2]))"
   ]
  },
  {
   "cell_type": "markdown",
   "metadata": {
    "id": "dib0F-t2N4LJ"
   },
   "source": [
    "<br>\n",
    "\n",
    "### **Task 2: [Exercise]** Pull In Your RAG Chain\n",
    "\n",
    "Now that we have our index, we can recreate the RAG agent from the previous notebook! \n",
    "\n",
    "**Key Modifications:**\n",
    "- To keep things simple, feel free to disregard the vectorstore-as-a-memory component. Incorporating it will require some more overhead and will make the exercise a bit more complicated."
   ]
  },
  {
   "cell_type": "code",
   "execution_count": 4,
   "metadata": {
    "id": "XBi6Y8b8aXd2"
   },
   "outputs": [
    {
     "name": "stdout",
     "output_type": "stream",
     "text": [
      "Something interesting from the document \"Modeling the impact of Climate transition on real estate prices\" by Lionel Sopgoui is that it proposes a model to quantify the impact of climate transition on a property in the housing market. The model takes into account the energy efficiency of a building and computes its value at a given time, considering the actualized sum of cash flows before and after the renovation date, as well as the additional energy costs due to inefficiency. The agent rationally chooses the date of renovation to maximize the value of their property. The model's results align with empirical observations, showing that the order of magnitude of the depreciation obtained is similar to real-world data. This research has practical applications in government policies, asset management, and credit risk, and it opens the door for several extensions, such as modeling the physical risk depending on the location of the dwelling."
     ]
    }
   ],
   "source": [
    "from langchain_core.output_parsers import StrOutputParser\n",
    "from langchain_core.prompts import ChatPromptTemplate\n",
    "from langchain_core.runnables import RunnableLambda, RunnableBranch\n",
    "from langchain_core.runnables.passthrough import RunnableAssign\n",
    "from langchain.document_transformers import LongContextReorder\n",
    "\n",
    "from langchain_nvidia_ai_endpoints import ChatNVIDIA, NVIDIAEmbeddings\n",
    "\n",
    "from functools import partial\n",
    "from operator import itemgetter\n",
    "\n",
    "import gradio as gr\n",
    "\n",
    "#####################################################################\n",
    "\n",
    "# NVIDIAEmbeddings.get_available_models(base_url=\"http://llm_client:9000/v1\")\n",
    "embedder = NVIDIAEmbeddings(\n",
    "    model=\"nvidia/embed-qa-4\", truncate=\"END\",\n",
    "    base_url=\"http://llm_client:9000/v1\"\n",
    ")\n",
    "\n",
    "# ChatNVIDIA.get_available_models(base_url=\"http://llm_client:9000/v1\")\n",
    "instruct_llm = ChatNVIDIA(\n",
    "    model=\"mistralai/mixtral-8x22b-instruct-v0.1\",\n",
    "    base_url=\"http://llm_client:9000/v1\"\n",
    ")\n",
    "llm = instruct_llm | StrOutputParser()\n",
    "\n",
    "#####################################################################\n",
    "\n",
    "def docs2str(docs, title=\"Document\"):\n",
    "    \"\"\"Useful utility for making chunks into context string. Optional, but useful\"\"\"\n",
    "    out_str = \"\"\n",
    "    for doc in docs:\n",
    "        doc_name = getattr(doc, 'metadata', {}).get('Title', title)\n",
    "        if doc_name: out_str += f\"[Quote from {doc_name}] \"\n",
    "        out_str += getattr(doc, 'page_content', str(doc)) + \"\\n\"\n",
    "    return out_str\n",
    "\n",
    "chat_prompt = ChatPromptTemplate.from_template(\n",
    "    \"You are a document chatbot. Help the user as they ask questions about documents.\"\n",
    "    \" User messaged just asked you a question: {input}\\n\\n\"\n",
    "    \" The following information may be useful for your response: \"\n",
    "    \" Document Retrieval:\\n{context}\\n\\n\"\n",
    "    \" (Answer only from retrieval. Only cite sources that are used. Make your response conversational)\"\n",
    "    \"\\n\\nUser Question: {input}\"\n",
    ")\n",
    "\n",
    "def output_puller(inputs):\n",
    "    \"\"\"\"Output generator. Useful if your chain returns a dictionary with key 'output'\"\"\"\n",
    "    if isinstance(inputs, dict):\n",
    "        inputs = [inputs]\n",
    "    for token in inputs:\n",
    "        if token.get('output'):\n",
    "            yield token.get('output')\n",
    "\n",
    "#####################################################################\n",
    "## Pull in your desired RAG Chain. Memory not necessary\n",
    "\n",
    "## Chain 1 Specs: \"Hello World\" -> retrieval_chain \n",
    "##   -> {'input': <str>, 'context' : <str>}\n",
    "long_reorder = RunnableLambda(LongContextReorder().transform_documents)  ## GIVEN\n",
    "context_getter = itemgetter('input') | docstore.as_retriever() | long_reorder | docs2str \n",
    "retrieval_chain = {'input' : (lambda x: x)} | RunnableAssign({'context' : context_getter})\n",
    "\n",
    "## Chain 2 Specs: retrieval_chain -> generator_chain \n",
    "##   -> {\"output\" : <str>, ...} -> output_puller\n",
    "generator_chain = chat_prompt | llm \n",
    "generator_chain = {'output' : generator_chain} | RunnableLambda(output_puller)  ## GIVEN\n",
    "\n",
    "#####################################################################\n",
    "\n",
    "rag_chain = retrieval_chain | generator_chain\n",
    "\n",
    "# pprint(rag_chain.invoke(\"Tell me something interesting!\"))\n",
    "for token in rag_chain.stream(\"Tell me something interesting!\"):\n",
    "    print(token, end=\"\")"
   ]
  },
  {
   "cell_type": "markdown",
   "metadata": {},
   "source": [
    "<br>\n",
    "\n",
    "### **Step 3:** Generating Synthetic Question-Answer Pairs\n",
    "\n",
    "In this section, we can implement the first few part of our evaluation routine:\n",
    "\n",
    "- **Sample the RAG agent document pool to find two document chunks.**\n",
    "- **Use those two document chunks to generate a synthetic \"baseline\" question-answer pair.**\n",
    "- Use the RAG agent to generate its own answer.\n",
    "- Use a judge LLM to compare the two responses while grounding the synthetic generation as \"ground-truth correct.\"\n",
    "\n",
    "The chain should be a simple but powerful process that tests for the following objective:\n",
    "\n",
    "> Does my RAG chain outperform a narrow chatbot with limited document access."
   ]
  },
  {
   "cell_type": "code",
   "execution_count": 5,
   "metadata": {
    "id": "ymzuX-DSNvL6"
   },
   "outputs": [
    {
     "data": {
      "text/html": [
       "<pre style=\"white-space:pre;overflow-x:auto;line-height:normal;font-family:Menlo,'DejaVu Sans Mono',consolas,'Courier New',monospace\"><span style=\"font-weight: bold\">QA Pair </span><span style=\"color: #008080; text-decoration-color: #008080; font-weight: bold\">1</span>\n",
       "</pre>\n"
      ],
      "text/plain": [
       "\u001b[1mQA Pair \u001b[0m\u001b[1;36m1\u001b[0m\n"
      ]
     },
     "metadata": {},
     "output_type": "display_data"
    },
    {
     "data": {
      "text/html": [
       "<pre style=\"white-space:pre;overflow-x:auto;line-height:normal;font-family:Menlo,'DejaVu Sans Mono',consolas,'Courier New',monospace\"><span style=\"font-weight: bold\">Question: How does the proposed model in the paper determine the impact of climate transition on real estate </span>\n",
       "<span style=\"font-weight: bold\">prices, and what specific assumptions are made about the carbon price process?</span>\n",
       "</pre>\n"
      ],
      "text/plain": [
       "\u001b[1mQuestion: How does the proposed model in the paper determine the impact of climate transition on real estate \u001b[0m\n",
       "\u001b[1mprices, and what specific assumptions are made about the carbon price process?\u001b[0m\n"
      ]
     },
     "metadata": {},
     "output_type": "display_data"
    },
    {
     "data": {
      "text/html": [
       "<pre style=\"white-space:pre;overflow-x:auto;line-height:normal;font-family:Menlo,'DejaVu Sans Mono',consolas,'Courier New',monospace\"><span style=\"color: #76b900; text-decoration-color: #76b900; font-weight: bold\">Answer: The proposed model in the paper extends the sales comparison approach and the income approach to value an </span>\n",
       "<span style=\"color: #76b900; text-decoration-color: #76b900; font-weight: bold\">energy inefficient real estate asset. The value of such an asset is obtained as the difference between the price of</span>\n",
       "<span style=\"color: #76b900; text-decoration-color: #76b900; font-weight: bold\">an equivalent efficient building, following an exponential Ornstein-Uhlenbeck process, minus the actualized </span>\n",
       "<span style=\"color: #76b900; text-decoration-color: #76b900; font-weight: bold\">renovation costs and the actualized sum of future additional energy costs due to the building's inefficiency. The </span>\n",
       "<span style=\"color: #76b900; text-decoration-color: #76b900; font-weight: bold\">optimal renovation date, which depends on the carbon price process, is determined using equations (</span><span style=\"color: #008080; text-decoration-color: #008080; font-weight: bold\">2.16</span><span style=\"color: #76b900; text-decoration-color: #76b900; font-weight: bold\">), (</span><span style=\"color: #008080; text-decoration-color: #008080; font-weight: bold\">2.17</span><span style=\"color: #76b900; text-decoration-color: #76b900; font-weight: bold\">), </span>\n",
       "<span style=\"color: #76b900; text-decoration-color: #76b900; font-weight: bold\">and (</span><span style=\"color: #008080; text-decoration-color: #008080; font-weight: bold\">2.18</span><span style=\"color: #76b900; text-decoration-color: #76b900; font-weight: bold\">) in the paper. The carbon price process is assumed to be a continuous deterministic process that </span>\n",
       "<span style=\"color: #76b900; text-decoration-color: #76b900; font-weight: bold\">increases over time, but other scenarios could be considered, such as a carbon price that increases until a certain</span>\n",
       "<span style=\"color: #76b900; text-decoration-color: #76b900; font-weight: bold\">year before leveling off or even decreasing. It is also assumed that there is a unique carbon price for the entire </span>\n",
       "<span style=\"color: #76b900; text-decoration-color: #76b900; font-weight: bold\">economy, although the framework can be adapted to various sectors and scenarios.</span>\n",
       "</pre>\n"
      ],
      "text/plain": [
       "\u001b[1;38;2;118;185;0mAnswer: The proposed model in the paper extends the sales comparison approach and the income approach to value an \u001b[0m\n",
       "\u001b[1;38;2;118;185;0menergy inefficient real estate asset. The value of such an asset is obtained as the difference between the price of\u001b[0m\n",
       "\u001b[1;38;2;118;185;0man equivalent efficient building, following an exponential Ornstein-Uhlenbeck process, minus the actualized \u001b[0m\n",
       "\u001b[1;38;2;118;185;0mrenovation costs and the actualized sum of future additional energy costs due to the building's inefficiency. The \u001b[0m\n",
       "\u001b[1;38;2;118;185;0moptimal renovation date, which depends on the carbon price process, is determined using equations \u001b[0m\u001b[1;38;2;118;185;0m(\u001b[0m\u001b[1;36m2.16\u001b[0m\u001b[1;38;2;118;185;0m)\u001b[0m\u001b[1;38;2;118;185;0m, \u001b[0m\u001b[1;38;2;118;185;0m(\u001b[0m\u001b[1;36m2.17\u001b[0m\u001b[1;38;2;118;185;0m)\u001b[0m\u001b[1;38;2;118;185;0m, \u001b[0m\n",
       "\u001b[1;38;2;118;185;0mand \u001b[0m\u001b[1;38;2;118;185;0m(\u001b[0m\u001b[1;36m2.18\u001b[0m\u001b[1;38;2;118;185;0m)\u001b[0m\u001b[1;38;2;118;185;0m in the paper. The carbon price process is assumed to be a continuous deterministic process that \u001b[0m\n",
       "\u001b[1;38;2;118;185;0mincreases over time, but other scenarios could be considered, such as a carbon price that increases until a certain\u001b[0m\n",
       "\u001b[1;38;2;118;185;0myear before leveling off or even decreasing. It is also assumed that there is a unique carbon price for the entire \u001b[0m\n",
       "\u001b[1;38;2;118;185;0meconomy, although the framework can be adapted to various sectors and scenarios.\u001b[0m\n"
      ]
     },
     "metadata": {},
     "output_type": "display_data"
    },
    {
     "name": "stdout",
     "output_type": "stream",
     "text": [
      "\n"
     ]
    },
    {
     "data": {
      "text/html": [
       "<pre style=\"white-space:pre;overflow-x:auto;line-height:normal;font-family:Menlo,'DejaVu Sans Mono',consolas,'Courier New',monospace\"><span style=\"font-weight: bold\">QA Pair </span><span style=\"color: #008080; text-decoration-color: #008080; font-weight: bold\">2</span>\n",
       "</pre>\n"
      ],
      "text/plain": [
       "\u001b[1mQA Pair \u001b[0m\u001b[1;36m2\u001b[0m\n"
      ]
     },
     "metadata": {},
     "output_type": "display_data"
    },
    {
     "data": {
      "text/html": [
       "<pre style=\"white-space:pre;overflow-x:auto;line-height:normal;font-family:Menlo,'DejaVu Sans Mono',consolas,'Courier New',monospace\"><span style=\"font-weight: bold\">Question: How does the proposed model in the paper calculate the value of a dwelling considering its energy </span>\n",
       "<span style=\"font-weight: bold\">efficiency, and which carbon price trajectory scenarios were used for the climate transition simulation?</span>\n",
       "</pre>\n"
      ],
      "text/plain": [
       "\u001b[1mQuestion: How does the proposed model in the paper calculate the value of a dwelling considering its energy \u001b[0m\n",
       "\u001b[1mefficiency, and which carbon price trajectory scenarios were used for the climate transition simulation?\u001b[0m\n"
      ]
     },
     "metadata": {},
     "output_type": "display_data"
    },
    {
     "data": {
      "text/html": [
       "<pre style=\"white-space:pre;overflow-x:auto;line-height:normal;font-family:Menlo,'DejaVu Sans Mono',consolas,'Courier New',monospace\"><span style=\"color: #76b900; text-decoration-color: #76b900; font-weight: bold\">Answer: The proposed model calculates the value of a dwelling by considering the actualized sum of cash flows </span>\n",
       "<span style=\"color: #76b900; text-decoration-color: #76b900; font-weight: bold\">before, during, and after the renovation date, when the building becomes energy efficient. The optimal renovation </span>\n",
       "<span style=\"color: #76b900; text-decoration-color: #76b900; font-weight: bold\">date is chosen rationally to maximize the property value. Four deterministic carbon price trajectory scenarios were</span>\n",
       "<span style=\"color: #76b900; text-decoration-color: #76b900; font-weight: bold\">used for climate transition simulation, namely: Net Zero </span><span style=\"color: #008080; text-decoration-color: #008080; font-weight: bold\">2050</span><span style=\"color: #76b900; text-decoration-color: #76b900; font-weight: bold\">, which limits global warming to </span><span style=\"color: #008080; text-decoration-color: #008080; font-weight: bold\">1.5</span><span style=\"color: #76b900; text-decoration-color: #76b900; font-weight: bold\">°C by reaching net</span>\n",
       "<span style=\"color: #76b900; text-decoration-color: #76b900; font-weight: bold\">zero CO2 emissions around </span><span style=\"color: #008080; text-decoration-color: #008080; font-weight: bold\">2050</span><span style=\"color: #76b900; text-decoration-color: #76b900; font-weight: bold\">, with some jurisdictions like the US, EU, and Japan reaching net zero for all GHG by</span>\n",
       "<span style=\"color: #76b900; text-decoration-color: #76b900; font-weight: bold\">this point.</span>\n",
       "</pre>\n"
      ],
      "text/plain": [
       "\u001b[1;38;2;118;185;0mAnswer: The proposed model calculates the value of a dwelling by considering the actualized sum of cash flows \u001b[0m\n",
       "\u001b[1;38;2;118;185;0mbefore, during, and after the renovation date, when the building becomes energy efficient. The optimal renovation \u001b[0m\n",
       "\u001b[1;38;2;118;185;0mdate is chosen rationally to maximize the property value. Four deterministic carbon price trajectory scenarios were\u001b[0m\n",
       "\u001b[1;38;2;118;185;0mused for climate transition simulation, namely: Net Zero \u001b[0m\u001b[1;36m2050\u001b[0m\u001b[1;38;2;118;185;0m, which limits global warming to \u001b[0m\u001b[1;36m1.5\u001b[0m\u001b[1;38;2;118;185;0m°C by reaching net\u001b[0m\n",
       "\u001b[1;38;2;118;185;0mzero CO2 emissions around \u001b[0m\u001b[1;36m2050\u001b[0m\u001b[1;38;2;118;185;0m, with some jurisdictions like the US, EU, and Japan reaching net zero for all GHG by\u001b[0m\n",
       "\u001b[1;38;2;118;185;0mthis point.\u001b[0m\n"
      ]
     },
     "metadata": {},
     "output_type": "display_data"
    },
    {
     "name": "stdout",
     "output_type": "stream",
     "text": [
      "\n"
     ]
    },
    {
     "data": {
      "text/html": [
       "<pre style=\"white-space:pre;overflow-x:auto;line-height:normal;font-family:Menlo,'DejaVu Sans Mono',consolas,'Courier New',monospace\"><span style=\"font-weight: bold\">QA Pair </span><span style=\"color: #008080; text-decoration-color: #008080; font-weight: bold\">3</span>\n",
       "</pre>\n"
      ],
      "text/plain": [
       "\u001b[1mQA Pair \u001b[0m\u001b[1;36m3\u001b[0m\n"
      ]
     },
     "metadata": {},
     "output_type": "display_data"
    },
    {
     "data": {
      "text/html": [
       "<pre style=\"white-space:pre;overflow-x:auto;line-height:normal;font-family:Menlo,'DejaVu Sans Mono',consolas,'Courier New',monospace\"><span style=\"font-weight: bold\">Question: How does the energy efficiency of a building impact its growth in value over time, considering the </span>\n",
       "<span style=\"font-weight: bold\">climate transition and renovation costs, based on simulations of the French housing market?</span>\n",
       "</pre>\n"
      ],
      "text/plain": [
       "\u001b[1mQuestion: How does the energy efficiency of a building impact its growth in value over time, considering the \u001b[0m\n",
       "\u001b[1mclimate transition and renovation costs, based on simulations of the French housing market?\u001b[0m\n"
      ]
     },
     "metadata": {},
     "output_type": "display_data"
    },
    {
     "data": {
      "text/html": [
       "<pre style=\"white-space:pre;overflow-x:auto;line-height:normal;font-family:Menlo,'DejaVu Sans Mono',consolas,'Courier New',monospace\"><span style=\"color: #76b900; text-decoration-color: #76b900; font-weight: bold\">Answer: According to the presented papers, the energy efficiency of a building impacts its growth in value </span>\n",
       "<span style=\"color: #76b900; text-decoration-color: #76b900; font-weight: bold\">differently over time. While almost all building prices continue to grow with time, those with higher energy </span>\n",
       "<span style=\"color: #76b900; text-decoration-color: #76b900; font-weight: bold\">efficiency are less affected by the impact of the climate transition through energy and renovation costs. </span>\n",
       "<span style=\"color: #76b900; text-decoration-color: #76b900; font-weight: bold\">Furthermore, renovation costs have a stronger impact on building prices in the beginning, and as time passes, the </span>\n",
       "<span style=\"color: #76b900; text-decoration-color: #76b900; font-weight: bold\">effect of renovation costs decreases due to the approaching end of the climate transition and potential renovation </span>\n",
       "<span style=\"color: #76b900; text-decoration-color: #76b900; font-weight: bold\">dates. For example, in the case of Net Zero </span><span style=\"color: #008080; text-decoration-color: #008080; font-weight: bold\">2050</span><span style=\"color: #76b900; text-decoration-color: #76b900; font-weight: bold\"> scenario, the average annual slowdown in housing price growth </span>\n",
       "<span style=\"color: #76b900; text-decoration-color: #76b900; font-weight: bold\">ranges from </span><span style=\"color: #008080; text-decoration-color: #008080; font-weight: bold\">-29.776</span><span style=\"color: #76b900; text-decoration-color: #76b900; font-weight: bold\">% to </span><span style=\"color: #008080; text-decoration-color: #008080; font-weight: bold\">-0.263</span><span style=\"color: #76b900; text-decoration-color: #76b900; font-weight: bold\">% compared to the Current Policies scenario between </span><span style=\"color: #008080; text-decoration-color: #008080; font-weight: bold\">2021</span><span style=\"color: #76b900; text-decoration-color: #76b900; font-weight: bold\"> and </span><span style=\"color: #008080; text-decoration-color: #008080; font-weight: bold\">2030</span><span style=\"color: #76b900; text-decoration-color: #76b900; font-weight: bold\">.</span>\n",
       "</pre>\n"
      ],
      "text/plain": [
       "\u001b[1;38;2;118;185;0mAnswer: According to the presented papers, the energy efficiency of a building impacts its growth in value \u001b[0m\n",
       "\u001b[1;38;2;118;185;0mdifferently over time. While almost all building prices continue to grow with time, those with higher energy \u001b[0m\n",
       "\u001b[1;38;2;118;185;0mefficiency are less affected by the impact of the climate transition through energy and renovation costs. \u001b[0m\n",
       "\u001b[1;38;2;118;185;0mFurthermore, renovation costs have a stronger impact on building prices in the beginning, and as time passes, the \u001b[0m\n",
       "\u001b[1;38;2;118;185;0meffect of renovation costs decreases due to the approaching end of the climate transition and potential renovation \u001b[0m\n",
       "\u001b[1;38;2;118;185;0mdates. For example, in the case of Net Zero \u001b[0m\u001b[1;36m2050\u001b[0m\u001b[1;38;2;118;185;0m scenario, the average annual slowdown in housing price growth \u001b[0m\n",
       "\u001b[1;38;2;118;185;0mranges from \u001b[0m\u001b[1;36m-29.776\u001b[0m\u001b[1;38;2;118;185;0m% to \u001b[0m\u001b[1;36m-0.263\u001b[0m\u001b[1;38;2;118;185;0m% compared to the Current Policies scenario between \u001b[0m\u001b[1;36m2021\u001b[0m\u001b[1;38;2;118;185;0m and \u001b[0m\u001b[1;36m2030\u001b[0m\u001b[1;38;2;118;185;0m.\u001b[0m\n"
      ]
     },
     "metadata": {},
     "output_type": "display_data"
    },
    {
     "name": "stdout",
     "output_type": "stream",
     "text": [
      "\n"
     ]
    }
   ],
   "source": [
    "import random\n",
    "\n",
    "num_questions = 3\n",
    "synth_questions = []\n",
    "synth_answers = []\n",
    "\n",
    "simple_prompt = ChatPromptTemplate.from_template('INSTRUCTION:\\n\\n{system}\\n\\nINPUT:\\n\\n{input}')\n",
    "\n",
    "for i in range(num_questions):\n",
    "    doc1, doc2 = random.sample(docs, 2)\n",
    "    sys_msg = (\n",
    "        \"Use the documents provided by the user to generate an interesting question-answer pair.\"\n",
    "        \" Try to use both documents if possible, and rely more on the document bodies than the summary.\"\n",
    "        \" Use the format:\\nQuestion: (good question, 1-3 sentences, detailed)\\n\\nAnswer: (answer derived from the documents)\"\n",
    "    )\n",
    "    usr_msg = (\n",
    "        f\"Document1: {format_chunk(doc1)}\\n\\n\"\n",
    "        f\"Document2: {format_chunk(doc2)}\"\n",
    "    )\n",
    "\n",
    "    qa_pair = (simple_prompt | llm).invoke({'system': sys_msg, 'input': usr_msg})\n",
    "    synth_questions += [qa_pair.split('\\n\\n')[0]]\n",
    "    synth_answers += [qa_pair.split('\\n\\n')[1]]\n",
    "    pprint2(f\"QA Pair {i+1}\")\n",
    "    pprint2(synth_questions[-1])\n",
    "    pprint(synth_answers[-1])\n",
    "    print()"
   ]
  },
  {
   "cell_type": "markdown",
   "metadata": {
    "id": "c5Q-3X4vS98P"
   },
   "source": [
    "<br>\n",
    "\n",
    "### **Step 4:** Answer The Synthetic Questions\n",
    "\n",
    "In this section, we can implement the third part of our evaluation routine:\n",
    "\n",
    "- Sample the RAG agent document pool to find two document chunks.\n",
    "- Use those two document chunks to generate a synthetic \"baseline\" question-answer pair.\n",
    "- **Use the RAG agent to generate its own answer.**\n",
    "- Use a judge LLM to compare the two responses while grounding the synthetic generation as \"ground-truth correct.\"\n",
    "\n",
    "The chain should be a simple but powerful process that tests for the following objective:\n",
    "\n",
    "> Does my RAG chain outperform a narrow chatbot with limited document access."
   ]
  },
  {
   "cell_type": "code",
   "execution_count": 7,
   "metadata": {},
   "outputs": [
    {
     "data": {
      "text/plain": [
       "['Question: How does the proposed model in the paper determine the impact of climate transition on real estate prices, and what specific assumptions are made about the carbon price process?',\n",
       " 'Question: How does the proposed model in the paper calculate the value of a dwelling considering its energy efficiency, and which carbon price trajectory scenarios were used for the climate transition simulation?',\n",
       " 'Question: How does the energy efficiency of a building impact its growth in value over time, considering the climate transition and renovation costs, based on simulations of the French housing market?']"
      ]
     },
     "execution_count": 7,
     "metadata": {},
     "output_type": "execute_result"
    }
   ],
   "source": [
    "synth_questions"
   ]
  },
  {
   "cell_type": "code",
   "execution_count": 16,
   "metadata": {
    "id": "7T3GSwhZPHjF"
   },
   "outputs": [
    {
     "data": {
      "text/html": [
       "<pre style=\"white-space:pre;overflow-x:auto;line-height:normal;font-family:Menlo,'DejaVu Sans Mono',consolas,'Courier New',monospace\"><span style=\"font-weight: bold\">QA Pair </span><span style=\"color: #008080; text-decoration-color: #008080; font-weight: bold\">1</span>\n",
       "<span style=\"font-weight: bold\">Question: How does the proposed model in the paper determine the impact of climate transition on real estate </span>\n",
       "<span style=\"font-weight: bold\">prices, and what specific assumptions are made about the carbon price process?</span>\n",
       "\n",
       "</pre>\n"
      ],
      "text/plain": [
       "\u001b[1mQA Pair \u001b[0m\u001b[1;36m1\u001b[0m\n",
       "\u001b[1mQuestion: How does the proposed model in the paper determine the impact of climate transition on real estate \u001b[0m\n",
       "\u001b[1mprices, and what specific assumptions are made about the carbon price process?\u001b[0m\n",
       "\n"
      ]
     },
     "metadata": {},
     "output_type": "display_data"
    },
    {
     "data": {
      "text/html": [
       "<pre style=\"white-space:pre;overflow-x:auto;line-height:normal;font-family:Menlo,'DejaVu Sans Mono',consolas,'Courier New',monospace\"><span style=\"color: #76b900; text-decoration-color: #76b900; font-weight: bold\">RAG Answer: In the paper </span><span style=\"color: #008000; text-decoration-color: #008000\">\"Modeling the impact of Climate transition on real estate prices,\"</span><span style=\"color: #76b900; text-decoration-color: #76b900; font-weight: bold\"> the authors, Lionel </span>\n",
       "<span style=\"color: #76b900; text-decoration-color: #76b900; font-weight: bold\">Sopgouia and colleagues, propose a model to quantify the impact of climate transition on real estate assets. They </span>\n",
       "<span style=\"color: #76b900; text-decoration-color: #76b900; font-weight: bold\">consider property as an asset in an economy that is organized in sectors, driven by its productivity which is a </span>\n",
       "<span style=\"color: #76b900; text-decoration-color: #76b900; font-weight: bold\">multidimensional Ornstein-Uhlenbeck process. The climate transition is then modeled using the carbon price, which </span>\n",
       "<span style=\"color: #76b900; text-decoration-color: #76b900; font-weight: bold\">is described as a continuous deterministic process.</span>\n",
       "\n",
       "<span style=\"color: #76b900; text-decoration-color: #76b900; font-weight: bold\">The impact on real estate prices is determined by extending the sales comparison approach and the income approach. </span>\n",
       "<span style=\"color: #76b900; text-decoration-color: #76b900; font-weight: bold\">The market value of the building serving as collateral to firm n at t &gt;= </span><span style=\"color: #008080; text-decoration-color: #008080; font-weight: bold\">0</span><span style=\"color: #76b900; text-decoration-color: #76b900; font-weight: bold\">, given the carbon price sequence δ, is </span>\n",
       "<span style=\"color: #76b900; text-decoration-color: #76b900; font-weight: bold\">represented by the equation (</span><span style=\"color: #008080; text-decoration-color: #008080; font-weight: bold\">2.11</span><span style=\"color: #76b900; text-decoration-color: #76b900; font-weight: bold\">) in the paper. This equation takes into account factors such as the source of </span>\n",
       "<span style=\"color: #76b900; text-decoration-color: #76b900; font-weight: bold\">energy p, the renovation costs, and the future additional energy costs due to the building's inefficiency.</span>\n",
       "\n",
       "<span style=\"color: #76b900; text-decoration-color: #76b900; font-weight: bold\">The carbon price process is introduced as follows: for </span><span style=\"color: #008080; text-decoration-color: #008080; font-weight: bold\">0</span><span style=\"color: #76b900; text-decoration-color: #76b900; font-weight: bold\"> &lt;</span><span style=\"color: #000000; text-decoration-color: #000000; font-weight: bold\">= t≤ &lt; t‡ given, the sequence δ satisfies: for t in [</span><span style=\"color: #008080; text-decoration-color: #008080; font-weight: bold\">0</span><span style=\"color: #000000; text-decoration-color: #000000; font-weight: bold\">; </span>\n",
       "<span style=\"color: #000000; text-decoration-color: #000000; font-weight: bold\">t≤], δt = δ0, which means the carbon price is constant; for t in (t≤, t‡), δt in (R+)I, the carbon price may </span>\n",
       "<span style=\"color: #000000; text-decoration-color: #000000; font-weight: bold\">evolve; and for t &gt;= t‡, δt = δt‡ in (R+)I, which means the carbon price is constant again. It is also assumed that</span>\n",
       "<span style=\"color: #000000; text-decoration-color: #000000; font-weight: bold\">t → δt is </span><span style=\"color: #800080; text-decoration-color: #800080; font-weight: bold\">C1</span><span style=\"color: #000000; text-decoration-color: #000000; font-weight: bold\">(R+, R+).</span>\n",
       "\n",
       "<span style=\"color: #000000; text-decoration-color: #000000; font-weight: bold\">The authors also provide an example of the carbon price process, where the regulator fixes t≤ &gt;= </span><span style=\"color: #008080; text-decoration-color: #008080; font-weight: bold\">0</span><span style=\"color: #000000; text-decoration-color: #000000; font-weight: bold\"> when the </span>\n",
       "<span style=\"color: #000000; text-decoration-color: #000000; font-weight: bold\">transition starts and the transition horizon time t‡ &gt; t≤, the carbon price at the beginning of the transition </span>\n",
       "<span style=\"color: #000000; text-decoration-color: #000000; font-weight: bold\">Pcarbon &gt; </span><span style=\"color: #008080; text-decoration-color: #008080; font-weight: bold\">0</span><span style=\"color: #000000; text-decoration-color: #000000; font-weight: bold\">, at the end of the transition δt‡ &gt; Pcarbon, and the annual growth rate ηδ </span><span style=\"color: #76b900; text-decoration-color: #76b900; font-weight: bold\">&gt; </span><span style=\"color: #008080; text-decoration-color: #008080; font-weight: bold\">0</span><span style=\"color: #76b900; text-decoration-color: #76b900; font-weight: bold\">.</span>\n",
       "\n",
       "<span style=\"color: #76b900; text-decoration-color: #76b900; font-weight: bold\">Sources:</span>\n",
       "<span style=\"color: #008080; text-decoration-color: #008080; font-weight: bold\">1</span><span style=\"color: #76b900; text-decoration-color: #76b900; font-weight: bold\">. Modeling the impact of Climate transition on real estate prices</span>\n",
       "<span style=\"color: #008080; text-decoration-color: #008080; font-weight: bold\">2</span><span style=\"color: #76b900; text-decoration-color: #76b900; font-weight: bold\">. Published on </span><span style=\"color: #008080; text-decoration-color: #008080; font-weight: bold\">2024</span><span style=\"color: #76b900; text-decoration-color: #76b900; font-weight: bold\">-</span><span style=\"color: #008080; text-decoration-color: #008080; font-weight: bold\">08</span><span style=\"color: #76b900; text-decoration-color: #76b900; font-weight: bold\">-</span><span style=\"color: #008080; text-decoration-color: #008080; font-weight: bold\">05</span>\n",
       "<span style=\"color: #008080; text-decoration-color: #008080; font-weight: bold\">3</span><span style=\"color: #76b900; text-decoration-color: #76b900; font-weight: bold\">. Lionel Sopgouia</span>\n",
       "<span style=\"color: #008080; text-decoration-color: #008080; font-weight: bold\">4</span><span style=\"color: #76b900; text-decoration-color: #76b900; font-weight: bold\">. Title: Modeling the impact of Climate transition on real estate prices</span>\n",
       "\n",
       "</pre>\n"
      ],
      "text/plain": [
       "\u001b[1;38;2;118;185;0mRAG Answer: In the paper \u001b[0m\u001b[32m\"Modeling the impact of Climate transition on real estate prices,\"\u001b[0m\u001b[1;38;2;118;185;0m the authors, Lionel \u001b[0m\n",
       "\u001b[1;38;2;118;185;0mSopgouia and colleagues, propose a model to quantify the impact of climate transition on real estate assets. They \u001b[0m\n",
       "\u001b[1;38;2;118;185;0mconsider property as an asset in an economy that is organized in sectors, driven by its productivity which is a \u001b[0m\n",
       "\u001b[1;38;2;118;185;0mmultidimensional Ornstein-Uhlenbeck process. The climate transition is then modeled using the carbon price, which \u001b[0m\n",
       "\u001b[1;38;2;118;185;0mis described as a continuous deterministic process.\u001b[0m\n",
       "\n",
       "\u001b[1;38;2;118;185;0mThe impact on real estate prices is determined by extending the sales comparison approach and the income approach. \u001b[0m\n",
       "\u001b[1;38;2;118;185;0mThe market value of the building serving as collateral to firm n at t >= \u001b[0m\u001b[1;36m0\u001b[0m\u001b[1;38;2;118;185;0m, given the carbon price sequence δ, is \u001b[0m\n",
       "\u001b[1;38;2;118;185;0mrepresented by the equation \u001b[0m\u001b[1;38;2;118;185;0m(\u001b[0m\u001b[1;36m2.11\u001b[0m\u001b[1;38;2;118;185;0m)\u001b[0m\u001b[1;38;2;118;185;0m in the paper. This equation takes into account factors such as the source of \u001b[0m\n",
       "\u001b[1;38;2;118;185;0menergy p, the renovation costs, and the future additional energy costs due to the building's inefficiency.\u001b[0m\n",
       "\n",
       "\u001b[1;38;2;118;185;0mThe carbon price process is introduced as follows: for \u001b[0m\u001b[1;36m0\u001b[0m\u001b[1;38;2;118;185;0m \u001b[0m\u001b[1;38;2;118;185;0m<\u001b[0m\u001b[1;39m= t≤ < t‡ given, the sequence δ satisfies: for t in \u001b[0m\u001b[1;39m[\u001b[0m\u001b[1;36m0\u001b[0m\u001b[1;39m; \u001b[0m\n",
       "\u001b[1;39mt≤\u001b[0m\u001b[1;39m]\u001b[0m\u001b[1;39m, δt = δ0, which means the carbon price is constant; for t in \u001b[0m\u001b[1;39m(\u001b[0m\u001b[1;39mt≤, t‡\u001b[0m\u001b[1;39m)\u001b[0m\u001b[1;39m, δt in \u001b[0m\u001b[1;39m(\u001b[0m\u001b[1;39mR+\u001b[0m\u001b[1;39m)\u001b[0m\u001b[1;39mI, the carbon price may \u001b[0m\n",
       "\u001b[1;39mevolve; and for t >= t‡, δt = δt‡ in \u001b[0m\u001b[1;39m(\u001b[0m\u001b[1;39mR+\u001b[0m\u001b[1;39m)\u001b[0m\u001b[1;39mI, which means the carbon price is constant again. It is also assumed that\u001b[0m\n",
       "\u001b[1;39mt → δt is \u001b[0m\u001b[1;35mC1\u001b[0m\u001b[1;39m(\u001b[0m\u001b[1;39mR+, R+\u001b[0m\u001b[1;39m)\u001b[0m\u001b[1;39m.\u001b[0m\n",
       "\n",
       "\u001b[1;39mThe authors also provide an example of the carbon price process, where the regulator fixes t≤ >= \u001b[0m\u001b[1;36m0\u001b[0m\u001b[1;39m when the \u001b[0m\n",
       "\u001b[1;39mtransition starts and the transition horizon time t‡ > t≤, the carbon price at the beginning of the transition \u001b[0m\n",
       "\u001b[1;39mPcarbon > \u001b[0m\u001b[1;36m0\u001b[0m\u001b[1;39m, at the end of the transition δt‡ > Pcarbon, and the annual growth rate ηδ \u001b[0m\u001b[1;38;2;118;185;0m>\u001b[0m\u001b[1;38;2;118;185;0m \u001b[0m\u001b[1;36m0\u001b[0m\u001b[1;38;2;118;185;0m.\u001b[0m\n",
       "\n",
       "\u001b[1;38;2;118;185;0mSources:\u001b[0m\n",
       "\u001b[1;36m1\u001b[0m\u001b[1;38;2;118;185;0m. Modeling the impact of Climate transition on real estate prices\u001b[0m\n",
       "\u001b[1;36m2\u001b[0m\u001b[1;38;2;118;185;0m. Published on \u001b[0m\u001b[1;36m2024\u001b[0m\u001b[1;38;2;118;185;0m-\u001b[0m\u001b[1;36m08\u001b[0m\u001b[1;38;2;118;185;0m-\u001b[0m\u001b[1;36m05\u001b[0m\n",
       "\u001b[1;36m3\u001b[0m\u001b[1;38;2;118;185;0m. Lionel Sopgouia\u001b[0m\n",
       "\u001b[1;36m4\u001b[0m\u001b[1;38;2;118;185;0m. Title: Modeling the impact of Climate transition on real estate prices\u001b[0m\n",
       "\n"
      ]
     },
     "metadata": {},
     "output_type": "display_data"
    },
    {
     "data": {
      "text/html": [
       "<pre style=\"white-space:pre;overflow-x:auto;line-height:normal;font-family:Menlo,'DejaVu Sans Mono',consolas,'Courier New',monospace\"><span style=\"font-weight: bold\">QA Pair </span><span style=\"color: #008080; text-decoration-color: #008080; font-weight: bold\">2</span>\n",
       "<span style=\"font-weight: bold\">Question: How does the proposed model in the paper calculate the value of a dwelling considering its energy </span>\n",
       "<span style=\"font-weight: bold\">efficiency, and which carbon price trajectory scenarios were used for the climate transition simulation?</span>\n",
       "\n",
       "</pre>\n"
      ],
      "text/plain": [
       "\u001b[1mQA Pair \u001b[0m\u001b[1;36m2\u001b[0m\n",
       "\u001b[1mQuestion: How does the proposed model in the paper calculate the value of a dwelling considering its energy \u001b[0m\n",
       "\u001b[1mefficiency, and which carbon price trajectory scenarios were used for the climate transition simulation?\u001b[0m\n",
       "\n"
      ]
     },
     "metadata": {},
     "output_type": "display_data"
    },
    {
     "data": {
      "text/html": [
       "<pre style=\"white-space:pre;overflow-x:auto;line-height:normal;font-family:Menlo,'DejaVu Sans Mono',consolas,'Courier New',monospace\"><span style=\"color: #76b900; text-decoration-color: #76b900; font-weight: bold\">RAG Answer: In the paper </span><span style=\"color: #008000; text-decoration-color: #008000\">\"Modeling the impact of Climate transition on real estate prices,\"</span><span style=\"color: #76b900; text-decoration-color: #76b900; font-weight: bold\"> the proposed model </span>\n",
       "<span style=\"color: #76b900; text-decoration-color: #76b900; font-weight: bold\">calculates the value of a dwelling considering its energy efficiency by obtaining its value as the difference </span>\n",
       "<span style=\"color: #76b900; text-decoration-color: #76b900; font-weight: bold\">between the price of an equivalent efficient building following an exponential Ornstein-Uhlenbeck process, as well </span>\n",
       "<span style=\"color: #76b900; text-decoration-color: #76b900; font-weight: bold\">as the actualized renovation costs and the actualized sum of the future additional energy costs. These costs are </span>\n",
       "<span style=\"color: #76b900; text-decoration-color: #76b900; font-weight: bold\">due to the inefficiency of the building before an optimal renovation date, which depends on the carbon price </span>\n",
       "<span style=\"color: #76b900; text-decoration-color: #76b900; font-weight: bold\">process (Sopgoui, </span><span style=\"color: #008080; text-decoration-color: #008080; font-weight: bold\">2024</span><span style=\"color: #76b900; text-decoration-color: #76b900; font-weight: bold\">).</span>\n",
       "\n",
       "<span style=\"color: #76b900; text-decoration-color: #76b900; font-weight: bold\">Regarding the carbon price trajectory scenarios used for the climate transition simulation, the paper mentions that</span>\n",
       "<span style=\"color: #76b900; text-decoration-color: #76b900; font-weight: bold\">the energy price is a deterministic function of the carbon price and the source of energy, and that the climate </span>\n",
       "<span style=\"color: #76b900; text-decoration-color: #76b900; font-weight: bold\">transition is declined thanks to the carbon price, which is a continuous deterministic process. However, the </span>\n",
       "<span style=\"color: #76b900; text-decoration-color: #76b900; font-weight: bold\">specific carbon price trajectory scenarios used for the simulation, such as the Divergent Net Zero or Net Zero </span><span style=\"color: #008080; text-decoration-color: #008080; font-weight: bold\">2050</span>\n",
       "<span style=\"color: #76b900; text-decoration-color: #76b900; font-weight: bold\">scenarios, are not explicitly mentioned in the provided text excerpts (Sopgoui, </span><span style=\"color: #008080; text-decoration-color: #008080; font-weight: bold\">2024</span><span style=\"color: #76b900; text-decoration-color: #76b900; font-weight: bold\">). Please refer to the original</span>\n",
       "<span style=\"color: #76b900; text-decoration-color: #76b900; font-weight: bold\">paper for more information on the carbon price trajectory scenarios used in the simulation.</span>\n",
       "\n",
       "<span style=\"color: #800080; text-decoration-color: #800080; font-weight: bold\">Reference</span><span style=\"color: #76b900; text-decoration-color: #76b900; font-weight: bold\">(s):</span>\n",
       "<span style=\"color: #76b900; text-decoration-color: #76b900; font-weight: bold\">- Sopgoui, Lionel. </span><span style=\"color: #008000; text-decoration-color: #008000\">\"Modeling the impact of Climate transition on real estate prices.\"</span><span style=\"color: #76b900; text-decoration-color: #76b900; font-weight: bold\"> </span><span style=\"color: #008080; text-decoration-color: #008080; font-weight: bold\">2024</span><span style=\"color: #76b900; text-decoration-color: #76b900; font-weight: bold\">.</span>\n",
       "\n",
       "</pre>\n"
      ],
      "text/plain": [
       "\u001b[1;38;2;118;185;0mRAG Answer: In the paper \u001b[0m\u001b[32m\"Modeling the impact of Climate transition on real estate prices,\"\u001b[0m\u001b[1;38;2;118;185;0m the proposed model \u001b[0m\n",
       "\u001b[1;38;2;118;185;0mcalculates the value of a dwelling considering its energy efficiency by obtaining its value as the difference \u001b[0m\n",
       "\u001b[1;38;2;118;185;0mbetween the price of an equivalent efficient building following an exponential Ornstein-Uhlenbeck process, as well \u001b[0m\n",
       "\u001b[1;38;2;118;185;0mas the actualized renovation costs and the actualized sum of the future additional energy costs. These costs are \u001b[0m\n",
       "\u001b[1;38;2;118;185;0mdue to the inefficiency of the building before an optimal renovation date, which depends on the carbon price \u001b[0m\n",
       "\u001b[1;38;2;118;185;0mprocess \u001b[0m\u001b[1;38;2;118;185;0m(\u001b[0m\u001b[1;38;2;118;185;0mSopgoui, \u001b[0m\u001b[1;36m2024\u001b[0m\u001b[1;38;2;118;185;0m)\u001b[0m\u001b[1;38;2;118;185;0m.\u001b[0m\n",
       "\n",
       "\u001b[1;38;2;118;185;0mRegarding the carbon price trajectory scenarios used for the climate transition simulation, the paper mentions that\u001b[0m\n",
       "\u001b[1;38;2;118;185;0mthe energy price is a deterministic function of the carbon price and the source of energy, and that the climate \u001b[0m\n",
       "\u001b[1;38;2;118;185;0mtransition is declined thanks to the carbon price, which is a continuous deterministic process. However, the \u001b[0m\n",
       "\u001b[1;38;2;118;185;0mspecific carbon price trajectory scenarios used for the simulation, such as the Divergent Net Zero or Net Zero \u001b[0m\u001b[1;36m2050\u001b[0m\n",
       "\u001b[1;38;2;118;185;0mscenarios, are not explicitly mentioned in the provided text excerpts \u001b[0m\u001b[1;38;2;118;185;0m(\u001b[0m\u001b[1;38;2;118;185;0mSopgoui, \u001b[0m\u001b[1;36m2024\u001b[0m\u001b[1;38;2;118;185;0m)\u001b[0m\u001b[1;38;2;118;185;0m. Please refer to the original\u001b[0m\n",
       "\u001b[1;38;2;118;185;0mpaper for more information on the carbon price trajectory scenarios used in the simulation.\u001b[0m\n",
       "\n",
       "\u001b[1;35mReference\u001b[0m\u001b[1;38;2;118;185;0m(\u001b[0m\u001b[1;38;2;118;185;0ms\u001b[0m\u001b[1;38;2;118;185;0m)\u001b[0m\u001b[1;38;2;118;185;0m:\u001b[0m\n",
       "\u001b[1;38;2;118;185;0m- Sopgoui, Lionel. \u001b[0m\u001b[32m\"Modeling the impact of Climate transition on real estate prices.\"\u001b[0m\u001b[1;38;2;118;185;0m \u001b[0m\u001b[1;36m2024\u001b[0m\u001b[1;38;2;118;185;0m.\u001b[0m\n",
       "\n"
      ]
     },
     "metadata": {},
     "output_type": "display_data"
    },
    {
     "data": {
      "text/html": [
       "<pre style=\"white-space:pre;overflow-x:auto;line-height:normal;font-family:Menlo,'DejaVu Sans Mono',consolas,'Courier New',monospace\"><span style=\"font-weight: bold\">QA Pair </span><span style=\"color: #008080; text-decoration-color: #008080; font-weight: bold\">3</span>\n",
       "<span style=\"font-weight: bold\">Question: How does the energy efficiency of a building impact its growth in value over time, considering the </span>\n",
       "<span style=\"font-weight: bold\">climate transition and renovation costs, based on simulations of the French housing market?</span>\n",
       "\n",
       "</pre>\n"
      ],
      "text/plain": [
       "\u001b[1mQA Pair \u001b[0m\u001b[1;36m3\u001b[0m\n",
       "\u001b[1mQuestion: How does the energy efficiency of a building impact its growth in value over time, considering the \u001b[0m\n",
       "\u001b[1mclimate transition and renovation costs, based on simulations of the French housing market?\u001b[0m\n",
       "\n"
      ]
     },
     "metadata": {},
     "output_type": "display_data"
    },
    {
     "data": {
      "text/html": [
       "<pre style=\"white-space:pre;overflow-x:auto;line-height:normal;font-family:Menlo,'DejaVu Sans Mono',consolas,'Courier New',monospace\"><span style=\"color: #76b900; text-decoration-color: #76b900; font-weight: bold\">RAG Answer: According to the research paper </span><span style=\"color: #008000; text-decoration-color: #008000\">\"Modeling the impact of Climate transition on real estate prices\"</span><span style=\"color: #76b900; text-decoration-color: #76b900; font-weight: bold\"> by </span>\n",
       "<span style=\"color: #76b900; text-decoration-color: #76b900; font-weight: bold\">Lionel Sopgoui, energy efficiency significantly impacts a building's growth in value over time, considering the </span>\n",
       "<span style=\"color: #76b900; text-decoration-color: #76b900; font-weight: bold\">climate transition and renovation costs. The study presents a model to quantify the impact of climate transition on</span>\n",
       "<span style=\"color: #76b900; text-decoration-color: #76b900; font-weight: bold\">a property in the housing market, with the economy's productivity being a multidimensional Ornstein-Uhlenbeck </span>\n",
       "<span style=\"color: #76b900; text-decoration-color: #76b900; font-weight: bold\">process.</span>\n",
       "\n",
       "<span style=\"color: #76b900; text-decoration-color: #76b900; font-weight: bold\">In their approach, the value of an energy-inefficient real estate asset is determined by subtracting the actualized</span>\n",
       "<span style=\"color: #76b900; text-decoration-color: #76b900; font-weight: bold\">renovation costs and the actualized sum of future additional energy costs from the price of an equivalent efficient</span>\n",
       "<span style=\"color: #76b900; text-decoration-color: #76b900; font-weight: bold\">building. These additional costs stem from the building's inefficiency before an optimal renovation date that </span>\n",
       "<span style=\"color: #76b900; text-decoration-color: #76b900; font-weight: bold\">depends on the carbon price process.</span>\n",
       "\n",
       "<span style=\"color: #76b900; text-decoration-color: #76b900; font-weight: bold\">The study considers </span><span style=\"color: #008080; text-decoration-color: #008080; font-weight: bold\">5</span><span style=\"color: #76b900; text-decoration-color: #76b900; font-weight: bold\"> buildings located in the French economy, each with different energy efficiencies. All </span>\n",
       "<span style=\"color: #76b900; text-decoration-color: #76b900; font-weight: bold\">buildings continue to increase in value over time, but their growths are affected differently by their respective </span>\n",
       "<span style=\"color: #76b900; text-decoration-color: #76b900; font-weight: bold\">energy efficiencies. The impact of energy and renovation costs is more significant in the early stages, and as time</span>\n",
       "<span style=\"color: #76b900; text-decoration-color: #76b900; font-weight: bold\">passes, the economy gets closer to the end of the climate transition, as well as potential renovation dates.</span>\n",
       "\n",
       "<span style=\"color: #76b900; text-decoration-color: #76b900; font-weight: bold\">Ultimately, the research concludes that the order of magnitude of depreciation due to energy inefficiency, as </span>\n",
       "<span style=\"color: #76b900; text-decoration-color: #76b900; font-weight: bold\">obtained by the model, is consistent with empirical observations. Hence, improving the energy efficiency of a </span>\n",
       "<span style=\"color: #76b900; text-decoration-color: #76b900; font-weight: bold\">building can help minimize the negative impact of climate transition on its growth in value over time.</span>\n",
       "\n",
       "</pre>\n"
      ],
      "text/plain": [
       "\u001b[1;38;2;118;185;0mRAG Answer: According to the research paper \u001b[0m\u001b[32m\"Modeling the impact of Climate transition on real estate prices\"\u001b[0m\u001b[1;38;2;118;185;0m by \u001b[0m\n",
       "\u001b[1;38;2;118;185;0mLionel Sopgoui, energy efficiency significantly impacts a building's growth in value over time, considering the \u001b[0m\n",
       "\u001b[1;38;2;118;185;0mclimate transition and renovation costs. The study presents a model to quantify the impact of climate transition on\u001b[0m\n",
       "\u001b[1;38;2;118;185;0ma property in the housing market, with the economy's productivity being a multidimensional Ornstein-Uhlenbeck \u001b[0m\n",
       "\u001b[1;38;2;118;185;0mprocess.\u001b[0m\n",
       "\n",
       "\u001b[1;38;2;118;185;0mIn their approach, the value of an energy-inefficient real estate asset is determined by subtracting the actualized\u001b[0m\n",
       "\u001b[1;38;2;118;185;0mrenovation costs and the actualized sum of future additional energy costs from the price of an equivalent efficient\u001b[0m\n",
       "\u001b[1;38;2;118;185;0mbuilding. These additional costs stem from the building's inefficiency before an optimal renovation date that \u001b[0m\n",
       "\u001b[1;38;2;118;185;0mdepends on the carbon price process.\u001b[0m\n",
       "\n",
       "\u001b[1;38;2;118;185;0mThe study considers \u001b[0m\u001b[1;36m5\u001b[0m\u001b[1;38;2;118;185;0m buildings located in the French economy, each with different energy efficiencies. All \u001b[0m\n",
       "\u001b[1;38;2;118;185;0mbuildings continue to increase in value over time, but their growths are affected differently by their respective \u001b[0m\n",
       "\u001b[1;38;2;118;185;0menergy efficiencies. The impact of energy and renovation costs is more significant in the early stages, and as time\u001b[0m\n",
       "\u001b[1;38;2;118;185;0mpasses, the economy gets closer to the end of the climate transition, as well as potential renovation dates.\u001b[0m\n",
       "\n",
       "\u001b[1;38;2;118;185;0mUltimately, the research concludes that the order of magnitude of depreciation due to energy inefficiency, as \u001b[0m\n",
       "\u001b[1;38;2;118;185;0mobtained by the model, is consistent with empirical observations. Hence, improving the energy efficiency of a \u001b[0m\n",
       "\u001b[1;38;2;118;185;0mbuilding can help minimize the negative impact of climate transition on its growth in value over time.\u001b[0m\n",
       "\n"
      ]
     },
     "metadata": {},
     "output_type": "display_data"
    }
   ],
   "source": [
    "##  Generate some synthetic answers to the questions above.\n",
    "\n",
    "rag_answers = []\n",
    "for i, q in enumerate(synth_questions):\n",
    "    ## Compute the RAG Answer\n",
    "    \n",
    "    rag_answer = \"\"\n",
    "    for token in rag_chain.stream(q):\n",
    "        #print(token, end=\"\")\n",
    "        rag_answer += token\n",
    "\n",
    "    pprint2(f\"QA Pair {i+1}\", q, \"\", sep=\"\\n\")\n",
    "    pprint(f\"RAG Answer: {rag_answer}\", \"\", sep='\\n')\n",
    "\n",
    "    rag_answers.append(rag_answer)"
   ]
  },
  {
   "cell_type": "markdown",
   "metadata": {
    "id": "Ho5cnN_Xt_yr"
   },
   "source": [
    "<br>\n",
    "\n",
    "### **Step 5:** Implement A Human Preference Metric\n",
    "\n",
    "In this section, we can implement the fourth part of our evaluation routine:\n",
    "\n",
    "- Sample the RAG agent document pool to find two document chunks.\n",
    "- Use those two document chunks to generate a synthetic \"baseline\" question-answer pair.\n",
    "- Use the RAG agent to generate its own answer.\n",
    "- **Use a judge LLM to compare the two responses while grounding the synthetic generation as \"ground-truth correct.\"**\n",
    "\n",
    "The chain should be a simple but powerful process that tests for the following objective:\n",
    "\n",
    "> Does my RAG chain outperform a narrow chatbot with limited document access."
   ]
  },
  {
   "cell_type": "code",
   "execution_count": 17,
   "metadata": {
    "id": "sf6f2oFLuPtu"
   },
   "outputs": [
    {
     "data": {
      "text/html": [
       "<pre style=\"white-space:pre;overflow-x:auto;line-height:normal;font-family:Menlo,'DejaVu Sans Mono',consolas,'Courier New',monospace\"><span style=\"font-weight: bold\">Set </span><span style=\"color: #008080; text-decoration-color: #008080; font-weight: bold\">1</span>\n",
       "\n",
       "<span style=\"font-weight: bold\">Question: Question: How does the proposed model in the paper determine the impact of climate transition on real </span>\n",
       "<span style=\"font-weight: bold\">estate prices, and what specific assumptions are made about the carbon price process?</span>\n",
       "\n",
       "\n",
       "</pre>\n"
      ],
      "text/plain": [
       "\u001b[1mSet \u001b[0m\u001b[1;36m1\u001b[0m\n",
       "\n",
       "\u001b[1mQuestion: Question: How does the proposed model in the paper determine the impact of climate transition on real \u001b[0m\n",
       "\u001b[1mestate prices, and what specific assumptions are made about the carbon price process?\u001b[0m\n",
       "\n",
       "\n"
      ]
     },
     "metadata": {},
     "output_type": "display_data"
    },
    {
     "data": {
      "text/html": [
       "<pre style=\"white-space:pre;overflow-x:auto;line-height:normal;font-family:Menlo,'DejaVu Sans Mono',consolas,'Courier New',monospace\"><span style=\"color: #76b900; text-decoration-color: #76b900; font-weight: bold\">Synth Answer: Answer: The proposed model in the paper extends the sales comparison approach and the income approach</span>\n",
       "<span style=\"color: #76b900; text-decoration-color: #76b900; font-weight: bold\">to value an energy inefficient real estate asset. The value of such an asset is obtained as the difference between </span>\n",
       "<span style=\"color: #76b900; text-decoration-color: #76b900; font-weight: bold\">the price of an equivalent efficient building, following an exponential Ornstein-Uhlenbeck process, minus the </span>\n",
       "<span style=\"color: #76b900; text-decoration-color: #76b900; font-weight: bold\">actualized renovation costs and the actualized sum of future additional energy costs due to the building's </span>\n",
       "<span style=\"color: #76b900; text-decoration-color: #76b900; font-weight: bold\">inefficiency. The optimal renovation date, which depends on the carbon price process, is determined using equations</span>\n",
       "<span style=\"color: #76b900; text-decoration-color: #76b900; font-weight: bold\">(</span><span style=\"color: #008080; text-decoration-color: #008080; font-weight: bold\">2.16</span><span style=\"color: #76b900; text-decoration-color: #76b900; font-weight: bold\">), (</span><span style=\"color: #008080; text-decoration-color: #008080; font-weight: bold\">2.17</span><span style=\"color: #76b900; text-decoration-color: #76b900; font-weight: bold\">), and (</span><span style=\"color: #008080; text-decoration-color: #008080; font-weight: bold\">2.18</span><span style=\"color: #76b900; text-decoration-color: #76b900; font-weight: bold\">) in the paper. The carbon price process is assumed to be a continuous deterministic </span>\n",
       "<span style=\"color: #76b900; text-decoration-color: #76b900; font-weight: bold\">process that increases over time, but other scenarios could be considered, such as a carbon price that increases </span>\n",
       "<span style=\"color: #76b900; text-decoration-color: #76b900; font-weight: bold\">until a certain year before leveling off or even decreasing. It is also assumed that there is a unique carbon price</span>\n",
       "<span style=\"color: #76b900; text-decoration-color: #76b900; font-weight: bold\">for the entire economy, although the framework can be adapted to various sectors and scenarios.</span>\n",
       "\n",
       "\n",
       "</pre>\n"
      ],
      "text/plain": [
       "\u001b[1;38;2;118;185;0mSynth Answer: Answer: The proposed model in the paper extends the sales comparison approach and the income approach\u001b[0m\n",
       "\u001b[1;38;2;118;185;0mto value an energy inefficient real estate asset. The value of such an asset is obtained as the difference between \u001b[0m\n",
       "\u001b[1;38;2;118;185;0mthe price of an equivalent efficient building, following an exponential Ornstein-Uhlenbeck process, minus the \u001b[0m\n",
       "\u001b[1;38;2;118;185;0mactualized renovation costs and the actualized sum of future additional energy costs due to the building's \u001b[0m\n",
       "\u001b[1;38;2;118;185;0minefficiency. The optimal renovation date, which depends on the carbon price process, is determined using equations\u001b[0m\n",
       "\u001b[1;38;2;118;185;0m(\u001b[0m\u001b[1;36m2.16\u001b[0m\u001b[1;38;2;118;185;0m)\u001b[0m\u001b[1;38;2;118;185;0m, \u001b[0m\u001b[1;38;2;118;185;0m(\u001b[0m\u001b[1;36m2.17\u001b[0m\u001b[1;38;2;118;185;0m)\u001b[0m\u001b[1;38;2;118;185;0m, and \u001b[0m\u001b[1;38;2;118;185;0m(\u001b[0m\u001b[1;36m2.18\u001b[0m\u001b[1;38;2;118;185;0m)\u001b[0m\u001b[1;38;2;118;185;0m in the paper. The carbon price process is assumed to be a continuous deterministic \u001b[0m\n",
       "\u001b[1;38;2;118;185;0mprocess that increases over time, but other scenarios could be considered, such as a carbon price that increases \u001b[0m\n",
       "\u001b[1;38;2;118;185;0muntil a certain year before leveling off or even decreasing. It is also assumed that there is a unique carbon price\u001b[0m\n",
       "\u001b[1;38;2;118;185;0mfor the entire economy, although the framework can be adapted to various sectors and scenarios.\u001b[0m\n",
       "\n",
       "\n"
      ]
     },
     "metadata": {},
     "output_type": "display_data"
    },
    {
     "data": {
      "text/html": [
       "<pre style=\"white-space:pre;overflow-x:auto;line-height:normal;font-family:Menlo,'DejaVu Sans Mono',consolas,'Courier New',monospace\"><span style=\"color: #76b900; text-decoration-color: #76b900; font-weight: bold\">RAG Answer: In the paper </span><span style=\"color: #008000; text-decoration-color: #008000\">\"Modeling the impact of Climate transition on real estate prices,\"</span><span style=\"color: #76b900; text-decoration-color: #76b900; font-weight: bold\"> the authors, Lionel </span>\n",
       "<span style=\"color: #76b900; text-decoration-color: #76b900; font-weight: bold\">Sopgouia and colleagues, propose a model to quantify the impact of climate transition on real estate assets. They </span>\n",
       "<span style=\"color: #76b900; text-decoration-color: #76b900; font-weight: bold\">consider property as an asset in an economy that is organized in sectors, driven by its productivity which is a </span>\n",
       "<span style=\"color: #76b900; text-decoration-color: #76b900; font-weight: bold\">multidimensional Ornstein-Uhlenbeck process. The climate transition is then modeled using the carbon price, which </span>\n",
       "<span style=\"color: #76b900; text-decoration-color: #76b900; font-weight: bold\">is described as a continuous deterministic process.</span>\n",
       "\n",
       "<span style=\"color: #76b900; text-decoration-color: #76b900; font-weight: bold\">The impact on real estate prices is determined by extending the sales comparison approach and the income approach. </span>\n",
       "<span style=\"color: #76b900; text-decoration-color: #76b900; font-weight: bold\">The market value of the building serving as collateral to firm n at t &gt;= </span><span style=\"color: #008080; text-decoration-color: #008080; font-weight: bold\">0</span><span style=\"color: #76b900; text-decoration-color: #76b900; font-weight: bold\">, given the carbon price sequence δ, is </span>\n",
       "<span style=\"color: #76b900; text-decoration-color: #76b900; font-weight: bold\">represented by the equation (</span><span style=\"color: #008080; text-decoration-color: #008080; font-weight: bold\">2.11</span><span style=\"color: #76b900; text-decoration-color: #76b900; font-weight: bold\">) in the paper. This equation takes into account factors such as the source of </span>\n",
       "<span style=\"color: #76b900; text-decoration-color: #76b900; font-weight: bold\">energy p, the renovation costs, and the future additional energy costs due to the building's inefficiency.</span>\n",
       "\n",
       "<span style=\"color: #76b900; text-decoration-color: #76b900; font-weight: bold\">The carbon price process is introduced as follows: for </span><span style=\"color: #008080; text-decoration-color: #008080; font-weight: bold\">0</span><span style=\"color: #76b900; text-decoration-color: #76b900; font-weight: bold\"> &lt;</span><span style=\"color: #000000; text-decoration-color: #000000; font-weight: bold\">= t≤ &lt; t‡ given, the sequence δ satisfies: for t in [</span><span style=\"color: #008080; text-decoration-color: #008080; font-weight: bold\">0</span><span style=\"color: #000000; text-decoration-color: #000000; font-weight: bold\">; </span>\n",
       "<span style=\"color: #000000; text-decoration-color: #000000; font-weight: bold\">t≤], δt = δ0, which means the carbon price is constant; for t in (t≤, t‡), δt in (R+)I, the carbon price may </span>\n",
       "<span style=\"color: #000000; text-decoration-color: #000000; font-weight: bold\">evolve; and for t &gt;= t‡, δt = δt‡ in (R+)I, which means the carbon price is constant again. It is also assumed that</span>\n",
       "<span style=\"color: #000000; text-decoration-color: #000000; font-weight: bold\">t → δt is </span><span style=\"color: #800080; text-decoration-color: #800080; font-weight: bold\">C1</span><span style=\"color: #000000; text-decoration-color: #000000; font-weight: bold\">(R+, R+).</span>\n",
       "\n",
       "<span style=\"color: #000000; text-decoration-color: #000000; font-weight: bold\">The authors also provide an example of the carbon price process, where the regulator fixes t≤ &gt;= </span><span style=\"color: #008080; text-decoration-color: #008080; font-weight: bold\">0</span><span style=\"color: #000000; text-decoration-color: #000000; font-weight: bold\"> when the </span>\n",
       "<span style=\"color: #000000; text-decoration-color: #000000; font-weight: bold\">transition starts and the transition horizon time t‡ &gt; t≤, the carbon price at the beginning of the transition </span>\n",
       "<span style=\"color: #000000; text-decoration-color: #000000; font-weight: bold\">Pcarbon &gt; </span><span style=\"color: #008080; text-decoration-color: #008080; font-weight: bold\">0</span><span style=\"color: #000000; text-decoration-color: #000000; font-weight: bold\">, at the end of the transition δt‡ &gt; Pcarbon, and the annual growth rate ηδ </span><span style=\"color: #76b900; text-decoration-color: #76b900; font-weight: bold\">&gt; </span><span style=\"color: #008080; text-decoration-color: #008080; font-weight: bold\">0</span><span style=\"color: #76b900; text-decoration-color: #76b900; font-weight: bold\">.</span>\n",
       "\n",
       "<span style=\"color: #76b900; text-decoration-color: #76b900; font-weight: bold\">Sources:</span>\n",
       "<span style=\"color: #008080; text-decoration-color: #008080; font-weight: bold\">1</span><span style=\"color: #76b900; text-decoration-color: #76b900; font-weight: bold\">. Modeling the impact of Climate transition on real estate prices</span>\n",
       "<span style=\"color: #008080; text-decoration-color: #008080; font-weight: bold\">2</span><span style=\"color: #76b900; text-decoration-color: #76b900; font-weight: bold\">. Published on </span><span style=\"color: #008080; text-decoration-color: #008080; font-weight: bold\">2024</span><span style=\"color: #76b900; text-decoration-color: #76b900; font-weight: bold\">-</span><span style=\"color: #008080; text-decoration-color: #008080; font-weight: bold\">08</span><span style=\"color: #76b900; text-decoration-color: #76b900; font-weight: bold\">-</span><span style=\"color: #008080; text-decoration-color: #008080; font-weight: bold\">05</span>\n",
       "<span style=\"color: #008080; text-decoration-color: #008080; font-weight: bold\">3</span><span style=\"color: #76b900; text-decoration-color: #76b900; font-weight: bold\">. Lionel Sopgouia</span>\n",
       "<span style=\"color: #008080; text-decoration-color: #008080; font-weight: bold\">4</span><span style=\"color: #76b900; text-decoration-color: #76b900; font-weight: bold\">. Title: Modeling the impact of Climate transition on real estate prices</span>\n",
       "\n",
       "\n",
       "</pre>\n"
      ],
      "text/plain": [
       "\u001b[1;38;2;118;185;0mRAG Answer: In the paper \u001b[0m\u001b[32m\"Modeling the impact of Climate transition on real estate prices,\"\u001b[0m\u001b[1;38;2;118;185;0m the authors, Lionel \u001b[0m\n",
       "\u001b[1;38;2;118;185;0mSopgouia and colleagues, propose a model to quantify the impact of climate transition on real estate assets. They \u001b[0m\n",
       "\u001b[1;38;2;118;185;0mconsider property as an asset in an economy that is organized in sectors, driven by its productivity which is a \u001b[0m\n",
       "\u001b[1;38;2;118;185;0mmultidimensional Ornstein-Uhlenbeck process. The climate transition is then modeled using the carbon price, which \u001b[0m\n",
       "\u001b[1;38;2;118;185;0mis described as a continuous deterministic process.\u001b[0m\n",
       "\n",
       "\u001b[1;38;2;118;185;0mThe impact on real estate prices is determined by extending the sales comparison approach and the income approach. \u001b[0m\n",
       "\u001b[1;38;2;118;185;0mThe market value of the building serving as collateral to firm n at t >= \u001b[0m\u001b[1;36m0\u001b[0m\u001b[1;38;2;118;185;0m, given the carbon price sequence δ, is \u001b[0m\n",
       "\u001b[1;38;2;118;185;0mrepresented by the equation \u001b[0m\u001b[1;38;2;118;185;0m(\u001b[0m\u001b[1;36m2.11\u001b[0m\u001b[1;38;2;118;185;0m)\u001b[0m\u001b[1;38;2;118;185;0m in the paper. This equation takes into account factors such as the source of \u001b[0m\n",
       "\u001b[1;38;2;118;185;0menergy p, the renovation costs, and the future additional energy costs due to the building's inefficiency.\u001b[0m\n",
       "\n",
       "\u001b[1;38;2;118;185;0mThe carbon price process is introduced as follows: for \u001b[0m\u001b[1;36m0\u001b[0m\u001b[1;38;2;118;185;0m \u001b[0m\u001b[1;38;2;118;185;0m<\u001b[0m\u001b[1;39m= t≤ < t‡ given, the sequence δ satisfies: for t in \u001b[0m\u001b[1;39m[\u001b[0m\u001b[1;36m0\u001b[0m\u001b[1;39m; \u001b[0m\n",
       "\u001b[1;39mt≤\u001b[0m\u001b[1;39m]\u001b[0m\u001b[1;39m, δt = δ0, which means the carbon price is constant; for t in \u001b[0m\u001b[1;39m(\u001b[0m\u001b[1;39mt≤, t‡\u001b[0m\u001b[1;39m)\u001b[0m\u001b[1;39m, δt in \u001b[0m\u001b[1;39m(\u001b[0m\u001b[1;39mR+\u001b[0m\u001b[1;39m)\u001b[0m\u001b[1;39mI, the carbon price may \u001b[0m\n",
       "\u001b[1;39mevolve; and for t >= t‡, δt = δt‡ in \u001b[0m\u001b[1;39m(\u001b[0m\u001b[1;39mR+\u001b[0m\u001b[1;39m)\u001b[0m\u001b[1;39mI, which means the carbon price is constant again. It is also assumed that\u001b[0m\n",
       "\u001b[1;39mt → δt is \u001b[0m\u001b[1;35mC1\u001b[0m\u001b[1;39m(\u001b[0m\u001b[1;39mR+, R+\u001b[0m\u001b[1;39m)\u001b[0m\u001b[1;39m.\u001b[0m\n",
       "\n",
       "\u001b[1;39mThe authors also provide an example of the carbon price process, where the regulator fixes t≤ >= \u001b[0m\u001b[1;36m0\u001b[0m\u001b[1;39m when the \u001b[0m\n",
       "\u001b[1;39mtransition starts and the transition horizon time t‡ > t≤, the carbon price at the beginning of the transition \u001b[0m\n",
       "\u001b[1;39mPcarbon > \u001b[0m\u001b[1;36m0\u001b[0m\u001b[1;39m, at the end of the transition δt‡ > Pcarbon, and the annual growth rate ηδ \u001b[0m\u001b[1;38;2;118;185;0m>\u001b[0m\u001b[1;38;2;118;185;0m \u001b[0m\u001b[1;36m0\u001b[0m\u001b[1;38;2;118;185;0m.\u001b[0m\n",
       "\n",
       "\u001b[1;38;2;118;185;0mSources:\u001b[0m\n",
       "\u001b[1;36m1\u001b[0m\u001b[1;38;2;118;185;0m. Modeling the impact of Climate transition on real estate prices\u001b[0m\n",
       "\u001b[1;36m2\u001b[0m\u001b[1;38;2;118;185;0m. Published on \u001b[0m\u001b[1;36m2024\u001b[0m\u001b[1;38;2;118;185;0m-\u001b[0m\u001b[1;36m08\u001b[0m\u001b[1;38;2;118;185;0m-\u001b[0m\u001b[1;36m05\u001b[0m\n",
       "\u001b[1;36m3\u001b[0m\u001b[1;38;2;118;185;0m. Lionel Sopgouia\u001b[0m\n",
       "\u001b[1;36m4\u001b[0m\u001b[1;38;2;118;185;0m. Title: Modeling the impact of Climate transition on real estate prices\u001b[0m\n",
       "\n",
       "\n"
      ]
     },
     "metadata": {},
     "output_type": "display_data"
    },
    {
     "data": {
      "text/html": [
       "<pre style=\"white-space:pre;overflow-x:auto;line-height:normal;font-family:Menlo,'DejaVu Sans Mono',consolas,'Courier New',monospace\"><span style=\"font-weight: bold\">Synth Evaluation: [</span><span style=\"color: #008080; text-decoration-color: #008080; font-weight: bold\">1</span><span style=\"font-weight: bold\">] Justification: While both answers provide detailed explanations of the proposed model, Answer</span>\n",
       "<span style=\"color: #008080; text-decoration-color: #008080; font-weight: bold\">2</span><span style=\"font-weight: bold\"> (New Answer) does not discuss the specific assumptions made about the carbon price process as clearly as Answer </span><span style=\"color: #008080; text-decoration-color: #008080; font-weight: bold\">1</span>\n",
       "<span style=\"font-weight: bold\">(Ground Truth). Answer </span><span style=\"color: #008080; text-decoration-color: #008080; font-weight: bold\">1</span><span style=\"font-weight: bold\"> explicitly mentions the assumption that the carbon price process is a continuous </span>\n",
       "<span style=\"font-weight: bold\">deterministic process that increases over time and could potentially have other scenarios such as leveling off or </span>\n",
       "<span style=\"font-weight: bold\">decreasing. Additionally, Answer </span><span style=\"color: #008080; text-decoration-color: #008080; font-weight: bold\">1</span><span style=\"font-weight: bold\"> highlights the assumption of a unique carbon price for the entire economy, which</span>\n",
       "<span style=\"font-weight: bold\">is not explicitly stated in Answer </span><span style=\"color: #008080; text-decoration-color: #008080; font-weight: bold\">2</span><span style=\"font-weight: bold\">. Therefore, Answer </span><span style=\"color: #008080; text-decoration-color: #008080; font-weight: bold\">1</span><span style=\"font-weight: bold\"> is more comprehensive and consistent compared to Answer </span>\n",
       "<span style=\"color: #008080; text-decoration-color: #008080; font-weight: bold\">2</span><span style=\"font-weight: bold\">.</span>\n",
       "\n",
       "\n",
       "</pre>\n"
      ],
      "text/plain": [
       "\u001b[1mSynth Evaluation: \u001b[0m\u001b[1m[\u001b[0m\u001b[1;36m1\u001b[0m\u001b[1m]\u001b[0m\u001b[1m Justification: While both answers provide detailed explanations of the proposed model, Answer\u001b[0m\n",
       "\u001b[1;36m2\u001b[0m\u001b[1m \u001b[0m\u001b[1m(\u001b[0m\u001b[1mNew Answer\u001b[0m\u001b[1m)\u001b[0m\u001b[1m does not discuss the specific assumptions made about the carbon price process as clearly as Answer \u001b[0m\u001b[1;36m1\u001b[0m\n",
       "\u001b[1m(\u001b[0m\u001b[1mGround Truth\u001b[0m\u001b[1m)\u001b[0m\u001b[1m. Answer \u001b[0m\u001b[1;36m1\u001b[0m\u001b[1m explicitly mentions the assumption that the carbon price process is a continuous \u001b[0m\n",
       "\u001b[1mdeterministic process that increases over time and could potentially have other scenarios such as leveling off or \u001b[0m\n",
       "\u001b[1mdecreasing. Additionally, Answer \u001b[0m\u001b[1;36m1\u001b[0m\u001b[1m highlights the assumption of a unique carbon price for the entire economy, which\u001b[0m\n",
       "\u001b[1mis not explicitly stated in Answer \u001b[0m\u001b[1;36m2\u001b[0m\u001b[1m. Therefore, Answer \u001b[0m\u001b[1;36m1\u001b[0m\u001b[1m is more comprehensive and consistent compared to Answer \u001b[0m\n",
       "\u001b[1;36m2\u001b[0m\u001b[1m.\u001b[0m\n",
       "\n",
       "\n"
      ]
     },
     "metadata": {},
     "output_type": "display_data"
    },
    {
     "data": {
      "text/html": [
       "<pre style=\"white-space:pre;overflow-x:auto;line-height:normal;font-family:Menlo,'DejaVu Sans Mono',consolas,'Courier New',monospace\"><span style=\"font-weight: bold\">Set </span><span style=\"color: #008080; text-decoration-color: #008080; font-weight: bold\">2</span>\n",
       "\n",
       "<span style=\"font-weight: bold\">Question: Question: How does the proposed model in the paper calculate the value of a dwelling considering its </span>\n",
       "<span style=\"font-weight: bold\">energy efficiency, and which carbon price trajectory scenarios were used for the climate transition simulation?</span>\n",
       "\n",
       "\n",
       "</pre>\n"
      ],
      "text/plain": [
       "\u001b[1mSet \u001b[0m\u001b[1;36m2\u001b[0m\n",
       "\n",
       "\u001b[1mQuestion: Question: How does the proposed model in the paper calculate the value of a dwelling considering its \u001b[0m\n",
       "\u001b[1menergy efficiency, and which carbon price trajectory scenarios were used for the climate transition simulation?\u001b[0m\n",
       "\n",
       "\n"
      ]
     },
     "metadata": {},
     "output_type": "display_data"
    },
    {
     "data": {
      "text/html": [
       "<pre style=\"white-space:pre;overflow-x:auto;line-height:normal;font-family:Menlo,'DejaVu Sans Mono',consolas,'Courier New',monospace\"><span style=\"color: #76b900; text-decoration-color: #76b900; font-weight: bold\">Synth Answer: Answer: The proposed model calculates the value of a dwelling by considering the actualized sum of </span>\n",
       "<span style=\"color: #76b900; text-decoration-color: #76b900; font-weight: bold\">cash flows before, during, and after the renovation date, when the building becomes energy efficient. The optimal </span>\n",
       "<span style=\"color: #76b900; text-decoration-color: #76b900; font-weight: bold\">renovation date is chosen rationally to maximize the property value. Four deterministic carbon price trajectory </span>\n",
       "<span style=\"color: #76b900; text-decoration-color: #76b900; font-weight: bold\">scenarios were used for climate transition simulation, namely: Net Zero </span><span style=\"color: #008080; text-decoration-color: #008080; font-weight: bold\">2050</span><span style=\"color: #76b900; text-decoration-color: #76b900; font-weight: bold\">, which limits global warming to </span><span style=\"color: #008080; text-decoration-color: #008080; font-weight: bold\">1.5</span><span style=\"color: #76b900; text-decoration-color: #76b900; font-weight: bold\">°C </span>\n",
       "<span style=\"color: #76b900; text-decoration-color: #76b900; font-weight: bold\">by reaching net zero CO2 emissions around </span><span style=\"color: #008080; text-decoration-color: #008080; font-weight: bold\">2050</span><span style=\"color: #76b900; text-decoration-color: #76b900; font-weight: bold\">, with some jurisdictions like the US, EU, and Japan reaching net </span>\n",
       "<span style=\"color: #76b900; text-decoration-color: #76b900; font-weight: bold\">zero for all GHG by this point.</span>\n",
       "\n",
       "\n",
       "</pre>\n"
      ],
      "text/plain": [
       "\u001b[1;38;2;118;185;0mSynth Answer: Answer: The proposed model calculates the value of a dwelling by considering the actualized sum of \u001b[0m\n",
       "\u001b[1;38;2;118;185;0mcash flows before, during, and after the renovation date, when the building becomes energy efficient. The optimal \u001b[0m\n",
       "\u001b[1;38;2;118;185;0mrenovation date is chosen rationally to maximize the property value. Four deterministic carbon price trajectory \u001b[0m\n",
       "\u001b[1;38;2;118;185;0mscenarios were used for climate transition simulation, namely: Net Zero \u001b[0m\u001b[1;36m2050\u001b[0m\u001b[1;38;2;118;185;0m, which limits global warming to \u001b[0m\u001b[1;36m1.5\u001b[0m\u001b[1;38;2;118;185;0m°C \u001b[0m\n",
       "\u001b[1;38;2;118;185;0mby reaching net zero CO2 emissions around \u001b[0m\u001b[1;36m2050\u001b[0m\u001b[1;38;2;118;185;0m, with some jurisdictions like the US, EU, and Japan reaching net \u001b[0m\n",
       "\u001b[1;38;2;118;185;0mzero for all GHG by this point.\u001b[0m\n",
       "\n",
       "\n"
      ]
     },
     "metadata": {},
     "output_type": "display_data"
    },
    {
     "data": {
      "text/html": [
       "<pre style=\"white-space:pre;overflow-x:auto;line-height:normal;font-family:Menlo,'DejaVu Sans Mono',consolas,'Courier New',monospace\"><span style=\"color: #76b900; text-decoration-color: #76b900; font-weight: bold\">RAG Answer: In the paper </span><span style=\"color: #008000; text-decoration-color: #008000\">\"Modeling the impact of Climate transition on real estate prices,\"</span><span style=\"color: #76b900; text-decoration-color: #76b900; font-weight: bold\"> the proposed model </span>\n",
       "<span style=\"color: #76b900; text-decoration-color: #76b900; font-weight: bold\">calculates the value of a dwelling considering its energy efficiency by obtaining its value as the difference </span>\n",
       "<span style=\"color: #76b900; text-decoration-color: #76b900; font-weight: bold\">between the price of an equivalent efficient building following an exponential Ornstein-Uhlenbeck process, as well </span>\n",
       "<span style=\"color: #76b900; text-decoration-color: #76b900; font-weight: bold\">as the actualized renovation costs and the actualized sum of the future additional energy costs. These costs are </span>\n",
       "<span style=\"color: #76b900; text-decoration-color: #76b900; font-weight: bold\">due to the inefficiency of the building before an optimal renovation date, which depends on the carbon price </span>\n",
       "<span style=\"color: #76b900; text-decoration-color: #76b900; font-weight: bold\">process (Sopgoui, </span><span style=\"color: #008080; text-decoration-color: #008080; font-weight: bold\">2024</span><span style=\"color: #76b900; text-decoration-color: #76b900; font-weight: bold\">).</span>\n",
       "\n",
       "<span style=\"color: #76b900; text-decoration-color: #76b900; font-weight: bold\">Regarding the carbon price trajectory scenarios used for the climate transition simulation, the paper mentions that</span>\n",
       "<span style=\"color: #76b900; text-decoration-color: #76b900; font-weight: bold\">the energy price is a deterministic function of the carbon price and the source of energy, and that the climate </span>\n",
       "<span style=\"color: #76b900; text-decoration-color: #76b900; font-weight: bold\">transition is declined thanks to the carbon price, which is a continuous deterministic process. However, the </span>\n",
       "<span style=\"color: #76b900; text-decoration-color: #76b900; font-weight: bold\">specific carbon price trajectory scenarios used for the simulation, such as the Divergent Net Zero or Net Zero </span><span style=\"color: #008080; text-decoration-color: #008080; font-weight: bold\">2050</span>\n",
       "<span style=\"color: #76b900; text-decoration-color: #76b900; font-weight: bold\">scenarios, are not explicitly mentioned in the provided text excerpts (Sopgoui, </span><span style=\"color: #008080; text-decoration-color: #008080; font-weight: bold\">2024</span><span style=\"color: #76b900; text-decoration-color: #76b900; font-weight: bold\">). Please refer to the original</span>\n",
       "<span style=\"color: #76b900; text-decoration-color: #76b900; font-weight: bold\">paper for more information on the carbon price trajectory scenarios used in the simulation.</span>\n",
       "\n",
       "<span style=\"color: #800080; text-decoration-color: #800080; font-weight: bold\">Reference</span><span style=\"color: #76b900; text-decoration-color: #76b900; font-weight: bold\">(s):</span>\n",
       "<span style=\"color: #76b900; text-decoration-color: #76b900; font-weight: bold\">- Sopgoui, Lionel. </span><span style=\"color: #008000; text-decoration-color: #008000\">\"Modeling the impact of Climate transition on real estate prices.\"</span><span style=\"color: #76b900; text-decoration-color: #76b900; font-weight: bold\"> </span><span style=\"color: #008080; text-decoration-color: #008080; font-weight: bold\">2024</span><span style=\"color: #76b900; text-decoration-color: #76b900; font-weight: bold\">.</span>\n",
       "\n",
       "\n",
       "</pre>\n"
      ],
      "text/plain": [
       "\u001b[1;38;2;118;185;0mRAG Answer: In the paper \u001b[0m\u001b[32m\"Modeling the impact of Climate transition on real estate prices,\"\u001b[0m\u001b[1;38;2;118;185;0m the proposed model \u001b[0m\n",
       "\u001b[1;38;2;118;185;0mcalculates the value of a dwelling considering its energy efficiency by obtaining its value as the difference \u001b[0m\n",
       "\u001b[1;38;2;118;185;0mbetween the price of an equivalent efficient building following an exponential Ornstein-Uhlenbeck process, as well \u001b[0m\n",
       "\u001b[1;38;2;118;185;0mas the actualized renovation costs and the actualized sum of the future additional energy costs. These costs are \u001b[0m\n",
       "\u001b[1;38;2;118;185;0mdue to the inefficiency of the building before an optimal renovation date, which depends on the carbon price \u001b[0m\n",
       "\u001b[1;38;2;118;185;0mprocess \u001b[0m\u001b[1;38;2;118;185;0m(\u001b[0m\u001b[1;38;2;118;185;0mSopgoui, \u001b[0m\u001b[1;36m2024\u001b[0m\u001b[1;38;2;118;185;0m)\u001b[0m\u001b[1;38;2;118;185;0m.\u001b[0m\n",
       "\n",
       "\u001b[1;38;2;118;185;0mRegarding the carbon price trajectory scenarios used for the climate transition simulation, the paper mentions that\u001b[0m\n",
       "\u001b[1;38;2;118;185;0mthe energy price is a deterministic function of the carbon price and the source of energy, and that the climate \u001b[0m\n",
       "\u001b[1;38;2;118;185;0mtransition is declined thanks to the carbon price, which is a continuous deterministic process. However, the \u001b[0m\n",
       "\u001b[1;38;2;118;185;0mspecific carbon price trajectory scenarios used for the simulation, such as the Divergent Net Zero or Net Zero \u001b[0m\u001b[1;36m2050\u001b[0m\n",
       "\u001b[1;38;2;118;185;0mscenarios, are not explicitly mentioned in the provided text excerpts \u001b[0m\u001b[1;38;2;118;185;0m(\u001b[0m\u001b[1;38;2;118;185;0mSopgoui, \u001b[0m\u001b[1;36m2024\u001b[0m\u001b[1;38;2;118;185;0m)\u001b[0m\u001b[1;38;2;118;185;0m. Please refer to the original\u001b[0m\n",
       "\u001b[1;38;2;118;185;0mpaper for more information on the carbon price trajectory scenarios used in the simulation.\u001b[0m\n",
       "\n",
       "\u001b[1;35mReference\u001b[0m\u001b[1;38;2;118;185;0m(\u001b[0m\u001b[1;38;2;118;185;0ms\u001b[0m\u001b[1;38;2;118;185;0m)\u001b[0m\u001b[1;38;2;118;185;0m:\u001b[0m\n",
       "\u001b[1;38;2;118;185;0m- Sopgoui, Lionel. \u001b[0m\u001b[32m\"Modeling the impact of Climate transition on real estate prices.\"\u001b[0m\u001b[1;38;2;118;185;0m \u001b[0m\u001b[1;36m2024\u001b[0m\u001b[1;38;2;118;185;0m.\u001b[0m\n",
       "\n",
       "\n"
      ]
     },
     "metadata": {},
     "output_type": "display_data"
    },
    {
     "data": {
      "text/html": [
       "<pre style=\"white-space:pre;overflow-x:auto;line-height:normal;font-family:Menlo,'DejaVu Sans Mono',consolas,'Courier New',monospace\"><span style=\"font-weight: bold\">Synth Evaluation: [</span><span style=\"color: #008080; text-decoration-color: #008080; font-weight: bold\">1</span><span style=\"font-weight: bold\">] Justification: While Answer </span><span style=\"color: #008080; text-decoration-color: #008080; font-weight: bold\">2</span><span style=\"font-weight: bold\"> does provide some additional information about the method of </span>\n",
       "<span style=\"font-weight: bold\">calculation for the value of a dwelling, it introduces inconsistencies when compared to Answer </span><span style=\"color: #008080; text-decoration-color: #008080; font-weight: bold\">1</span><span style=\"font-weight: bold\">, which is assumed </span>\n",
       "<span style=\"font-weight: bold\">to be the ground truth. Answer </span><span style=\"color: #008080; text-decoration-color: #008080; font-weight: bold\">2</span><span style=\"font-weight: bold\"> suggests a different method of calculating the value of a dwelling, which </span>\n",
       "<span style=\"font-weight: bold\">contradicts the ground truth provided in Answer </span><span style=\"color: #008080; text-decoration-color: #008080; font-weight: bold\">1</span><span style=\"font-weight: bold\">. Furthermore, Answer </span><span style=\"color: #008080; text-decoration-color: #008080; font-weight: bold\">2</span><span style=\"font-weight: bold\"> does not explicitly mention the four </span>\n",
       "<span style=\"font-weight: bold\">deterministic carbon price trajectory scenarios outlined in Answer </span><span style=\"color: #008080; text-decoration-color: #008080; font-weight: bold\">1</span><span style=\"font-weight: bold\">, instead mentioning that specific carbon price</span>\n",
       "<span style=\"font-weight: bold\">trajectory scenarios used for the simulation are not explicitly mentioned in the provided text excerpts. Therefore,</span>\n",
       "<span style=\"font-weight: bold\">Answer </span><span style=\"color: #008080; text-decoration-color: #008080; font-weight: bold\">2</span><span style=\"font-weight: bold\"> is inferior to Answer </span><span style=\"color: #008080; text-decoration-color: #008080; font-weight: bold\">1</span><span style=\"font-weight: bold\"> and introduces inconsistencies, making it less preferable from a human </span>\n",
       "<span style=\"font-weight: bold\">perspective.</span>\n",
       "\n",
       "\n",
       "</pre>\n"
      ],
      "text/plain": [
       "\u001b[1mSynth Evaluation: \u001b[0m\u001b[1m[\u001b[0m\u001b[1;36m1\u001b[0m\u001b[1m]\u001b[0m\u001b[1m Justification: While Answer \u001b[0m\u001b[1;36m2\u001b[0m\u001b[1m does provide some additional information about the method of \u001b[0m\n",
       "\u001b[1mcalculation for the value of a dwelling, it introduces inconsistencies when compared to Answer \u001b[0m\u001b[1;36m1\u001b[0m\u001b[1m, which is assumed \u001b[0m\n",
       "\u001b[1mto be the ground truth. Answer \u001b[0m\u001b[1;36m2\u001b[0m\u001b[1m suggests a different method of calculating the value of a dwelling, which \u001b[0m\n",
       "\u001b[1mcontradicts the ground truth provided in Answer \u001b[0m\u001b[1;36m1\u001b[0m\u001b[1m. Furthermore, Answer \u001b[0m\u001b[1;36m2\u001b[0m\u001b[1m does not explicitly mention the four \u001b[0m\n",
       "\u001b[1mdeterministic carbon price trajectory scenarios outlined in Answer \u001b[0m\u001b[1;36m1\u001b[0m\u001b[1m, instead mentioning that specific carbon price\u001b[0m\n",
       "\u001b[1mtrajectory scenarios used for the simulation are not explicitly mentioned in the provided text excerpts. Therefore,\u001b[0m\n",
       "\u001b[1mAnswer \u001b[0m\u001b[1;36m2\u001b[0m\u001b[1m is inferior to Answer \u001b[0m\u001b[1;36m1\u001b[0m\u001b[1m and introduces inconsistencies, making it less preferable from a human \u001b[0m\n",
       "\u001b[1mperspective.\u001b[0m\n",
       "\n",
       "\n"
      ]
     },
     "metadata": {},
     "output_type": "display_data"
    },
    {
     "data": {
      "text/html": [
       "<pre style=\"white-space:pre;overflow-x:auto;line-height:normal;font-family:Menlo,'DejaVu Sans Mono',consolas,'Courier New',monospace\"><span style=\"font-weight: bold\">Set </span><span style=\"color: #008080; text-decoration-color: #008080; font-weight: bold\">3</span>\n",
       "\n",
       "<span style=\"font-weight: bold\">Question: Question: How does the energy efficiency of a building impact its growth in value over time, considering </span>\n",
       "<span style=\"font-weight: bold\">the climate transition and renovation costs, based on simulations of the French housing market?</span>\n",
       "\n",
       "\n",
       "</pre>\n"
      ],
      "text/plain": [
       "\u001b[1mSet \u001b[0m\u001b[1;36m3\u001b[0m\n",
       "\n",
       "\u001b[1mQuestion: Question: How does the energy efficiency of a building impact its growth in value over time, considering \u001b[0m\n",
       "\u001b[1mthe climate transition and renovation costs, based on simulations of the French housing market?\u001b[0m\n",
       "\n",
       "\n"
      ]
     },
     "metadata": {},
     "output_type": "display_data"
    },
    {
     "data": {
      "text/html": [
       "<pre style=\"white-space:pre;overflow-x:auto;line-height:normal;font-family:Menlo,'DejaVu Sans Mono',consolas,'Courier New',monospace\"><span style=\"color: #76b900; text-decoration-color: #76b900; font-weight: bold\">Synth Answer: Answer: According to the presented papers, the energy efficiency of a building impacts its growth in </span>\n",
       "<span style=\"color: #76b900; text-decoration-color: #76b900; font-weight: bold\">value differently over time. While almost all building prices continue to grow with time, those with higher energy </span>\n",
       "<span style=\"color: #76b900; text-decoration-color: #76b900; font-weight: bold\">efficiency are less affected by the impact of the climate transition through energy and renovation costs. </span>\n",
       "<span style=\"color: #76b900; text-decoration-color: #76b900; font-weight: bold\">Furthermore, renovation costs have a stronger impact on building prices in the beginning, and as time passes, the </span>\n",
       "<span style=\"color: #76b900; text-decoration-color: #76b900; font-weight: bold\">effect of renovation costs decreases due to the approaching end of the climate transition and potential renovation </span>\n",
       "<span style=\"color: #76b900; text-decoration-color: #76b900; font-weight: bold\">dates. For example, in the case of Net Zero </span><span style=\"color: #008080; text-decoration-color: #008080; font-weight: bold\">2050</span><span style=\"color: #76b900; text-decoration-color: #76b900; font-weight: bold\"> scenario, the average annual slowdown in housing price growth </span>\n",
       "<span style=\"color: #76b900; text-decoration-color: #76b900; font-weight: bold\">ranges from </span><span style=\"color: #008080; text-decoration-color: #008080; font-weight: bold\">-29.776</span><span style=\"color: #76b900; text-decoration-color: #76b900; font-weight: bold\">% to </span><span style=\"color: #008080; text-decoration-color: #008080; font-weight: bold\">-0.263</span><span style=\"color: #76b900; text-decoration-color: #76b900; font-weight: bold\">% compared to the Current Policies scenario between </span><span style=\"color: #008080; text-decoration-color: #008080; font-weight: bold\">2021</span><span style=\"color: #76b900; text-decoration-color: #76b900; font-weight: bold\"> and </span><span style=\"color: #008080; text-decoration-color: #008080; font-weight: bold\">2030</span><span style=\"color: #76b900; text-decoration-color: #76b900; font-weight: bold\">.</span>\n",
       "\n",
       "\n",
       "</pre>\n"
      ],
      "text/plain": [
       "\u001b[1;38;2;118;185;0mSynth Answer: Answer: According to the presented papers, the energy efficiency of a building impacts its growth in \u001b[0m\n",
       "\u001b[1;38;2;118;185;0mvalue differently over time. While almost all building prices continue to grow with time, those with higher energy \u001b[0m\n",
       "\u001b[1;38;2;118;185;0mefficiency are less affected by the impact of the climate transition through energy and renovation costs. \u001b[0m\n",
       "\u001b[1;38;2;118;185;0mFurthermore, renovation costs have a stronger impact on building prices in the beginning, and as time passes, the \u001b[0m\n",
       "\u001b[1;38;2;118;185;0meffect of renovation costs decreases due to the approaching end of the climate transition and potential renovation \u001b[0m\n",
       "\u001b[1;38;2;118;185;0mdates. For example, in the case of Net Zero \u001b[0m\u001b[1;36m2050\u001b[0m\u001b[1;38;2;118;185;0m scenario, the average annual slowdown in housing price growth \u001b[0m\n",
       "\u001b[1;38;2;118;185;0mranges from \u001b[0m\u001b[1;36m-29.776\u001b[0m\u001b[1;38;2;118;185;0m% to \u001b[0m\u001b[1;36m-0.263\u001b[0m\u001b[1;38;2;118;185;0m% compared to the Current Policies scenario between \u001b[0m\u001b[1;36m2021\u001b[0m\u001b[1;38;2;118;185;0m and \u001b[0m\u001b[1;36m2030\u001b[0m\u001b[1;38;2;118;185;0m.\u001b[0m\n",
       "\n",
       "\n"
      ]
     },
     "metadata": {},
     "output_type": "display_data"
    },
    {
     "data": {
      "text/html": [
       "<pre style=\"white-space:pre;overflow-x:auto;line-height:normal;font-family:Menlo,'DejaVu Sans Mono',consolas,'Courier New',monospace\"><span style=\"color: #76b900; text-decoration-color: #76b900; font-weight: bold\">RAG Answer: According to the research paper </span><span style=\"color: #008000; text-decoration-color: #008000\">\"Modeling the impact of Climate transition on real estate prices\"</span><span style=\"color: #76b900; text-decoration-color: #76b900; font-weight: bold\"> by </span>\n",
       "<span style=\"color: #76b900; text-decoration-color: #76b900; font-weight: bold\">Lionel Sopgoui, energy efficiency significantly impacts a building's growth in value over time, considering the </span>\n",
       "<span style=\"color: #76b900; text-decoration-color: #76b900; font-weight: bold\">climate transition and renovation costs. The study presents a model to quantify the impact of climate transition on</span>\n",
       "<span style=\"color: #76b900; text-decoration-color: #76b900; font-weight: bold\">a property in the housing market, with the economy's productivity being a multidimensional Ornstein-Uhlenbeck </span>\n",
       "<span style=\"color: #76b900; text-decoration-color: #76b900; font-weight: bold\">process.</span>\n",
       "\n",
       "<span style=\"color: #76b900; text-decoration-color: #76b900; font-weight: bold\">In their approach, the value of an energy-inefficient real estate asset is determined by subtracting the actualized</span>\n",
       "<span style=\"color: #76b900; text-decoration-color: #76b900; font-weight: bold\">renovation costs and the actualized sum of future additional energy costs from the price of an equivalent efficient</span>\n",
       "<span style=\"color: #76b900; text-decoration-color: #76b900; font-weight: bold\">building. These additional costs stem from the building's inefficiency before an optimal renovation date that </span>\n",
       "<span style=\"color: #76b900; text-decoration-color: #76b900; font-weight: bold\">depends on the carbon price process.</span>\n",
       "\n",
       "<span style=\"color: #76b900; text-decoration-color: #76b900; font-weight: bold\">The study considers </span><span style=\"color: #008080; text-decoration-color: #008080; font-weight: bold\">5</span><span style=\"color: #76b900; text-decoration-color: #76b900; font-weight: bold\"> buildings located in the French economy, each with different energy efficiencies. All </span>\n",
       "<span style=\"color: #76b900; text-decoration-color: #76b900; font-weight: bold\">buildings continue to increase in value over time, but their growths are affected differently by their respective </span>\n",
       "<span style=\"color: #76b900; text-decoration-color: #76b900; font-weight: bold\">energy efficiencies. The impact of energy and renovation costs is more significant in the early stages, and as time</span>\n",
       "<span style=\"color: #76b900; text-decoration-color: #76b900; font-weight: bold\">passes, the economy gets closer to the end of the climate transition, as well as potential renovation dates.</span>\n",
       "\n",
       "<span style=\"color: #76b900; text-decoration-color: #76b900; font-weight: bold\">Ultimately, the research concludes that the order of magnitude of depreciation due to energy inefficiency, as </span>\n",
       "<span style=\"color: #76b900; text-decoration-color: #76b900; font-weight: bold\">obtained by the model, is consistent with empirical observations. Hence, improving the energy efficiency of a </span>\n",
       "<span style=\"color: #76b900; text-decoration-color: #76b900; font-weight: bold\">building can help minimize the negative impact of climate transition on its growth in value over time.</span>\n",
       "\n",
       "\n",
       "</pre>\n"
      ],
      "text/plain": [
       "\u001b[1;38;2;118;185;0mRAG Answer: According to the research paper \u001b[0m\u001b[32m\"Modeling the impact of Climate transition on real estate prices\"\u001b[0m\u001b[1;38;2;118;185;0m by \u001b[0m\n",
       "\u001b[1;38;2;118;185;0mLionel Sopgoui, energy efficiency significantly impacts a building's growth in value over time, considering the \u001b[0m\n",
       "\u001b[1;38;2;118;185;0mclimate transition and renovation costs. The study presents a model to quantify the impact of climate transition on\u001b[0m\n",
       "\u001b[1;38;2;118;185;0ma property in the housing market, with the economy's productivity being a multidimensional Ornstein-Uhlenbeck \u001b[0m\n",
       "\u001b[1;38;2;118;185;0mprocess.\u001b[0m\n",
       "\n",
       "\u001b[1;38;2;118;185;0mIn their approach, the value of an energy-inefficient real estate asset is determined by subtracting the actualized\u001b[0m\n",
       "\u001b[1;38;2;118;185;0mrenovation costs and the actualized sum of future additional energy costs from the price of an equivalent efficient\u001b[0m\n",
       "\u001b[1;38;2;118;185;0mbuilding. These additional costs stem from the building's inefficiency before an optimal renovation date that \u001b[0m\n",
       "\u001b[1;38;2;118;185;0mdepends on the carbon price process.\u001b[0m\n",
       "\n",
       "\u001b[1;38;2;118;185;0mThe study considers \u001b[0m\u001b[1;36m5\u001b[0m\u001b[1;38;2;118;185;0m buildings located in the French economy, each with different energy efficiencies. All \u001b[0m\n",
       "\u001b[1;38;2;118;185;0mbuildings continue to increase in value over time, but their growths are affected differently by their respective \u001b[0m\n",
       "\u001b[1;38;2;118;185;0menergy efficiencies. The impact of energy and renovation costs is more significant in the early stages, and as time\u001b[0m\n",
       "\u001b[1;38;2;118;185;0mpasses, the economy gets closer to the end of the climate transition, as well as potential renovation dates.\u001b[0m\n",
       "\n",
       "\u001b[1;38;2;118;185;0mUltimately, the research concludes that the order of magnitude of depreciation due to energy inefficiency, as \u001b[0m\n",
       "\u001b[1;38;2;118;185;0mobtained by the model, is consistent with empirical observations. Hence, improving the energy efficiency of a \u001b[0m\n",
       "\u001b[1;38;2;118;185;0mbuilding can help minimize the negative impact of climate transition on its growth in value over time.\u001b[0m\n",
       "\n",
       "\n"
      ]
     },
     "metadata": {},
     "output_type": "display_data"
    },
    {
     "data": {
      "text/html": [
       "<pre style=\"white-space:pre;overflow-x:auto;line-height:normal;font-family:Menlo,'DejaVu Sans Mono',consolas,'Courier New',monospace\"><span style=\"font-weight: bold\">Synth Evaluation: [</span><span style=\"color: #008080; text-decoration-color: #008080; font-weight: bold\">2</span><span style=\"font-weight: bold\">] The second answer is better than the first and does not introduce any inconsistencies.</span>\n",
       "\n",
       "<span style=\"font-weight: bold\">Justification:</span>\n",
       "<span style=\"font-weight: bold\">The second answer is more detailed and provides more specific information about the impact of energy efficiency on </span>\n",
       "<span style=\"font-weight: bold\">building growth in value over time. It references a research paper by Lionel Sopgoui, providing a clear explanation</span>\n",
       "<span style=\"font-weight: bold\">of the methodology used in the study. The second answer also gives specific examples of the impact of energy </span>\n",
       "<span style=\"font-weight: bold\">efficiency on the value of different buildings and mentions the role of the optimal renovation date depending on </span>\n",
       "<span style=\"font-weight: bold\">the carbon price process. This additional information makes the second answer more comprehensive and informative </span>\n",
       "<span style=\"font-weight: bold\">than the first.</span>\n",
       "\n",
       "\n",
       "</pre>\n"
      ],
      "text/plain": [
       "\u001b[1mSynth Evaluation: \u001b[0m\u001b[1m[\u001b[0m\u001b[1;36m2\u001b[0m\u001b[1m]\u001b[0m\u001b[1m The second answer is better than the first and does not introduce any inconsistencies.\u001b[0m\n",
       "\n",
       "\u001b[1mJustification:\u001b[0m\n",
       "\u001b[1mThe second answer is more detailed and provides more specific information about the impact of energy efficiency on \u001b[0m\n",
       "\u001b[1mbuilding growth in value over time. It references a research paper by Lionel Sopgoui, providing a clear explanation\u001b[0m\n",
       "\u001b[1mof the methodology used in the study. The second answer also gives specific examples of the impact of energy \u001b[0m\n",
       "\u001b[1mefficiency on the value of different buildings and mentions the role of the optimal renovation date depending on \u001b[0m\n",
       "\u001b[1mthe carbon price process. This additional information makes the second answer more comprehensive and informative \u001b[0m\n",
       "\u001b[1mthan the first.\u001b[0m\n",
       "\n",
       "\n"
      ]
     },
     "metadata": {},
     "output_type": "display_data"
    }
   ],
   "source": [
    "eval_prompt = ChatPromptTemplate.from_template(\"\"\"INSTRUCTION: \n",
    "Evaluate the following Question-Answer pair for human preference and consistency.\n",
    "Assume the first answer is a ground truth answer and has to be correct.\n",
    "Assume the second answer may or may not be true.\n",
    "[1] The second answer lies, does not answer the question, or is inferior to the first answer.\n",
    "[2] The second answer is better than the first and does not introduce any inconsistencies.\n",
    "\n",
    "Output Format:\n",
    "[Score] Justification\n",
    "\n",
    "{qa_trio}\n",
    "\n",
    "EVALUATION: \n",
    "\"\"\")\n",
    "\n",
    "pref_score = []\n",
    "\n",
    "trio_gen = zip(synth_questions, synth_answers, rag_answers)\n",
    "for i, (q, a_synth, a_rag) in enumerate(trio_gen):\n",
    "    pprint2(f\"Set {i+1}\\n\\nQuestion: {q}\\n\\n\")\n",
    "\n",
    "    qa_trio = f\"Question: {q}\\n\\nAnswer 1 (Ground Truth): {a_synth}\\n\\n Answer 2 (New Answer): {a_rag}\"\n",
    "    pref_score += [(eval_prompt | llm).invoke({'qa_trio': qa_trio})]\n",
    "    pprint(f\"Synth Answer: {a_synth}\\n\\n\")\n",
    "    pprint(f\"RAG Answer: {a_rag}\\n\\n\")\n",
    "    pprint2(f\"Synth Evaluation: {pref_score[-1]}\\n\\n\")"
   ]
  },
  {
   "cell_type": "markdown",
   "metadata": {},
   "source": [
    "<br>\n",
    "\n",
    "**Congratulations! We now have an LLM system that reasons about our pipeline and tries to evaluate it!** Now that we have some judge results, we can simply aggregate the results and see how often our formulation was according to an LLM:"
   ]
  },
  {
   "cell_type": "code",
   "execution_count": 18,
   "metadata": {
    "id": "3L_q6fMH3i6_"
   },
   "outputs": [
    {
     "name": "stdout",
     "output_type": "stream",
     "text": [
      "Preference Score: 0.3333333333333333\n"
     ]
    }
   ],
   "source": [
    "pref_score = sum((\"[2]\" in score) for score in pref_score) / len(pref_score)\n",
    "print(f\"Preference Score: {pref_score}\")"
   ]
  },
  {
   "cell_type": "markdown",
   "metadata": {
    "id": "cf80bf04-118d-44a2-a740-361a756a1d5f"
   },
   "source": [
    "----\n",
    "\n",
    "<br>\n",
    "\n",
    "## **Part 4:** Advanced Formulations\n",
    "\n",
    "The exercise above was meant to prepare you for the final assessment of the course and showcased a simple but effective evaluator chain. The objective and implementation details were provided for you, and the logic for using it probably makes sense now that you've seen it in action. \n",
    "\n",
    "With that being said, this metric was merely a product of us specifying:\n",
    "- **What kind of behavior is important for our pipeline to have?**\n",
    "- **What do we need to do in order to exhibit and evaluate this behavior?**\n",
    "\n",
    "From these two questions, we could have come up with plenty of other evaluation metrics that could have assessed different attributes, incorporated different evaluator chain techniques, and even required different pipeline organization strategies. Though far from an exhaustive list, some common formulations you will likely come across may include:\n",
    "\n",
    "- **Style Evaluation:** Some evaluation formulations can be as simple as \"let me ask some questions and see if the output feels desirable.\" This might be used to see whether a chatbot \"acts like it's supposed to\" based on a description provided to a judge LLM. We're using quotations since this kind of assessment can reasonably be achieved with nothing but prompt engineering and a while loop.\n",
    "\n",
    "- **Ground-Truth Evaluation:** In our chain, we used synthetic generation to create some random questions and answers using a sampling strategy, but in reality you may actually have some representative questions and answers that you need your chatbot to consistently get right! In this case, a modification of the exercise chain above should be implemented and closely monitored as you develop your pipelines.\n",
    "\n",
    "- **Retrieval/Augmentation Evaluation:** This course made many assumptions about what kinds of preprocessing and prompting steps would be good for your pipelines, and much of this was determined by experimentation. Factors such as document preprocessing, chunking strategies, model selection, and prompt specification all played important roles, so creating metrics to validate these decisions may be of interest. This kind of metric might require your pipeline to output your context chunks or may even rely solely on embedding similarity comparisons, so keep this in mind when trying to implement a chain that works with multiple evaluation strategies. Consider the [**RagasEvaluatorChain**](https://docs.ragas.io/en/latest/howtos/integrations/langchain.html) abstraction as a decent starting point for making an custom generalizable evaluation routine. \n",
    "\n",
    "- **Trajectory Evaluation:** Using more advanced agent formulations, you can implement multiple-query strategies that assume the presence of conversational memory. With this, you can implement an evaluation agent which can:\n",
    "    - Ask a series of questions in order to evaluate how well the agent is able to adapt and cater to the scenario. This kind of system generally considers a series of correspondence and aims to tease out and evaluate a \"trajectory\" of how the agent navigated the conversation. The [**LangChain Trajectory Evaluators documentation**](https://python.langchain.com/docs/guides/evaluation/trajectory/) is a good starting point.\n",
    "    - Alternatively, you could also implement an evaluation agent that tries to achieve objectives by interacting with the chatbot. Such an agent can output whether they were able to navigate to their solution in a natural manner, and can even be used to generate a report about the percieved performance. The [**LangChain Agents documentation**](https://python.langchain.com/docs/modules/agents/concepts) is a good starting point!\n",
    "\n",
    "<br>\n",
    "\n",
    "At the end of the day, just make sure to use the tools you have at your disposal appropriately. By this point in the course, you should already be well-acquainted with the LLM core value propositions: **They're powerful, scalable, predictable, controllable, and orchestratable... but will act unpredictably when you just expect them to work by default.** Assess your needs, formulate and validate your pipelines, give enough information, and add as much control as you can to make your system work consistently, efficiently, and effectively."
   ]
  },
  {
   "cell_type": "markdown",
   "metadata": {},
   "source": [
    "----\n",
    "\n",
    "<br>\n",
    "\n",
    "## **Part 5: [Assessment]** Evaluating For Credit\n",
    "\n",
    "Welcome to the last exercise of the course! Hopefully you've enjoyed the material and are ready to actually get credit for these notebooks! For this part:\n",
    "\n",
    "- **Make sure you're in the course environment**\n",
    "- **Make sure `docstore_index/` has been uploaded to the course environment...**\n",
    "    - **...and contains [at least one Arxiv paper](https://arxiv.org/search/advanced) which has been updated recently.**\n",
    "- **Make sure [`35_langserve.ipynb`](35_langserve.ipynb) is not occupying port 9012 with a running FastAPI service**\n",
    "\n",
    "**Objective:** On launch, [**`frontend/frontend_block.py`**](frontend/frontend_block.py) had several lines of code which trigger the course pass condition. Once the service was deemed healthy, that sequence of code was replaced with `## secret` by another microservice. Your objective is to invoke that series of commands by using your pipeline to pass the **Evaluation** check! Recall [`35_langserve.ipynb`](35_langserve.ipynb) and use it as a starting example! As a recommendation, consider duplicating it so that you can keep the original as an authoritative reference. \n",
    "\n",
    "**Once Finished:** While your course environment is still open, please navigate back to your course environment launcher area and click the **\"Assess Task\"** button! After that, you're all done!"
   ]
  },
  {
   "cell_type": "code",
   "execution_count": 20,
   "metadata": {},
   "outputs": [
    {
     "data": {
      "application/javascript": [
       "var url = 'http://'+window.location.host+'/8090';\n",
       "element.innerHTML = '<a style=\"color:green;\" target=\"_blank\" href='+url+'><h1>< Link To Gradio Frontend ></h1></a>';\n"
      ],
      "text/plain": [
       "<IPython.core.display.Javascript object>"
      ]
     },
     "metadata": {},
     "output_type": "display_data"
    }
   ],
   "source": [
    "%%js\n",
    "var url = 'http://'+window.location.host+'/8090';\n",
    "element.innerHTML = '<a style=\"color:green;\" target=\"_blank\" href='+url+'><h1>< Link To Gradio Frontend ></h1></a>';"
   ]
  },
  {
   "cell_type": "markdown",
   "metadata": {
    "id": "5aff364c-519e-435e-bf1d-ce68a12d13e0"
   },
   "source": [
    "----\n",
    "\n",
    "<br>\n",
    "\n",
    "## <font color=\"#76b900\">**Congratulations On Completing The Course**</font>\n",
    "\n",
    "Hopefully this course was not only exciting and challenging, but also adequately prepared you for work on the cutting edge of LLM and RAG system development! Going forward, you should have the skills necessary to tackle industry-level challenges and explore RAG deployment with open-source models and frameworks.\n",
    "\n",
    "**Some NVIDIA-specific releases related to this that you may find interesting include:**\n",
    "- [**NVIDIA NIMs**](https://www.nvidia.com/en-us/ai/), which offers microservice spinup routines that can be deployed on local compute.\n",
    "- [**TensorRT-LLM**](https://github.com/NVIDIA/TensorRT-LLM) is the current recommended framework for deploying GPU-accelerated LLM model engines in production settings.\n",
    "- [**NVIDIA's Generative AI Examples Repo**](https://github.com/NVIDIA/GenerativeAIExamples), which includes the current canonical microservice example application and will be updated with new resources as new production workflows get released.\n",
    "- [**The Knowledge-Based Chatbot Technical Brief**](https://resources.nvidia.com/en-us-generative-ai-chatbot-workflow/knowledge-base-chatbot-technical-brief) which discusses additional publicly-accessible details on productionalizing RAG systems.\n",
    "\n",
    "**Additionally, some key topics you may be interested in delving more into include:**\n",
    "- [**LlamaIndex**](https://www.llamaindex.ai/), which has strong components that can augment and occasionally improve upon the LangChain RAG features.\n",
    "- [**LangSmith**](https://docs.smith.langchain.com/), an upcoming agent productionalization service offered by LangChain.\n",
    "- [**Gradio**](https://www.gradio.app/), though touched on in the course, has many more interface options which will be worth investigating. For inspiration, consider checking out [**HuggingFace Spaces**](https://huggingface.co/spaces) for examples.\n",
    "- [**LangGraph**](https://python.langchain.com/docs/langgraph/) is a framework for graph-based LLM orchestration, and is a natural next step forward for those interested in [multi-agent workflows](https://blog.langchain.dev/langgraph-multi-agent-workflows/).\n",
    "- [**DSPy**](https://github.com/stanfordnlp/dspy), a flow engineering framework that allows you to optimize LLM orchestration pipelines based on empirical performance results."
   ]
  },
  {
   "cell_type": "markdown",
   "metadata": {
    "id": "035451c9-ed12-4bc3-b468-04db5c399e03"
   },
   "source": [
    "<center><a href=\"https://www.nvidia.com/en-us/training/\"><img src=\"https://dli-lms.s3.amazonaws.com/assets/general/DLI_Header_White.png\" width=\"400\" height=\"186\" /></a></center>"
   ]
  }
 ],
 "metadata": {
  "colab": {
   "provenance": []
  },
  "kernelspec": {
   "display_name": "Python 3",
   "language": "python",
   "name": "python3"
  },
  "language_info": {
   "codemirror_mode": {
    "name": "ipython",
    "version": 3
   },
   "file_extension": ".py",
   "mimetype": "text/x-python",
   "name": "python",
   "nbconvert_exporter": "python",
   "pygments_lexer": "ipython3",
   "version": "3.8.5"
  }
 },
 "nbformat": 4,
 "nbformat_minor": 5
}
